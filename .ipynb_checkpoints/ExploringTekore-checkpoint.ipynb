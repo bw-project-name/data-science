{
 "cells": [
  {
   "cell_type": "code",
   "execution_count": 1,
   "metadata": {},
   "outputs": [
    {
     "name": "stdout",
     "output_type": "stream",
     "text": [
      "Requirement already satisfied: tekore in c:\\users\\owner\\appdata\\local\\programs\\python\\python38-32\\lib\\site-packages (2.1.2)\n",
      "Requirement already satisfied: httpx<0.14,>=0.11 in c:\\users\\owner\\appdata\\local\\programs\\python\\python38-32\\lib\\site-packages (from tekore) (0.13.3)\n",
      "Requirement already satisfied: requests~=2.19 in c:\\users\\owner\\appdata\\local\\programs\\python\\python38-32\\lib\\site-packages (from tekore) (2.24.0)\n",
      "Requirement already satisfied: hstspreload in c:\\users\\owner\\appdata\\local\\programs\\python\\python38-32\\lib\\site-packages (from httpx<0.14,>=0.11->tekore) (2020.7.22)\n",
      "Requirement already satisfied: sniffio in c:\\users\\owner\\appdata\\local\\programs\\python\\python38-32\\lib\\site-packages (from httpx<0.14,>=0.11->tekore) (1.1.0)\n",
      "Requirement already satisfied: idna==2.* in c:\\users\\owner\\appdata\\local\\programs\\python\\python38-32\\lib\\site-packages (from httpx<0.14,>=0.11->tekore) (2.10)\n",
      "Requirement already satisfied: rfc3986<2,>=1.3 in c:\\users\\owner\\appdata\\local\\programs\\python\\python38-32\\lib\\site-packages (from httpx<0.14,>=0.11->tekore) (1.4.0)\n",
      "Requirement already satisfied: httpcore==0.9.* in c:\\users\\owner\\appdata\\local\\programs\\python\\python38-32\\lib\\site-packages (from httpx<0.14,>=0.11->tekore) (0.9.1)\n",
      "Requirement already satisfied: chardet==3.* in c:\\users\\owner\\appdata\\local\\programs\\python\\python38-32\\lib\\site-packages (from httpx<0.14,>=0.11->tekore) (3.0.4)\n",
      "Requirement already satisfied: certifi in c:\\users\\owner\\appdata\\local\\programs\\python\\python38-32\\lib\\site-packages (from httpx<0.14,>=0.11->tekore) (2020.4.5.1)\n",
      "Requirement already satisfied: urllib3!=1.25.0,!=1.25.1,<1.26,>=1.21.1 in c:\\users\\owner\\appdata\\local\\programs\\python\\python38-32\\lib\\site-packages (from requests~=2.19->tekore) (1.25.9)\n",
      "Requirement already satisfied: h11<0.10,>=0.8 in c:\\users\\owner\\appdata\\local\\programs\\python\\python38-32\\lib\\site-packages (from httpcore==0.9.*->httpx<0.14,>=0.11->tekore) (0.9.0)\n",
      "Requirement already satisfied: h2==3.* in c:\\users\\owner\\appdata\\local\\programs\\python\\python38-32\\lib\\site-packages (from httpcore==0.9.*->httpx<0.14,>=0.11->tekore) (3.2.0)\n",
      "Requirement already satisfied: hyperframe<6,>=5.2.0 in c:\\users\\owner\\appdata\\local\\programs\\python\\python38-32\\lib\\site-packages (from h2==3.*->httpcore==0.9.*->httpx<0.14,>=0.11->tekore) (5.2.0)\n",
      "Requirement already satisfied: hpack<4,>=3.0 in c:\\users\\owner\\appdata\\local\\programs\\python\\python38-32\\lib\\site-packages (from h2==3.*->httpcore==0.9.*->httpx<0.14,>=0.11->tekore) (3.0.0)\n"
     ]
    }
   ],
   "source": [
    "!pip install tekore"
   ]
  },
  {
   "cell_type": "code",
   "execution_count": 2,
   "metadata": {},
   "outputs": [
    {
     "name": "stdout",
     "output_type": "stream",
     "text": [
      "Requirement already satisfied: python-dotenv in c:\\users\\owner\\appdata\\local\\programs\\python\\python38-32\\lib\\site-packages (0.14.0)\n"
     ]
    }
   ],
   "source": [
    "!pip install python-dotenv"
   ]
  },
  {
   "cell_type": "code",
   "execution_count": 7,
   "metadata": {},
   "outputs": [],
   "source": [
    "import tekore as tk\n",
    "import os\n",
    "from dotenv import load_dotenv"
   ]
  },
  {
   "cell_type": "code",
   "execution_count": 9,
   "metadata": {},
   "outputs": [
    {
     "data": {
      "text/plain": [
       "('340bdfadbf1b48d684111081b0be204d', '7e17534fb28a4d92ae859cdeb637c8d2')"
      ]
     },
     "execution_count": 9,
     "metadata": {},
     "output_type": "execute_result"
    }
   ],
   "source": [
    "# fuck you, load_dotenv\n",
    "# you know what, load_dotenv? We got off on the wrong foot. I wanted you to be a certain thing, but you work in a way that's all your own I guess. I must let you be the free spirit you are.\n",
    "load_dotenv()\n",
    "client_id = os.getenv('CLIENT_ID')\n",
    "client_secret = os.getenv('CLIENT_SECRET')\n",
    "client_id, client_secret"
   ]
  },
  {
   "cell_type": "code",
   "execution_count": 10,
   "metadata": {},
   "outputs": [],
   "source": [
    "# Client id and client secret are the bare minimum for getting any API response.\n",
    "# You can do more things relating to a user's history or playback settings once you have their OAuth verification token\n",
    "# There's some added complexity to getting/storing that, so we're starting simple\n",
    "app_token = tk.request_client_token(client_id, client_secret)\n",
    "spotify = tk.Spotify(app_token)"
   ]
  },
  {
   "cell_type": "code",
   "execution_count": 11,
   "metadata": {},
   "outputs": [
    {
     "name": "stdout",
     "output_type": "stream",
     "text": [
      "Top Lists\n",
      "At Home\n",
      "Latin\n",
      "Hip-Hop\n",
      "Wellness\n",
      "Mood\n",
      "Trending\n",
      "Decades\n",
      "Black History Is Now\n",
      "Pride\n",
      "Pop\n",
      "Rock\n",
      "Workout\n",
      "Cooking & Dining\n",
      "Chill\n",
      "Electronic/Dance\n",
      "Indie\n",
      "Folk & Acoustic\n",
      "Tastemakers\n",
      "Romance\n",
      "Reggae\n",
      "Jazz\n",
      "Spotify Singles\n",
      "Focus\n",
      "Sleep\n",
      "Regional Mexican\n",
      "Made in Colombia\n",
      "Brazilian music\n",
      "Arab\n",
      "Sertanejo\n",
      "Desi\n",
      "Country\n",
      "Christian\n",
      "Classical\n",
      "R&B\n",
      "Metal\n",
      "Soul\n",
      "Travel\n",
      "Blues\n",
      "Punk\n",
      "Funk\n",
      "Comedy\n",
      "Gaming\n",
      "Kids & Family\n",
      "K-Pop\n",
      "Afro\n"
     ]
    }
   ],
   "source": [
    "all_cats = spotify.categories(limit=50)\n",
    "for cat in all_cats.items:\n",
    "    print(cat.name)\n",
    "# These are all 48 categories "
   ]
  },
  {
   "cell_type": "markdown",
   "metadata": {},
   "source": [
    "3 things:\n",
    "- begin listing processing steps for each song\n",
    "- script to compile all tracks under a category\n",
    "- search genres, date range, duration range"
   ]
  },
  {
   "cell_type": "markdown",
   "metadata": {},
   "source": [
    "### I'm starting with a look at one category\n",
    "Many playlists can be tagged with one category label, so out of anticipation that dance/electronic is going to be pretty likely to sound the same, let's get a track list for the first playlist under the \"Dance/Electronic\" label"
   ]
  },
  {
   "cell_type": "code",
   "execution_count": 12,
   "metadata": {},
   "outputs": [
    {
     "data": {
      "text/plain": [
       "(SimplePlaylistPaging with fields:\n",
       "   href = 'https://api.spotify.com/v1/browse/categories/dinner/playlists...'\n",
       "   items = [9 x SimplePlaylist(collaborative, description, ...)]\n",
       "   limit = 20\n",
       "   next = None\n",
       "   offset = 0\n",
       "   previous = None\n",
       "   total = 9,\n",
       " ModelList with items: [\n",
       "   SimplePlaylist(collaborative, description, external_urls, href, id, ...)\n",
       "   SimplePlaylist(collaborative, description, external_urls, href, id, ...)\n",
       "   SimplePlaylist(collaborative, description, external_urls, href, id, ...)\n",
       "   SimplePlaylist(collaborative, description, external_urls, href, id, ...)\n",
       "   SimplePlaylist(collaborative, description, external_urls, href, id, ...)\n",
       "   SimplePlaylist(collaborative, description, external_urls, href, id, ...)\n",
       "   SimplePlaylist(collaborative, description, external_urls, href, id, ...)\n",
       "   SimplePlaylist(collaborative, description, external_urls, href, id, ...)\n",
       "   SimplePlaylist(collaborative, description, external_urls, href, id, ...)\n",
       " ])"
      ]
     },
     "execution_count": 12,
     "metadata": {},
     "output_type": "execute_result"
    }
   ],
   "source": [
    "edm_dance_id = all_cats.items[13].id\n",
    "edm_dance_list = spotify.category_playlists(edm_dance_id,limit=20)\n",
    "edm_dance_list, edm_dance_list.items\n",
    "# This is the object representation of a particular list of playlists, \".items\" is most useful here"
   ]
  },
  {
   "cell_type": "code",
   "execution_count": 13,
   "metadata": {},
   "outputs": [
    {
     "data": {
      "text/plain": [
       "SimplePlaylist with fields:\n",
       "  collaborative = False\n",
       "  description = 'Dinner with Friends? Here's the perfect playlist.'\n",
       "  external_urls = {'spotify'}\n",
       "  href = 'https://api.spotify.com/v1/playlists/37i9dQZF1DX4xuWVBs4FgJ'\n",
       "  id = '37i9dQZF1DX4xuWVBs4FgJ'\n",
       "  images = [1 x Image(height, url, width)]\n",
       "  name = 'Dinner with Friends'\n",
       "  owner = PublicUser(display_name, external_urls, followers, href, ...)\n",
       "  primary_color = None\n",
       "  public = None\n",
       "  snapshot_id = 'MTU5NTkyMjU2MCwwMDAwMDAwMGQ0MWQ4Y2Q5OGYwMGIyMDRlOTgwMD...'\n",
       "  tracks = Tracks(href, total)\n",
       "  type = 'playlist'\n",
       "  uri = 'spotify:playlist:37i9dQZF1DX4xuWVBs4FgJ'"
      ]
     },
     "execution_count": 13,
     "metadata": {},
     "output_type": "execute_result"
    }
   ],
   "source": [
    "mint = edm_dance_list.items[0]\n",
    "mint"
   ]
  },
  {
   "cell_type": "markdown",
   "metadata": {},
   "source": [
    "### Let's get the first 2 songs' track data"
   ]
  },
  {
   "cell_type": "code",
   "execution_count": 14,
   "metadata": {},
   "outputs": [
    {
     "name": "stdout",
     "output_type": "stream",
     "text": [
      "This just shows us the link to the playlist and how many songs are in it\n",
      "Tracks with fields:\n",
      "  href = 'https://api.spotify.com/v1/playlists/37i9dQZF1DX4xuWVBs4FgJ/t...'\n",
      "  total = 100\n",
      "---\n",
      " playlist_items is the class that gets us track ID's\n"
     ]
    },
    {
     "data": {
      "text/plain": [
       "ModelList with items: [\n",
       "  PlaylistTrack(added_at, added_by, is_local, primary_color, track, ...)\n",
       "  PlaylistTrack(added_at, added_by, is_local, primary_color, track, ...)\n",
       "  PlaylistTrack(added_at, added_by, is_local, primary_color, track, ...)\n",
       "  PlaylistTrack(added_at, added_by, is_local, primary_color, track, ...)\n",
       "  PlaylistTrack(added_at, added_by, is_local, primary_color, track, ...)\n",
       "  PlaylistTrack(added_at, added_by, is_local, primary_color, track, ...)\n",
       "  PlaylistTrack(added_at, added_by, is_local, primary_color, track, ...)\n",
       "  PlaylistTrack(added_at, added_by, is_local, primary_color, track, ...)\n",
       "  PlaylistTrack(added_at, added_by, is_local, primary_color, track, ...)\n",
       "  PlaylistTrack(added_at, added_by, is_local, primary_color, track, ...)\n",
       "  PlaylistTrack(added_at, added_by, is_local, primary_color, track, ...)\n",
       "  PlaylistTrack(added_at, added_by, is_local, primary_color, track, ...)\n",
       "  PlaylistTrack(added_at, added_by, is_local, primary_color, track, ...)\n",
       "  PlaylistTrack(added_at, added_by, is_local, primary_color, track, ...)\n",
       "  PlaylistTrack(added_at, added_by, is_local, primary_color, track, ...)\n",
       "  PlaylistTrack(added_at, added_by, is_local, primary_color, track, ...)\n",
       "  PlaylistTrack(added_at, added_by, is_local, primary_color, track, ...)\n",
       "  PlaylistTrack(added_at, added_by, is_local, primary_color, track, ...)\n",
       "  PlaylistTrack(added_at, added_by, is_local, primary_color, track, ...)\n",
       "  PlaylistTrack(added_at, added_by, is_local, primary_color, track, ...)\n",
       "  PlaylistTrack(added_at, added_by, is_local, primary_color, track, ...)\n",
       "  PlaylistTrack(added_at, added_by, is_local, primary_color, track, ...)\n",
       "  PlaylistTrack(added_at, added_by, is_local, primary_color, track, ...)\n",
       "  PlaylistTrack(added_at, added_by, is_local, primary_color, track, ...)\n",
       "  PlaylistTrack(added_at, added_by, is_local, primary_color, track, ...)\n",
       "  PlaylistTrack(added_at, added_by, is_local, primary_color, track, ...)\n",
       "  PlaylistTrack(added_at, added_by, is_local, primary_color, track, ...)\n",
       "  PlaylistTrack(added_at, added_by, is_local, primary_color, track, ...)\n",
       "  PlaylistTrack(added_at, added_by, is_local, primary_color, track, ...)\n",
       "  PlaylistTrack(added_at, added_by, is_local, primary_color, track, ...)\n",
       "  PlaylistTrack(added_at, added_by, is_local, primary_color, track, ...)\n",
       "  PlaylistTrack(added_at, added_by, is_local, primary_color, track, ...)\n",
       "  PlaylistTrack(added_at, added_by, is_local, primary_color, track, ...)\n",
       "  PlaylistTrack(added_at, added_by, is_local, primary_color, track, ...)\n",
       "  PlaylistTrack(added_at, added_by, is_local, primary_color, track, ...)\n",
       "  PlaylistTrack(added_at, added_by, is_local, primary_color, track, ...)\n",
       "  PlaylistTrack(added_at, added_by, is_local, primary_color, track, ...)\n",
       "  PlaylistTrack(added_at, added_by, is_local, primary_color, track, ...)\n",
       "  PlaylistTrack(added_at, added_by, is_local, primary_color, track, ...)\n",
       "  PlaylistTrack(added_at, added_by, is_local, primary_color, track, ...)\n",
       "  PlaylistTrack(added_at, added_by, is_local, primary_color, track, ...)\n",
       "  PlaylistTrack(added_at, added_by, is_local, primary_color, track, ...)\n",
       "  PlaylistTrack(added_at, added_by, is_local, primary_color, track, ...)\n",
       "  PlaylistTrack(added_at, added_by, is_local, primary_color, track, ...)\n",
       "  PlaylistTrack(added_at, added_by, is_local, primary_color, track, ...)\n",
       "  PlaylistTrack(added_at, added_by, is_local, primary_color, track, ...)\n",
       "  PlaylistTrack(added_at, added_by, is_local, primary_color, track, ...)\n",
       "  PlaylistTrack(added_at, added_by, is_local, primary_color, track, ...)\n",
       "  PlaylistTrack(added_at, added_by, is_local, primary_color, track, ...)\n",
       "  PlaylistTrack(added_at, added_by, is_local, primary_color, track, ...)\n",
       "  PlaylistTrack(added_at, added_by, is_local, primary_color, track, ...)\n",
       "  PlaylistTrack(added_at, added_by, is_local, primary_color, track, ...)\n",
       "  PlaylistTrack(added_at, added_by, is_local, primary_color, track, ...)\n",
       "  PlaylistTrack(added_at, added_by, is_local, primary_color, track, ...)\n",
       "  PlaylistTrack(added_at, added_by, is_local, primary_color, track, ...)\n",
       "  PlaylistTrack(added_at, added_by, is_local, primary_color, track, ...)\n",
       "  PlaylistTrack(added_at, added_by, is_local, primary_color, track, ...)\n",
       "  PlaylistTrack(added_at, added_by, is_local, primary_color, track, ...)\n",
       "  PlaylistTrack(added_at, added_by, is_local, primary_color, track, ...)\n",
       "  PlaylistTrack(added_at, added_by, is_local, primary_color, track, ...)\n",
       "  PlaylistTrack(added_at, added_by, is_local, primary_color, track, ...)\n",
       "  PlaylistTrack(added_at, added_by, is_local, primary_color, track, ...)\n",
       "  PlaylistTrack(added_at, added_by, is_local, primary_color, track, ...)\n",
       "  PlaylistTrack(added_at, added_by, is_local, primary_color, track, ...)\n",
       "  PlaylistTrack(added_at, added_by, is_local, primary_color, track, ...)\n",
       "  PlaylistTrack(added_at, added_by, is_local, primary_color, track, ...)\n",
       "  PlaylistTrack(added_at, added_by, is_local, primary_color, track, ...)\n",
       "  PlaylistTrack(added_at, added_by, is_local, primary_color, track, ...)\n",
       "  PlaylistTrack(added_at, added_by, is_local, primary_color, track, ...)\n",
       "  PlaylistTrack(added_at, added_by, is_local, primary_color, track, ...)\n",
       "  PlaylistTrack(added_at, added_by, is_local, primary_color, track, ...)\n",
       "  PlaylistTrack(added_at, added_by, is_local, primary_color, track, ...)\n",
       "  PlaylistTrack(added_at, added_by, is_local, primary_color, track, ...)\n",
       "  PlaylistTrack(added_at, added_by, is_local, primary_color, track, ...)\n",
       "  PlaylistTrack(added_at, added_by, is_local, primary_color, track, ...)\n",
       "  PlaylistTrack(added_at, added_by, is_local, primary_color, track, ...)\n",
       "  PlaylistTrack(added_at, added_by, is_local, primary_color, track, ...)\n",
       "  PlaylistTrack(added_at, added_by, is_local, primary_color, track, ...)\n",
       "  PlaylistTrack(added_at, added_by, is_local, primary_color, track, ...)\n",
       "  PlaylistTrack(added_at, added_by, is_local, primary_color, track, ...)\n",
       "  PlaylistTrack(added_at, added_by, is_local, primary_color, track, ...)\n",
       "  PlaylistTrack(added_at, added_by, is_local, primary_color, track, ...)\n",
       "  PlaylistTrack(added_at, added_by, is_local, primary_color, track, ...)\n",
       "  PlaylistTrack(added_at, added_by, is_local, primary_color, track, ...)\n",
       "  PlaylistTrack(added_at, added_by, is_local, primary_color, track, ...)\n",
       "  PlaylistTrack(added_at, added_by, is_local, primary_color, track, ...)\n",
       "  PlaylistTrack(added_at, added_by, is_local, primary_color, track, ...)\n",
       "  PlaylistTrack(added_at, added_by, is_local, primary_color, track, ...)\n",
       "  PlaylistTrack(added_at, added_by, is_local, primary_color, track, ...)\n",
       "  PlaylistTrack(added_at, added_by, is_local, primary_color, track, ...)\n",
       "  PlaylistTrack(added_at, added_by, is_local, primary_color, track, ...)\n",
       "  PlaylistTrack(added_at, added_by, is_local, primary_color, track, ...)\n",
       "  PlaylistTrack(added_at, added_by, is_local, primary_color, track, ...)\n",
       "  PlaylistTrack(added_at, added_by, is_local, primary_color, track, ...)\n",
       "  PlaylistTrack(added_at, added_by, is_local, primary_color, track, ...)\n",
       "  PlaylistTrack(added_at, added_by, is_local, primary_color, track, ...)\n",
       "  PlaylistTrack(added_at, added_by, is_local, primary_color, track, ...)\n",
       "  PlaylistTrack(added_at, added_by, is_local, primary_color, track, ...)\n",
       "  PlaylistTrack(added_at, added_by, is_local, primary_color, track, ...)\n",
       "  PlaylistTrack(added_at, added_by, is_local, primary_color, track, ...)\n",
       "]"
      ]
     },
     "execution_count": 14,
     "metadata": {},
     "output_type": "execute_result"
    }
   ],
   "source": [
    "print(\"This just shows us the link to the playlist and how many songs are in it\")\n",
    "print(mint.tracks)\n",
    "print(\"---\\n\",\"playlist_items is the class that gets us track ID's\")\n",
    "mint_tracks = spotify.playlist_items(mint.id).items\n",
    "mint_tracks"
   ]
  },
  {
   "cell_type": "code",
   "execution_count": 15,
   "metadata": {},
   "outputs": [
    {
     "data": {
      "text/plain": [
       "FullPlaylistTrack with fields:\n",
       "  album = SimpleAlbum(album_group, album_type, artists, ...)\n",
       "  artists = [1 x SimpleArtist(external_urls, href, id, name, type, uri)]\n",
       "  available_markets = [92 x str]\n",
       "  disc_number = 1\n",
       "  duration_ms = 253597\n",
       "  episode = False\n",
       "  explicit = False\n",
       "  external_ids = {'isrc'}\n",
       "  external_urls = {'spotify'}\n",
       "  href = 'https://api.spotify.com/v1/tracks/0FrHyYxj92dg4qIu8BO30l'\n",
       "  id = '0FrHyYxj92dg4qIu8BO30l'\n",
       "  is_local = False\n",
       "  is_playable = None\n",
       "  linked_from = None\n",
       "  name = 'Ordinary People'\n",
       "  popularity = 59\n",
       "  preview_url = 'https://p.scdn.co/mp3-preview/87d1582a00c59f96ac81e0f4...'\n",
       "  restrictions = None\n",
       "  track = True\n",
       "  track_number = 1\n",
       "  type = 'track'\n",
       "  uri = 'spotify:track:0FrHyYxj92dg4qIu8BO30l'"
      ]
     },
     "execution_count": 15,
     "metadata": {},
     "output_type": "execute_result"
    }
   ],
   "source": [
    "song1 = mint_tracks[0].track\n",
    "song2 = mint_tracks[1].track\n",
    "song1"
   ]
  },
  {
   "cell_type": "code",
   "execution_count": 16,
   "metadata": {},
   "outputs": [
    {
     "data": {
      "text/plain": [
       "(AudioAnalysis with fields:\n",
       "   bars = [104 x TimeInterval(confidence, duration, start)]\n",
       "   beats = [414 x TimeInterval(confidence, duration, start)]\n",
       "   meta = {'analysis_time', 'analyzer_version', 'detailed_status', ...}\n",
       "   sections = [17 x Section(confidence, duration, key, ...)]\n",
       "   segments = [758 x Segment(confidence, duration, loudness_end, ...)]\n",
       "   tatums = [828 x TimeInterval(confidence, duration, start)]\n",
       "   track = {'analysis_channels', 'analysis_sample_rate', ...},\n",
       " AudioFeatures with fields:\n",
       "   acousticness = 0.899\n",
       "   analysis_url = 'https://api.spotify.com/v1/audio-analysis/0FrHyYxj92d...'\n",
       "   danceability = 0.363\n",
       "   duration_ms = 253597\n",
       "   energy = 0.12\n",
       "   id = '0FrHyYxj92dg4qIu8BO30l'\n",
       "   instrumentalness = 2.34e-05\n",
       "   key = 7\n",
       "   liveness = 0.162\n",
       "   loudness = -11.662\n",
       "   mode = 1\n",
       "   speechiness = 0.0358\n",
       "   tempo = 71.024\n",
       "   time_signature = 4\n",
       "   track_href = 'https://api.spotify.com/v1/tracks/0FrHyYxj92dg4qIu8BO30l'\n",
       "   type = 'audio_features'\n",
       "   uri = 'spotify:track:0FrHyYxj92dg4qIu8BO30l'\n",
       "   valence = 0.176)"
      ]
     },
     "execution_count": 16,
     "metadata": {},
     "output_type": "execute_result"
    }
   ],
   "source": [
    "# audio_analysis and audio_features\n",
    "song1_analysis = spotify.track_audio_analysis(song1.id)\n",
    "song2_analysis = spotify.track_audio_analysis(song2.id)\n",
    "song1_features = spotify.track_audio_features(song1.id)\n",
    "song2_features = spotify.track_audio_features(song2.id)\n",
    "song1_analysis, song1_features"
   ]
  },
  {
   "cell_type": "markdown",
   "metadata": {},
   "source": [
    "### Combine all the track's data and compare correlation"
   ]
  },
  {
   "cell_type": "code",
   "execution_count": 17,
   "metadata": {},
   "outputs": [],
   "source": [
    "import pandas as pd"
   ]
  },
  {
   "cell_type": "code",
   "execution_count": 18,
   "metadata": {},
   "outputs": [
    {
     "data": {
      "text/html": [
       "<div>\n",
       "<style scoped>\n",
       "    .dataframe tbody tr th:only-of-type {\n",
       "        vertical-align: middle;\n",
       "    }\n",
       "\n",
       "    .dataframe tbody tr th {\n",
       "        vertical-align: top;\n",
       "    }\n",
       "\n",
       "    .dataframe thead th {\n",
       "        text-align: right;\n",
       "    }\n",
       "</style>\n",
       "<table border=\"1\" class=\"dataframe\">\n",
       "  <thead>\n",
       "    <tr style=\"text-align: right;\">\n",
       "      <th></th>\n",
       "      <th>0</th>\n",
       "      <th>1</th>\n",
       "    </tr>\n",
       "  </thead>\n",
       "  <tbody>\n",
       "    <tr>\n",
       "      <th>0</th>\n",
       "      <td>{'id': '0FrHyYxj92dg4qIu8BO30l', 'href': 'http...</td>\n",
       "      <td>{'id': '0FrHyYxj92dg4qIu8BO30l', 'acousticness...</td>\n",
       "    </tr>\n",
       "    <tr>\n",
       "      <th>1</th>\n",
       "      <td>{'id': '50wetCP0Nsx5sIaFHCYlCe', 'href': 'http...</td>\n",
       "      <td>{'id': '0FrHyYxj92dg4qIu8BO30l', 'acousticness...</td>\n",
       "    </tr>\n",
       "  </tbody>\n",
       "</table>\n",
       "</div>"
      ],
      "text/plain": [
       "                                                   0  \\\n",
       "0  {'id': '0FrHyYxj92dg4qIu8BO30l', 'href': 'http...   \n",
       "1  {'id': '50wetCP0Nsx5sIaFHCYlCe', 'href': 'http...   \n",
       "\n",
       "                                                   1  \n",
       "0  {'id': '0FrHyYxj92dg4qIu8BO30l', 'acousticness...  \n",
       "1  {'id': '0FrHyYxj92dg4qIu8BO30l', 'acousticness...  "
      ]
     },
     "execution_count": 18,
     "metadata": {},
     "output_type": "execute_result"
    }
   ],
   "source": [
    "song1song2_compare = pd.DataFrame([[vars(song1), vars(song1_features)],\n",
    "                                   [vars(song2), vars(song1_features)]])\n",
    "song1song2_compare.head()"
   ]
  },
  {
   "cell_type": "markdown",
   "metadata": {},
   "source": [
    "# New activity: Condense an entire mood category"
   ]
  },
  {
   "cell_type": "code",
   "execution_count": null,
   "metadata": {},
   "outputs": [],
   "source": []
  },
  {
   "cell_type": "markdown",
   "metadata": {},
   "source": [
    "# New New activity: make weird searches"
   ]
  },
  {
   "cell_type": "code",
   "execution_count": 19,
   "metadata": {},
   "outputs": [
    {
     "ename": "BadRequest",
     "evalue": "Error in https://api.spotify.com/v1/search?q=popularity%3A54&type=t%2Cr%2Ca%2Cc%2Ck&limit=20&offset=0:\n400: Bad search type field t\n",
     "output_type": "error",
     "traceback": [
      "\u001b[1;31m---------------------------------------------------------------------------\u001b[0m",
      "\u001b[1;31mBadRequest\u001b[0m                                Traceback (most recent call last)",
      "\u001b[1;32m<ipython-input-19-a97cc08a2dd9>\u001b[0m in \u001b[0;36m<module>\u001b[1;34m\u001b[0m\n\u001b[1;32m----> 1\u001b[1;33m \u001b[0mspotify\u001b[0m\u001b[1;33m.\u001b[0m\u001b[0msearch\u001b[0m\u001b[1;33m(\u001b[0m\u001b[1;34m'popularity:54'\u001b[0m\u001b[1;33m,\u001b[0m\u001b[0mtypes\u001b[0m\u001b[1;33m=\u001b[0m\u001b[1;34m'track'\u001b[0m\u001b[1;33m)\u001b[0m\u001b[1;33m\u001b[0m\u001b[1;33m\u001b[0m\u001b[0m\n\u001b[0m",
      "\u001b[1;32mc:\\users\\owner\\appdata\\local\\programs\\python\\python38-32\\lib\\site-packages\\tekore\\_client\\decor\\__init__.py\u001b[0m in \u001b[0;36mwrapper\u001b[1;34m(self, *args, **kwargs)\u001b[0m\n\u001b[0;32m     39\u001b[0m \u001b[1;33m\u001b[0m\u001b[0m\n\u001b[0;32m     40\u001b[0m             \u001b[0mresponse\u001b[0m \u001b[1;33m=\u001b[0m \u001b[0mself\u001b[0m\u001b[1;33m.\u001b[0m\u001b[0m_send\u001b[0m\u001b[1;33m(\u001b[0m\u001b[0mrequest\u001b[0m\u001b[1;33m)\u001b[0m\u001b[1;33m\u001b[0m\u001b[1;33m\u001b[0m\u001b[0m\n\u001b[1;32m---> 41\u001b[1;33m             \u001b[0mhandle_errors\u001b[0m\u001b[1;33m(\u001b[0m\u001b[0mrequest\u001b[0m\u001b[1;33m,\u001b[0m \u001b[0mresponse\u001b[0m\u001b[1;33m)\u001b[0m\u001b[1;33m\u001b[0m\u001b[1;33m\u001b[0m\u001b[0m\n\u001b[0m\u001b[0;32m     42\u001b[0m             \u001b[0mcontent\u001b[0m \u001b[1;33m=\u001b[0m \u001b[0mparse_json\u001b[0m\u001b[1;33m(\u001b[0m\u001b[0mresponse\u001b[0m\u001b[1;33m)\u001b[0m\u001b[1;33m\u001b[0m\u001b[1;33m\u001b[0m\u001b[0m\n\u001b[0;32m     43\u001b[0m             \u001b[1;32mreturn\u001b[0m \u001b[0mpost_func\u001b[0m\u001b[1;33m(\u001b[0m\u001b[0mcontent\u001b[0m\u001b[1;33m)\u001b[0m\u001b[1;33m\u001b[0m\u001b[1;33m\u001b[0m\u001b[0m\n",
      "\u001b[1;32mc:\\users\\owner\\appdata\\local\\programs\\python\\python38-32\\lib\\site-packages\\tekore\\_client\\decor\\handle.py\u001b[0m in \u001b[0;36mhandle_errors\u001b[1;34m(request, response)\u001b[0m\n\u001b[0;32m     41\u001b[0m         )\n\u001b[0;32m     42\u001b[0m         \u001b[0merror_cls\u001b[0m \u001b[1;33m=\u001b[0m \u001b[0mget_error\u001b[0m\u001b[1;33m(\u001b[0m\u001b[0mresponse\u001b[0m\u001b[1;33m.\u001b[0m\u001b[0mstatus_code\u001b[0m\u001b[1;33m)\u001b[0m\u001b[1;33m\u001b[0m\u001b[1;33m\u001b[0m\u001b[0m\n\u001b[1;32m---> 43\u001b[1;33m         \u001b[1;32mraise\u001b[0m \u001b[0merror_cls\u001b[0m\u001b[1;33m(\u001b[0m\u001b[0merror_str\u001b[0m\u001b[1;33m,\u001b[0m \u001b[0mrequest\u001b[0m\u001b[1;33m=\u001b[0m\u001b[0mrequest\u001b[0m\u001b[1;33m,\u001b[0m \u001b[0mresponse\u001b[0m\u001b[1;33m=\u001b[0m\u001b[0mresponse\u001b[0m\u001b[1;33m)\u001b[0m\u001b[1;33m\u001b[0m\u001b[1;33m\u001b[0m\u001b[0m\n\u001b[0m",
      "\u001b[1;31mBadRequest\u001b[0m: Error in https://api.spotify.com/v1/search?q=popularity%3A54&type=t%2Cr%2Ca%2Cc%2Ck&limit=20&offset=0:\n400: Bad search type field t\n"
     ]
    }
   ],
   "source": [
    "spotify.search('popularity:54',types='track')"
   ]
  },
  {
   "cell_type": "code",
   "execution_count": 20,
   "metadata": {},
   "outputs": [
    {
     "name": "stdout",
     "output_type": "stream",
     "text": [
      "^--- id ,  2dh6Pnl5egc1FrQS6EsW4n ---^\n",
      "^--- href ,  https://api.spotify.com/v1/tracks/2dh6Pnl5egc1FrQS6EsW4n ---^\n",
      "(FullTrackPaging with fields:\n",
      "  href = 'https://api.spotify.com/v1/search?query=type%3Atrack&type=tra...'\n",
      "  items = [20 x FullTrack(album, artists, available_markets, ...)]\n",
      "  limit = 20\n",
      "  next = 'https://api.spotify.com/v1/search?query=type%3Atrack&type=tra...'\n",
      "  offset = 0\n",
      "  previous = None\n",
      "  total = 283,)\n",
      "^--- type ,  track ---^\n",
      "^--- uri ,  spotify:track:2dh6Pnl5egc1FrQS6EsW4n ---^\n",
      "^--- artists ,  ModelList with items: [\n",
      "  SimpleArtist(external_urls, href, id, name, type, uri)\n",
      "  SimpleArtist(external_urls, href, id, name, type, uri)\n",
      "] ---^\n",
      "(FullTrackPaging with fields:\n",
      "  href = 'https://api.spotify.com/v1/search?query=disc_number%3A1&type=...'\n",
      "  items = [20 x FullTrack(album, artists, available_markets, ...)]\n",
      "  limit = 20\n",
      "  next = 'https://api.spotify.com/v1/search?query=disc_number%3A1&type=...'\n",
      "  offset = 0\n",
      "  previous = None\n",
      "  total = 99,)\n",
      "^--- disc_number ,  1 ---^\n",
      "^--- duration_ms ,  182400 ---^\n",
      "(FullTrackPaging with fields:\n",
      "  href = 'https://api.spotify.com/v1/search?query=explicit%3AFalse&type...'\n",
      "  items = [9 x FullTrack(album, artists, available_markets, ...)]\n",
      "  limit = 20\n",
      "  next = None\n",
      "  offset = 0\n",
      "  previous = None\n",
      "  total = 9,)\n",
      "^--- explicit ,  False ---^\n",
      "^--- external_urls ,  {'spotify': 'https://open.spotify.com/track/2dh6Pnl5egc1FrQS6EsW4n'} ---^\n",
      "^--- name ,  2AM (feat. Carla Monroe) ---^\n",
      "^--- preview_url ,  https://p.scdn.co/mp3-preview/fd4257f22530a43d582131e83c194090b9734986?cid=340bdfadbf1b48d684111081b0be204d ---^\n",
      "(FullTrackPaging with fields:\n",
      "  href = 'https://api.spotify.com/v1/search?query=track_number%3A1&type...'\n",
      "  items = [20 x FullTrack(album, artists, available_markets, ...)]\n",
      "  limit = 20\n",
      "  next = 'https://api.spotify.com/v1/search?query=track_number%3A1&type...'\n",
      "  offset = 0\n",
      "  previous = None\n",
      "  total = 111,)\n",
      "^--- track_number ,  1 ---^\n",
      "(FullTrackPaging with fields:\n",
      "  href = 'https://api.spotify.com/v1/search?query=is_local%3AFalse&type...'\n",
      "  items = [1 x FullTrack(album, artists, available_markets, ...)]\n",
      "  limit = 20\n",
      "  next = None\n",
      "  offset = 0\n",
      "  previous = None\n",
      "  total = 1,)\n",
      "^--- is_local ,  False ---^\n",
      "^--- album ,  SimpleAlbum with fields:\n",
      "  album_group = None\n",
      "  album_type = <AlbumType.single: 'single'>\n",
      "  artists = [2 x SimpleArtist(external_urls, href, id, name, type, uri)]\n",
      "  available_markets = [90 x str]\n",
      "  external_urls = {'spotify'}\n",
      "  href = 'https://api.spotify.com/v1/albums/4CAvGuvYg9frLJFbPPHLmB'\n",
      "  id = '4CAvGuvYg9frLJFbPPHLmB'\n",
      "  images = [3 x Image(height, url, width)]\n",
      "  is_playable = None\n",
      "  name = '2AM (feat. Carla Monroe)'\n",
      "  release_date = '2020-07-24'\n",
      "  release_date_precision = <ReleaseDatePrecision.day: 'day'>\n",
      "  total_tracks = 1\n",
      "  type = 'album'\n",
      "  uri = 'spotify:album:4CAvGuvYg9frLJFbPPHLmB' ---^\n",
      "^--- external_ids ,  {'isrc': 'GBARL2000691'} ---^\n",
      "^--- popularity ,  54 ---^\n",
      "^--- available_markets ,  ModelList with items: [\n",
      "  'AD'\n",
      "  'AE'\n",
      "  'AL'\n",
      "  'AR'\n",
      "  'AT'\n",
      "  'AU'\n",
      "  'BA'\n",
      "  'BE'\n",
      "  'BG'\n",
      "  'BH'\n",
      "  'BO'\n",
      "  'BR'\n",
      "  'BY'\n",
      "  'CH'\n",
      "  'CL'\n",
      "  'CO'\n",
      "  'CR'\n",
      "  'CY'\n",
      "  'CZ'\n",
      "  'DE'\n",
      "  'DK'\n",
      "  'DO'\n",
      "  'DZ'\n",
      "  'EC'\n",
      "  'EE'\n",
      "  'EG'\n",
      "  'ES'\n",
      "  'FI'\n",
      "  'FR'\n",
      "  'GB'\n",
      "  'GR'\n",
      "  'GT'\n",
      "  'HK'\n",
      "  'HN'\n",
      "  'HR'\n",
      "  'HU'\n",
      "  'ID'\n",
      "  'IE'\n",
      "  'IL'\n",
      "  'IN'\n",
      "  'IS'\n",
      "  'IT'\n",
      "  'JO'\n",
      "  'JP'\n",
      "  'KW'\n",
      "  'KZ'\n",
      "  'LB'\n",
      "  'LI'\n",
      "  'LT'\n",
      "  'LU'\n",
      "  'LV'\n",
      "  'MA'\n",
      "  'MC'\n",
      "  'MD'\n",
      "  'ME'\n",
      "  'MK'\n",
      "  'MT'\n",
      "  'MX'\n",
      "  'MY'\n",
      "  'NI'\n",
      "  'NL'\n",
      "  'NO'\n",
      "  'NZ'\n",
      "  'OM'\n",
      "  'PA'\n",
      "  'PE'\n",
      "  'PH'\n",
      "  'PL'\n",
      "  'PS'\n",
      "  'PT'\n",
      "  'PY'\n",
      "  'QA'\n",
      "  'RO'\n",
      "  'RS'\n",
      "  'RU'\n",
      "  'SA'\n",
      "  'SE'\n",
      "  'SG'\n",
      "  'SI'\n",
      "  'SK'\n",
      "  'SV'\n",
      "  'TH'\n",
      "  'TN'\n",
      "  'TR'\n",
      "  'TW'\n",
      "  'UA'\n",
      "  'UY'\n",
      "  'VN'\n",
      "  'XK'\n",
      "  'ZA'\n",
      "] ---^\n",
      "^--- linked_from ,  None ---^\n",
      "^--- is_playable ,  None ---^\n",
      "^--- restrictions ,  None ---^\n"
     ]
    }
   ],
   "source": [
    "same_as_song1 = spotify.track('2dh6Pnl5egc1FrQS6EsW4n')\n",
    "# this is a cool thing that I don't actually need: track_keys = [*same_as_song1.__dict__.keys()]\n",
    "for key, value in same_as_song1.__dict__.items():\n",
    "    try:\n",
    "        result = spotify.search(f'{key}:{value}',types=('track',),limit=20)\n",
    "        if result[0].total>0: print(result)\n",
    "    except:\n",
    "        pass\n",
    "    else:\n",
    "        print('^---',key,', ',value,'---^')"
   ]
  },
  {
   "cell_type": "markdown",
   "metadata": {},
   "source": [
    "Does searching for multiple artists the goofy way actually return results?"
   ]
  },
  {
   "cell_type": "code",
   "execution_count": 27,
   "metadata": {},
   "outputs": [
    {
     "ename": "BadRequest",
     "evalue": "Error in https://api.spotify.com/v1/search?q=genre%3A%22rock%22&type=tracks&limit=20&offset=0:\n400: Bad search type field tracks\n",
     "output_type": "error",
     "traceback": [
      "\u001b[1;31m---------------------------------------------------------------------------\u001b[0m",
      "\u001b[1;31mBadRequest\u001b[0m                                Traceback (most recent call last)",
      "\u001b[1;32m<ipython-input-27-09ae46c01726>\u001b[0m in \u001b[0;36m<module>\u001b[1;34m\u001b[0m\n\u001b[1;32m----> 1\u001b[1;33m \u001b[0mspotify\u001b[0m\u001b[1;33m.\u001b[0m\u001b[0msearch\u001b[0m\u001b[1;33m(\u001b[0m\u001b[1;34m'genre:\"rock\"'\u001b[0m\u001b[1;33m,\u001b[0m \u001b[0mtypes\u001b[0m\u001b[1;33m=\u001b[0m\u001b[1;33m(\u001b[0m\u001b[1;34m'tracks'\u001b[0m\u001b[1;33m,\u001b[0m\u001b[1;33m)\u001b[0m\u001b[1;33m,\u001b[0m \u001b[0mlimit\u001b[0m\u001b[1;33m=\u001b[0m\u001b[1;36m20\u001b[0m\u001b[1;33m)\u001b[0m\u001b[1;33m\u001b[0m\u001b[1;33m\u001b[0m\u001b[0m\n\u001b[0m",
      "\u001b[1;32mc:\\users\\owner\\appdata\\local\\programs\\python\\python38-32\\lib\\site-packages\\tekore\\_client\\decor\\__init__.py\u001b[0m in \u001b[0;36mwrapper\u001b[1;34m(self, *args, **kwargs)\u001b[0m\n\u001b[0;32m     39\u001b[0m \u001b[1;33m\u001b[0m\u001b[0m\n\u001b[0;32m     40\u001b[0m             \u001b[0mresponse\u001b[0m \u001b[1;33m=\u001b[0m \u001b[0mself\u001b[0m\u001b[1;33m.\u001b[0m\u001b[0m_send\u001b[0m\u001b[1;33m(\u001b[0m\u001b[0mrequest\u001b[0m\u001b[1;33m)\u001b[0m\u001b[1;33m\u001b[0m\u001b[1;33m\u001b[0m\u001b[0m\n\u001b[1;32m---> 41\u001b[1;33m             \u001b[0mhandle_errors\u001b[0m\u001b[1;33m(\u001b[0m\u001b[0mrequest\u001b[0m\u001b[1;33m,\u001b[0m \u001b[0mresponse\u001b[0m\u001b[1;33m)\u001b[0m\u001b[1;33m\u001b[0m\u001b[1;33m\u001b[0m\u001b[0m\n\u001b[0m\u001b[0;32m     42\u001b[0m             \u001b[0mcontent\u001b[0m \u001b[1;33m=\u001b[0m \u001b[0mparse_json\u001b[0m\u001b[1;33m(\u001b[0m\u001b[0mresponse\u001b[0m\u001b[1;33m)\u001b[0m\u001b[1;33m\u001b[0m\u001b[1;33m\u001b[0m\u001b[0m\n\u001b[0;32m     43\u001b[0m             \u001b[1;32mreturn\u001b[0m \u001b[0mpost_func\u001b[0m\u001b[1;33m(\u001b[0m\u001b[0mcontent\u001b[0m\u001b[1;33m)\u001b[0m\u001b[1;33m\u001b[0m\u001b[1;33m\u001b[0m\u001b[0m\n",
      "\u001b[1;32mc:\\users\\owner\\appdata\\local\\programs\\python\\python38-32\\lib\\site-packages\\tekore\\_client\\decor\\handle.py\u001b[0m in \u001b[0;36mhandle_errors\u001b[1;34m(request, response)\u001b[0m\n\u001b[0;32m     41\u001b[0m         )\n\u001b[0;32m     42\u001b[0m         \u001b[0merror_cls\u001b[0m \u001b[1;33m=\u001b[0m \u001b[0mget_error\u001b[0m\u001b[1;33m(\u001b[0m\u001b[0mresponse\u001b[0m\u001b[1;33m.\u001b[0m\u001b[0mstatus_code\u001b[0m\u001b[1;33m)\u001b[0m\u001b[1;33m\u001b[0m\u001b[1;33m\u001b[0m\u001b[0m\n\u001b[1;32m---> 43\u001b[1;33m         \u001b[1;32mraise\u001b[0m \u001b[0merror_cls\u001b[0m\u001b[1;33m(\u001b[0m\u001b[0merror_str\u001b[0m\u001b[1;33m,\u001b[0m \u001b[0mrequest\u001b[0m\u001b[1;33m=\u001b[0m\u001b[0mrequest\u001b[0m\u001b[1;33m,\u001b[0m \u001b[0mresponse\u001b[0m\u001b[1;33m=\u001b[0m\u001b[0mresponse\u001b[0m\u001b[1;33m)\u001b[0m\u001b[1;33m\u001b[0m\u001b[1;33m\u001b[0m\u001b[0m\n\u001b[0m",
      "\u001b[1;31mBadRequest\u001b[0m: Error in https://api.spotify.com/v1/search?q=genre%3A%22rock%22&type=tracks&limit=20&offset=0:\n400: Bad search type field tracks\n"
     ]
    }
   ],
   "source": [
    "spotify.search('genre:\"rock\"', types=('tracks',), limit=20)"
   ]
  },
  {
   "cell_type": "code",
   "execution_count": 107,
   "metadata": {},
   "outputs": [
    {
     "name": "stdout",
     "output_type": "stream",
     "text": [
      "I'm Throwed (feat. Jermaine Dupri) by Paul Wall\n",
      "Popularity:  47 \n",
      "---\n",
      "Break Em' Off (feat. Lil' Keke) by Paul Wall\n",
      "Popularity:  44 \n",
      "---\n",
      "Bangin Screw by Paul Wall\n",
      "Popularity:  31 \n",
      "---\n",
      "Everybody Know Me (feat. Snoop Dogg) by Paul Wall\n",
      "Popularity:  24 \n",
      "---\n",
      "I Ain't Hard to Find by Paul Wall\n",
      "Popularity:  22 \n",
      "---\n",
      "Gimme That by Paul Wall\n",
      "Popularity:  23 \n",
      "---\n",
      "Get Your Paper Up (feat. Yung Redd) by Paul Wall\n",
      "Popularity:  19 \n",
      "---\n",
      "Tonight (feat. Jon B) by Paul Wall\n",
      "Popularity:  18 \n",
      "---\n",
      "Call Me What U Want (feat. Yung Redd & E Class) by Paul Wall\n",
      "Popularity:  18 \n",
      "---\n",
      "That Fire (feat. Trina) by Paul Wall\n",
      "Popularity:  19 \n",
      "---\n",
      "Break Em' Off (feat. Lil' Keke) - C&S Version by Paul Wall\n",
      "Popularity:  17 \n",
      "---\n",
      "How Gangstas Roll (feat. Crys Wall) by Paul Wall\n",
      "Popularity:  16 \n",
      "---\n",
      "On the Grind (feat. Freeway & Crys Wall) by Paul Wall\n",
      "Popularity:  15 \n",
      "---\n",
      "I'm Real, What Are You? (feat. Juelz Santana) by Paul Wall\n",
      "Popularity:  14 \n",
      "---\n",
      "Slidin' on That Oil (feat. Expensive Taste) by Paul Wall\n",
      "Popularity:  12 \n",
      "---\n",
      "I'm Throwed (feat. Jermaine Dupri) - C&S Version by Paul Wall\n",
      "Popularity:  10 \n",
      "---\n",
      "Tonight (feat. Jon B) - C&S Version by Paul Wall\n",
      "Popularity:  9 \n",
      "---\n",
      "Bangin Screw - C&S by Paul Wall\n",
      "Popularity:  7 \n",
      "---\n",
      "Gimme That - C&S by Paul Wall\n",
      "Popularity:  6 \n",
      "---\n",
      "Get Your Paper Up (feat. Yung Redd) - C&S Version by Paul Wall\n",
      "Popularity:  5 \n",
      "---\n"
     ]
    }
   ],
   "source": [
    "for hot_explicits in spotify.search('explicit:True')[0].items:\n",
    "    name = hot_explicits.name\n",
    "    artist1 = hot_explicits.artists[0].name\n",
    "    pop = hot_explicits.popularity\n",
    "    #year = hot_explicits.year      can't do year?\n",
    "    print(name+' by '+artist1)\n",
    "    print('Popularity: ',pop,'\\n---')\n",
    "    #print('Released ',year)"
   ]
  },
  {
   "cell_type": "code",
   "execution_count": 87,
   "metadata": {},
   "outputs": [
    {
     "name": "stdout",
     "output_type": "stream",
     "text": [
      "Valse mélancolique in F-Sharp Minor, Op. 332 \"Le regret\" (Previously attributed to Chopin) by Charles Mayer\n",
      "Popularity:  5 \n",
      "---\n",
      "Holz, Holz geigt die Quartette so (Attrib. Beethoven as WoO 204) by Karl Holz\n",
      "Popularity:  5 \n",
      "---\n",
      "Soft pink noise putting down baby by Colic Remedies Pink Noise\n",
      "Popularity:  5 \n",
      "---\n",
      "ASMR deep sleep by Easy Falling Asleep ASMR\n",
      "Popularity:  5 \n",
      "---\n",
      "Calm down fussy baby by Colic Remedies Pink Noise\n",
      "Popularity:  5 \n",
      "---\n",
      "Better night shusher by Pink Noise for Better Night\n",
      "Popularity:  5 \n",
      "---\n",
      "Healing ASMR sounds by Easy Falling Asleep ASMR\n",
      "Popularity:  5 \n",
      "---\n",
      "Brown noise airplane sound by Brown Noise Enjoyable Sleep\n",
      "Popularity:  5 \n",
      "---\n",
      "Baby stops crying by Brown Noise Enjoyable Sleep\n",
      "Popularity:  5 \n",
      "---\n",
      "Fall asleep easily by Easy Falling Asleep ASMR\n",
      "Popularity:  5 \n",
      "---\n",
      "White noise sleep aid all night by Soothing Airplane Sound All Night\n",
      "Popularity:  5 \n",
      "---\n",
      "Soft colic remedies by Colic Remedies Pink Noise\n",
      "Popularity:  5 \n",
      "---\n",
      "Airplane sound chill out by Soothing Airplane Sound All Night\n",
      "Popularity:  5 \n",
      "---\n",
      "Comfy and easy night by Brown Noise Enjoyable Sleep\n",
      "Popularity:  5 \n",
      "---\n",
      "Calm down fussy infant by Brown Noise Enjoyable Sleep\n",
      "Popularity:  5 \n",
      "---\n",
      "Anxiety relief looped sounds by Easy Falling Asleep ASMR\n",
      "Popularity:  5 \n",
      "---\n",
      "Healing ASMR sounds by Easy Falling Asleep ASMR\n",
      "Popularity:  5 \n",
      "---\n",
      "Comfy and easy night by Brown Noise Enjoyable Sleep\n",
      "Popularity:  5 \n",
      "---\n",
      "Baby goes to sleep by Pink Noise for Better Night\n",
      "Popularity:  5 \n",
      "---\n",
      "Pink noise for sleepless night by Pink Noise for Better Night\n",
      "Popularity:  5 \n",
      "---\n"
     ]
    }
   ],
   "source": [
    "for hipster in spotify.search('tag:hipster')[0].items:\n",
    "    name = hipster.name\n",
    "    artist1 = hipster.artists[0].name\n",
    "    print(name+' by '+artist1)\n",
    "    print('Popularity: ',pop,'\\n---')"
   ]
  }
 ],
 "metadata": {
  "kernelspec": {
   "display_name": "Python 3",
   "language": "python",
   "name": "python3"
  },
  "language_info": {
   "codemirror_mode": {
    "name": "ipython",
    "version": 3
   },
   "file_extension": ".py",
   "mimetype": "text/x-python",
   "name": "python",
   "nbconvert_exporter": "python",
   "pygments_lexer": "ipython3",
   "version": "3.8.3"
  }
 },
 "nbformat": 4,
 "nbformat_minor": 4
}
