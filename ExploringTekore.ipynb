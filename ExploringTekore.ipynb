{
 "cells": [
  {
   "cell_type": "code",
   "execution_count": 1,
   "metadata": {},
   "outputs": [
    {
     "name": "stdout",
     "output_type": "stream",
     "text": [
      "Collecting tekore\n",
      "  Downloading tekore-2.1.2-py3-none-any.whl (69 kB)\n",
      "Collecting httpx<0.14,>=0.11\n",
      "  Using cached httpx-0.13.3-py3-none-any.whl (55 kB)\n",
      "Requirement already satisfied: requests~=2.19 in c:\\users\\owner\\appdata\\local\\programs\\python\\python38-32\\lib\\site-packages (from tekore) (2.24.0)\n",
      "Requirement already satisfied: chardet==3.* in c:\\users\\owner\\appdata\\local\\programs\\python\\python38-32\\lib\\site-packages (from httpx<0.14,>=0.11->tekore) (3.0.4)\n",
      "Requirement already satisfied: certifi in c:\\users\\owner\\appdata\\local\\programs\\python\\python38-32\\lib\\site-packages (from httpx<0.14,>=0.11->tekore) (2020.4.5.1)\n",
      "Collecting sniffio\n",
      "  Using cached sniffio-1.1.0-py3-none-any.whl (4.5 kB)\n",
      "Collecting hstspreload\n",
      "  Downloading hstspreload-2020.7.22-py3-none-any.whl (922 kB)\n",
      "Collecting httpcore==0.9.*\n",
      "  Using cached httpcore-0.9.1-py3-none-any.whl (42 kB)\n",
      "Requirement already satisfied: idna==2.* in c:\\users\\owner\\appdata\\local\\programs\\python\\python38-32\\lib\\site-packages (from httpx<0.14,>=0.11->tekore) (2.10)\n",
      "Collecting rfc3986<2,>=1.3\n",
      "  Using cached rfc3986-1.4.0-py2.py3-none-any.whl (31 kB)\n",
      "Requirement already satisfied: urllib3!=1.25.0,!=1.25.1,<1.26,>=1.21.1 in c:\\users\\owner\\appdata\\local\\programs\\python\\python38-32\\lib\\site-packages (from requests~=2.19->tekore) (1.25.9)\n",
      "Collecting h2==3.*\n",
      "  Using cached h2-3.2.0-py2.py3-none-any.whl (65 kB)\n",
      "Collecting h11<0.10,>=0.8\n",
      "  Using cached h11-0.9.0-py2.py3-none-any.whl (53 kB)\n",
      "Collecting hyperframe<6,>=5.2.0\n",
      "  Using cached hyperframe-5.2.0-py2.py3-none-any.whl (12 kB)\n",
      "Collecting hpack<4,>=3.0\n",
      "  Using cached hpack-3.0.0-py2.py3-none-any.whl (38 kB)\n",
      "Installing collected packages: sniffio, hstspreload, hyperframe, hpack, h2, h11, httpcore, rfc3986, httpx, tekore\n",
      "Successfully installed h11-0.9.0 h2-3.2.0 hpack-3.0.0 hstspreload-2020.7.22 httpcore-0.9.1 httpx-0.13.3 hyperframe-5.2.0 rfc3986-1.4.0 sniffio-1.1.0 tekore-2.1.2\n"
     ]
    }
   ],
   "source": [
    "!pip install tekore"
   ]
  },
  {
   "cell_type": "code",
   "execution_count": 3,
   "metadata": {},
   "outputs": [
    {
     "name": "stdout",
     "output_type": "stream",
     "text": [
      "Collecting python-dotenv\n",
      "  Downloading python_dotenv-0.14.0-py2.py3-none-any.whl (17 kB)\n",
      "Installing collected packages: python-dotenv\n",
      "Successfully installed python-dotenv-0.14.0\n"
     ]
    }
   ],
   "source": [
    "!pip install python-dotenv"
   ]
  },
  {
   "cell_type": "code",
   "execution_count": 1,
   "metadata": {},
   "outputs": [],
   "source": [
    "import tekore as tk\n",
    "from dotenv import load_dotenv"
   ]
  },
  {
   "cell_type": "code",
   "execution_count": 7,
   "metadata": {},
   "outputs": [
    {
     "data": {
      "text/plain": [
       "True"
      ]
     },
     "execution_count": 7,
     "metadata": {},
     "output_type": "execute_result"
    }
   ],
   "source": [
    "# load_dotenv isn't working\n",
    "load_dotenv()"
   ]
  },
  {
   "cell_type": "code",
   "execution_count": 8,
   "metadata": {},
   "outputs": [],
   "source": [
    "# do it the unsecure way\n",
    "client_id = '340bdfadbf1b48d684111081b0be204d'\n",
    "client_secret = '7e17534fb28a4d92ae859cdeb637c8d2'"
   ]
  },
  {
   "cell_type": "code",
   "execution_count": 9,
   "metadata": {},
   "outputs": [],
   "source": [
    "# Client id and client secret are the bare minimum for getting any API response.\n",
    "# You can do more things relating to a user's history or playback settings once you have their OAuth verification token\n",
    "# There's some added complexity to getting/storing that, so we're starting simple\n",
    "app_token = tk.request_client_token(client_id, client_secret)\n",
    "spotify = tk.Spotify(app_token)"
   ]
  },
  {
   "cell_type": "code",
   "execution_count": 12,
   "metadata": {},
   "outputs": [
    {
     "name": "stdout",
     "output_type": "stream",
     "text": [
      "Top Lists\n",
      "Hip-Hop\n",
      "Summer\n",
      "Pop\n",
      "Country\n",
      "Workout\n",
      "Latin\n",
      "Mood\n",
      "Rock\n",
      "R&B\n",
      "Black History Is Now\n",
      "Gaming\n",
      "Focus\n",
      "Dance/Electronic\n",
      "Chill\n",
      "At Home\n",
      "Indie\n",
      "Christian\n",
      "Decades\n",
      "Alternative\n",
      "Wellness\n",
      "Pride\n",
      "Party\n",
      "Sleep\n",
      "Classical\n",
      "Jazz\n",
      "Folk & Acoustic\n",
      "Soul\n",
      "Cooking & Dining\n",
      "Romance\n",
      "K-Pop\n",
      "Punk\n",
      "Regional Mexican\n",
      "Spotify Singles\n",
      "Pop culture\n",
      "Arab\n",
      "Desi\n",
      "Anime\n",
      "Tastemakers\n",
      "Afro\n",
      "Comedy\n",
      "Metal\n",
      "Reggae\n",
      "Blues\n",
      "Funk\n",
      "Student\n",
      "Commute\n",
      "Kids & Family\n"
     ]
    }
   ],
   "source": [
    "all_cats = spotify.categories(limit=50)\n",
    "for cat in all_cats.items:\n",
    "    print(cat.name)\n",
    "# These are all 48 categories "
   ]
  },
  {
   "cell_type": "markdown",
   "metadata": {},
   "source": [
    "### I'm starting with a look at one category\n",
    "Many playlists can be tagged with one category label, so out of anticipation that dance/electronic is going to be pretty likely to sound the same, let's get a track list for the first playlist under the \"Dance/Electronic\" label"
   ]
  },
  {
   "cell_type": "code",
   "execution_count": 17,
   "metadata": {},
   "outputs": [
    {
     "data": {
      "text/plain": [
       "(SimplePlaylistPaging with fields:\n",
       "   href = 'https://api.spotify.com/v1/browse/categories/edm_dance/playli...'\n",
       "   items = [16 x SimplePlaylist(collaborative, description, ...)]\n",
       "   limit = 20\n",
       "   next = None\n",
       "   offset = 0\n",
       "   previous = None\n",
       "   total = 16,\n",
       " ModelList with items: [\n",
       "   SimplePlaylist(collaborative, description, external_urls, href, id, ...)\n",
       "   SimplePlaylist(collaborative, description, external_urls, href, id, ...)\n",
       "   SimplePlaylist(collaborative, description, external_urls, href, id, ...)\n",
       "   SimplePlaylist(collaborative, description, external_urls, href, id, ...)\n",
       "   SimplePlaylist(collaborative, description, external_urls, href, id, ...)\n",
       "   SimplePlaylist(collaborative, description, external_urls, href, id, ...)\n",
       "   SimplePlaylist(collaborative, description, external_urls, href, id, ...)\n",
       "   SimplePlaylist(collaborative, description, external_urls, href, id, ...)\n",
       "   SimplePlaylist(collaborative, description, external_urls, href, id, ...)\n",
       "   SimplePlaylist(collaborative, description, external_urls, href, id, ...)\n",
       "   SimplePlaylist(collaborative, description, external_urls, href, id, ...)\n",
       "   SimplePlaylist(collaborative, description, external_urls, href, id, ...)\n",
       "   SimplePlaylist(collaborative, description, external_urls, href, id, ...)\n",
       "   SimplePlaylist(collaborative, description, external_urls, href, id, ...)\n",
       "   SimplePlaylist(collaborative, description, external_urls, href, id, ...)\n",
       "   SimplePlaylist(collaborative, description, external_urls, href, id, ...)\n",
       " ])"
      ]
     },
     "execution_count": 17,
     "metadata": {},
     "output_type": "execute_result"
    }
   ],
   "source": [
    "edm_dance_id = all_cats.items[13].id\n",
    "edm_dance_list = spotify.category_playlists(edm_dance_id,limit=20)\n",
    "edm_dance_list, edm_dance_list.items\n",
    "# This is the object representation of a particular list of playlists, \".items\" is most useful here"
   ]
  },
  {
   "cell_type": "code",
   "execution_count": 20,
   "metadata": {},
   "outputs": [
    {
     "data": {
      "text/plain": [
       "SimplePlaylist with fields:\n",
       "  collaborative = False\n",
       "  description = 'The <a href=\"spotify:genre:edm_dance\">dance music</a> ...'\n",
       "  external_urls = {'spotify'}\n",
       "  href = 'https://api.spotify.com/v1/playlists/37i9dQZF1DX4dyzvuaRJ0n'\n",
       "  id = '37i9dQZF1DX4dyzvuaRJ0n'\n",
       "  images = [1 x Image(height, url, width)]\n",
       "  name = 'mint'\n",
       "  owner = PublicUser(display_name, external_urls, followers, href, ...)\n",
       "  primary_color = None\n",
       "  public = None\n",
       "  snapshot_id = 'MTU5NTU2MzMyMCwwMDAwMDQ1MjAwMDAwMTczN2VmYzIzYTMwMDAwMD...'\n",
       "  tracks = Tracks(href, total)\n",
       "  type = 'playlist'\n",
       "  uri = 'spotify:playlist:37i9dQZF1DX4dyzvuaRJ0n'"
      ]
     },
     "execution_count": 20,
     "metadata": {},
     "output_type": "execute_result"
    }
   ],
   "source": [
    "mint = edm_dance_list.items[0]\n",
    "mint"
   ]
  },
  {
   "cell_type": "markdown",
   "metadata": {},
   "source": [
    "### Let's get the first 2 songs' track data"
   ]
  },
  {
   "cell_type": "code",
   "execution_count": 25,
   "metadata": {},
   "outputs": [
    {
     "name": "stdout",
     "output_type": "stream",
     "text": [
      "This just shows us the link to the playlist and how many songs are in it\n",
      "Tracks with fields:\n",
      "  href = 'https://api.spotify.com/v1/playlists/37i9dQZF1DX4dyzvuaRJ0n/t...'\n",
      "  total = 60\n",
      "---\n",
      " playlist_items is the class that gets us track ID's\n"
     ]
    },
    {
     "data": {
      "text/plain": [
       "ModelList with items: [\n",
       "  PlaylistTrack(added_at, added_by, is_local, primary_color, track, ...)\n",
       "  PlaylistTrack(added_at, added_by, is_local, primary_color, track, ...)\n",
       "  PlaylistTrack(added_at, added_by, is_local, primary_color, track, ...)\n",
       "  PlaylistTrack(added_at, added_by, is_local, primary_color, track, ...)\n",
       "  PlaylistTrack(added_at, added_by, is_local, primary_color, track, ...)\n",
       "  PlaylistTrack(added_at, added_by, is_local, primary_color, track, ...)\n",
       "  PlaylistTrack(added_at, added_by, is_local, primary_color, track, ...)\n",
       "  PlaylistTrack(added_at, added_by, is_local, primary_color, track, ...)\n",
       "  PlaylistTrack(added_at, added_by, is_local, primary_color, track, ...)\n",
       "  PlaylistTrack(added_at, added_by, is_local, primary_color, track, ...)\n",
       "  PlaylistTrack(added_at, added_by, is_local, primary_color, track, ...)\n",
       "  PlaylistTrack(added_at, added_by, is_local, primary_color, track, ...)\n",
       "  PlaylistTrack(added_at, added_by, is_local, primary_color, track, ...)\n",
       "  PlaylistTrack(added_at, added_by, is_local, primary_color, track, ...)\n",
       "  PlaylistTrack(added_at, added_by, is_local, primary_color, track, ...)\n",
       "  PlaylistTrack(added_at, added_by, is_local, primary_color, track, ...)\n",
       "  PlaylistTrack(added_at, added_by, is_local, primary_color, track, ...)\n",
       "  PlaylistTrack(added_at, added_by, is_local, primary_color, track, ...)\n",
       "  PlaylistTrack(added_at, added_by, is_local, primary_color, track, ...)\n",
       "  PlaylistTrack(added_at, added_by, is_local, primary_color, track, ...)\n",
       "  PlaylistTrack(added_at, added_by, is_local, primary_color, track, ...)\n",
       "  PlaylistTrack(added_at, added_by, is_local, primary_color, track, ...)\n",
       "  PlaylistTrack(added_at, added_by, is_local, primary_color, track, ...)\n",
       "  PlaylistTrack(added_at, added_by, is_local, primary_color, track, ...)\n",
       "  PlaylistTrack(added_at, added_by, is_local, primary_color, track, ...)\n",
       "  PlaylistTrack(added_at, added_by, is_local, primary_color, track, ...)\n",
       "  PlaylistTrack(added_at, added_by, is_local, primary_color, track, ...)\n",
       "  PlaylistTrack(added_at, added_by, is_local, primary_color, track, ...)\n",
       "  PlaylistTrack(added_at, added_by, is_local, primary_color, track, ...)\n",
       "  PlaylistTrack(added_at, added_by, is_local, primary_color, track, ...)\n",
       "  PlaylistTrack(added_at, added_by, is_local, primary_color, track, ...)\n",
       "  PlaylistTrack(added_at, added_by, is_local, primary_color, track, ...)\n",
       "  PlaylistTrack(added_at, added_by, is_local, primary_color, track, ...)\n",
       "  PlaylistTrack(added_at, added_by, is_local, primary_color, track, ...)\n",
       "  PlaylistTrack(added_at, added_by, is_local, primary_color, track, ...)\n",
       "  PlaylistTrack(added_at, added_by, is_local, primary_color, track, ...)\n",
       "  PlaylistTrack(added_at, added_by, is_local, primary_color, track, ...)\n",
       "  PlaylistTrack(added_at, added_by, is_local, primary_color, track, ...)\n",
       "  PlaylistTrack(added_at, added_by, is_local, primary_color, track, ...)\n",
       "  PlaylistTrack(added_at, added_by, is_local, primary_color, track, ...)\n",
       "  PlaylistTrack(added_at, added_by, is_local, primary_color, track, ...)\n",
       "  PlaylistTrack(added_at, added_by, is_local, primary_color, track, ...)\n",
       "  PlaylistTrack(added_at, added_by, is_local, primary_color, track, ...)\n",
       "  PlaylistTrack(added_at, added_by, is_local, primary_color, track, ...)\n",
       "  PlaylistTrack(added_at, added_by, is_local, primary_color, track, ...)\n",
       "  PlaylistTrack(added_at, added_by, is_local, primary_color, track, ...)\n",
       "  PlaylistTrack(added_at, added_by, is_local, primary_color, track, ...)\n",
       "  PlaylistTrack(added_at, added_by, is_local, primary_color, track, ...)\n",
       "  PlaylistTrack(added_at, added_by, is_local, primary_color, track, ...)\n",
       "  PlaylistTrack(added_at, added_by, is_local, primary_color, track, ...)\n",
       "  PlaylistTrack(added_at, added_by, is_local, primary_color, track, ...)\n",
       "  PlaylistTrack(added_at, added_by, is_local, primary_color, track, ...)\n",
       "  PlaylistTrack(added_at, added_by, is_local, primary_color, track, ...)\n",
       "  PlaylistTrack(added_at, added_by, is_local, primary_color, track, ...)\n",
       "  PlaylistTrack(added_at, added_by, is_local, primary_color, track, ...)\n",
       "  PlaylistTrack(added_at, added_by, is_local, primary_color, track, ...)\n",
       "  PlaylistTrack(added_at, added_by, is_local, primary_color, track, ...)\n",
       "  PlaylistTrack(added_at, added_by, is_local, primary_color, track, ...)\n",
       "  PlaylistTrack(added_at, added_by, is_local, primary_color, track, ...)\n",
       "  PlaylistTrack(added_at, added_by, is_local, primary_color, track, ...)\n",
       "]"
      ]
     },
     "execution_count": 25,
     "metadata": {},
     "output_type": "execute_result"
    }
   ],
   "source": [
    "print(\"This just shows us the link to the playlist and how many songs are in it\")\n",
    "print(mint.tracks)\n",
    "print(\"---\\n\",\"playlist_items is the class that gets us track ID's\")\n",
    "mint_tracks = spotify.playlist_items(mint.id).items\n",
    "mint_tracks"
   ]
  },
  {
   "cell_type": "code",
   "execution_count": 28,
   "metadata": {},
   "outputs": [
    {
     "data": {
      "text/plain": [
       "FullPlaylistTrack with fields:\n",
       "  album = SimpleAlbum(album_group, album_type, artists, ...)\n",
       "  artists = [2 x SimpleArtist(external_urls, href, id, name, type, uri)]\n",
       "  available_markets = [90 x str]\n",
       "  disc_number = 1\n",
       "  duration_ms = 182400\n",
       "  episode = False\n",
       "  explicit = False\n",
       "  external_ids = {'isrc'}\n",
       "  external_urls = {'spotify'}\n",
       "  href = 'https://api.spotify.com/v1/tracks/2dh6Pnl5egc1FrQS6EsW4n'\n",
       "  id = '2dh6Pnl5egc1FrQS6EsW4n'\n",
       "  is_local = False\n",
       "  is_playable = None\n",
       "  linked_from = None\n",
       "  name = '2AM (feat. Carla Monroe)'\n",
       "  popularity = 54\n",
       "  preview_url = 'https://p.scdn.co/mp3-preview/fd4257f22530a43d582131e8...'\n",
       "  restrictions = None\n",
       "  track = True\n",
       "  track_number = 1\n",
       "  type = 'track'\n",
       "  uri = 'spotify:track:2dh6Pnl5egc1FrQS6EsW4n'"
      ]
     },
     "execution_count": 28,
     "metadata": {},
     "output_type": "execute_result"
    }
   ],
   "source": [
    "song1 = mint_tracks[0].track\n",
    "song2 = mint_tracks[1].track\n",
    "song1"
   ]
  },
  {
   "cell_type": "code",
   "execution_count": 30,
   "metadata": {},
   "outputs": [
    {
     "data": {
      "text/plain": [
       "(AudioAnalysis with fields:\n",
       "   bars = [92 x TimeInterval(confidence, duration, start)]\n",
       "   beats = [368 x TimeInterval(confidence, duration, start)]\n",
       "   meta = {'analysis_time', 'analyzer_version', 'detailed_status', ...}\n",
       "   sections = [8 x Section(confidence, duration, key, key_confidence, ...)]\n",
       "   segments = [806 x Segment(confidence, duration, loudness_end, ...)]\n",
       "   tatums = [736 x TimeInterval(confidence, duration, start)]\n",
       "   track = {'analysis_channels', 'analysis_sample_rate', ...},\n",
       " AudioFeatures with fields:\n",
       "   acousticness = 0.0426\n",
       "   analysis_url = 'https://api.spotify.com/v1/audio-analysis/2dh6Pnl5egc...'\n",
       "   danceability = 0.632\n",
       "   duration_ms = 182400\n",
       "   energy = 0.868\n",
       "   id = '2dh6Pnl5egc1FrQS6EsW4n'\n",
       "   instrumentalness = 0.263\n",
       "   key = 5\n",
       "   liveness = 0.307\n",
       "   loudness = -6.254\n",
       "   mode = 1\n",
       "   speechiness = 0.0357\n",
       "   tempo = 122.98\n",
       "   time_signature = 4\n",
       "   track_href = 'https://api.spotify.com/v1/tracks/2dh6Pnl5egc1FrQS6EsW4n'\n",
       "   type = 'audio_features'\n",
       "   uri = 'spotify:track:2dh6Pnl5egc1FrQS6EsW4n'\n",
       "   valence = 0.455)"
      ]
     },
     "execution_count": 30,
     "metadata": {},
     "output_type": "execute_result"
    }
   ],
   "source": [
    "# audio_analysis and audio_features\n",
    "song1_analysis = spotify.track_audio_analysis(song1.id)\n",
    "song2_analysis = spotify.track_audio_analysis(song2.id)\n",
    "song1_features = spotify.track_audio_features(song1.id)\n",
    "song2_features = spotify.track_audio_features(song2.id)\n",
    "song1_analysis, song1_features"
   ]
  },
  {
   "cell_type": "markdown",
   "metadata": {},
   "source": [
    "### Combine all the track's data and compare correlation"
   ]
  },
  {
   "cell_type": "code",
   "execution_count": 31,
   "metadata": {},
   "outputs": [],
   "source": [
    "import pandas as pd"
   ]
  },
  {
   "cell_type": "code",
   "execution_count": 42,
   "metadata": {},
   "outputs": [
    {
     "data": {
      "text/html": [
       "<div>\n",
       "<style scoped>\n",
       "    .dataframe tbody tr th:only-of-type {\n",
       "        vertical-align: middle;\n",
       "    }\n",
       "\n",
       "    .dataframe tbody tr th {\n",
       "        vertical-align: top;\n",
       "    }\n",
       "\n",
       "    .dataframe thead th {\n",
       "        text-align: right;\n",
       "    }\n",
       "</style>\n",
       "<table border=\"1\" class=\"dataframe\">\n",
       "  <thead>\n",
       "    <tr style=\"text-align: right;\">\n",
       "      <th></th>\n",
       "      <th>0</th>\n",
       "      <th>1</th>\n",
       "    </tr>\n",
       "  </thead>\n",
       "  <tbody>\n",
       "    <tr>\n",
       "      <th>0</th>\n",
       "      <td>{'id': '2dh6Pnl5egc1FrQS6EsW4n', 'href': 'http...</td>\n",
       "      <td>{'id': '2dh6Pnl5egc1FrQS6EsW4n', 'acousticness...</td>\n",
       "    </tr>\n",
       "    <tr>\n",
       "      <th>1</th>\n",
       "      <td>{'id': '3Be7CLdHZpyzsVijme39cW', 'href': 'http...</td>\n",
       "      <td>{'id': '2dh6Pnl5egc1FrQS6EsW4n', 'acousticness...</td>\n",
       "    </tr>\n",
       "  </tbody>\n",
       "</table>\n",
       "</div>"
      ],
      "text/plain": [
       "                                                   0  \\\n",
       "0  {'id': '2dh6Pnl5egc1FrQS6EsW4n', 'href': 'http...   \n",
       "1  {'id': '3Be7CLdHZpyzsVijme39cW', 'href': 'http...   \n",
       "\n",
       "                                                   1  \n",
       "0  {'id': '2dh6Pnl5egc1FrQS6EsW4n', 'acousticness...  \n",
       "1  {'id': '2dh6Pnl5egc1FrQS6EsW4n', 'acousticness...  "
      ]
     },
     "execution_count": 42,
     "metadata": {},
     "output_type": "execute_result"
    }
   ],
   "source": [
    "song1song2_compare = pd.DataFrame([[vars(song1), vars(song1_features)],\n",
    "                                   [vars(song2), vars(song1_features)]])\n",
    "song1song2_compare.head()"
   ]
  }
 ],
 "metadata": {
  "kernelspec": {
   "display_name": "Python 3",
   "language": "python",
   "name": "python3"
  },
  "language_info": {
   "codemirror_mode": {
    "name": "ipython",
    "version": 3
   },
   "file_extension": ".py",
   "mimetype": "text/x-python",
   "name": "python",
   "nbconvert_exporter": "python",
   "pygments_lexer": "ipython3",
   "version": "3.8.3"
  }
 },
 "nbformat": 4,
 "nbformat_minor": 4
}
