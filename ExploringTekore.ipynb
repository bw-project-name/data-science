{
 "cells": [
  {
   "cell_type": "code",
   "execution_count": 1,
   "metadata": {},
   "outputs": [
    {
     "name": "stdout",
     "output_type": "stream",
     "text": [
      "Requirement already satisfied: tekore in c:\\users\\owner\\appdata\\local\\programs\\python\\python38-32\\lib\\site-packages (2.1.2)\n",
      "Requirement already satisfied: requests~=2.19 in c:\\users\\owner\\appdata\\local\\programs\\python\\python38-32\\lib\\site-packages (from tekore) (2.24.0)\n",
      "Requirement already satisfied: httpx<0.14,>=0.11 in c:\\users\\owner\\appdata\\local\\programs\\python\\python38-32\\lib\\site-packages (from tekore) (0.13.3)\n",
      "Requirement already satisfied: urllib3!=1.25.0,!=1.25.1,<1.26,>=1.21.1 in c:\\users\\owner\\appdata\\local\\programs\\python\\python38-32\\lib\\site-packages (from requests~=2.19->tekore) (1.25.9)\n",
      "Requirement already satisfied: idna<3,>=2.5 in c:\\users\\owner\\appdata\\local\\programs\\python\\python38-32\\lib\\site-packages (from requests~=2.19->tekore) (2.10)\n",
      "Requirement already satisfied: certifi>=2017.4.17 in c:\\users\\owner\\appdata\\local\\programs\\python\\python38-32\\lib\\site-packages (from requests~=2.19->tekore) (2020.4.5.1)\n",
      "Requirement already satisfied: chardet<4,>=3.0.2 in c:\\users\\owner\\appdata\\local\\programs\\python\\python38-32\\lib\\site-packages (from requests~=2.19->tekore) (3.0.4)\n",
      "Requirement already satisfied: rfc3986<2,>=1.3 in c:\\users\\owner\\appdata\\local\\programs\\python\\python38-32\\lib\\site-packages (from httpx<0.14,>=0.11->tekore) (1.4.0)\n",
      "Requirement already satisfied: sniffio in c:\\users\\owner\\appdata\\local\\programs\\python\\python38-32\\lib\\site-packages (from httpx<0.14,>=0.11->tekore) (1.1.0)\n",
      "Requirement already satisfied: hstspreload in c:\\users\\owner\\appdata\\local\\programs\\python\\python38-32\\lib\\site-packages (from httpx<0.14,>=0.11->tekore) (2020.7.22)\n",
      "Requirement already satisfied: httpcore==0.9.* in c:\\users\\owner\\appdata\\local\\programs\\python\\python38-32\\lib\\site-packages (from httpx<0.14,>=0.11->tekore) (0.9.1)\n",
      "Requirement already satisfied: h2==3.* in c:\\users\\owner\\appdata\\local\\programs\\python\\python38-32\\lib\\site-packages (from httpcore==0.9.*->httpx<0.14,>=0.11->tekore) (3.2.0)\n",
      "Requirement already satisfied: h11<0.10,>=0.8 in c:\\users\\owner\\appdata\\local\\programs\\python\\python38-32\\lib\\site-packages (from httpcore==0.9.*->httpx<0.14,>=0.11->tekore) (0.9.0)\n",
      "Requirement already satisfied: hyperframe<6,>=5.2.0 in c:\\users\\owner\\appdata\\local\\programs\\python\\python38-32\\lib\\site-packages (from h2==3.*->httpcore==0.9.*->httpx<0.14,>=0.11->tekore) (5.2.0)\n",
      "Requirement already satisfied: hpack<4,>=3.0 in c:\\users\\owner\\appdata\\local\\programs\\python\\python38-32\\lib\\site-packages (from h2==3.*->httpcore==0.9.*->httpx<0.14,>=0.11->tekore) (3.0.0)\n"
     ]
    }
   ],
   "source": [
    "!pip install tekore"
   ]
  },
  {
   "cell_type": "code",
   "execution_count": 2,
   "metadata": {},
   "outputs": [
    {
     "name": "stdout",
     "output_type": "stream",
     "text": [
      "Requirement already satisfied: python-dotenv in c:\\users\\owner\\appdata\\local\\programs\\python\\python38-32\\lib\\site-packages (0.14.0)\n"
     ]
    }
   ],
   "source": [
    "!pip install python-dotenv"
   ]
  },
  {
   "cell_type": "code",
   "execution_count": 91,
   "metadata": {},
   "outputs": [
    {
     "name": "stdout",
     "output_type": "stream",
     "text": [
      "Requirement already satisfied: tqdm in c:\\users\\owner\\appdata\\local\\programs\\python\\python38-32\\lib\\site-packages (4.48.0)\n",
      "Requirement already satisfied: colorama in c:\\users\\owner\\appdata\\roaming\\python\\python38\\site-packages (0.4.3)\n"
     ]
    },
    {
     "name": "stderr",
     "output_type": "stream",
     "text": [
      "Enabling notebook extension jupyter-js-widgets/extension...\n",
      "      - Validating: ok\n"
     ]
    }
   ],
   "source": [
    "!pip install tqdm colorama\n",
    "!jupyter nbextension enable --py widgetsnbextension"
   ]
  },
  {
   "cell_type": "code",
   "execution_count": 94,
   "metadata": {},
   "outputs": [],
   "source": [
    "import tekore as tk\n",
    "import os\n",
    "from dotenv import load_dotenv\n",
    "import pandas as pd\n",
    "from tqdm import tqdm"
   ]
  },
  {
   "cell_type": "code",
   "execution_count": 23,
   "metadata": {},
   "outputs": [
    {
     "data": {
      "text/plain": [
       "('340bdfadbf1b48d684111081b0be204d', '7d00cad90c844b7eb04e32e48711e372')"
      ]
     },
     "execution_count": 23,
     "metadata": {},
     "output_type": "execute_result"
    }
   ],
   "source": [
    "# fuck you, load_dotenv\n",
    "# you know what, load_dotenv? We got off on the wrong foot. I wanted you to be a certain thing, but you work in a way that's all your own I guess. I must let you be the free spirit you are.\n",
    "load_dotenv()\n",
    "client_id = os.getenv('CLIENT_ID')\n",
    "client_secret = os.getenv('CLIENT_SECRET')\n",
    "client_id, client_secret"
   ]
  },
  {
   "cell_type": "code",
   "execution_count": 24,
   "metadata": {},
   "outputs": [],
   "source": [
    "# Client id and client secret are the bare minimum for getting any API response.\n",
    "# You can do more things relating to a user's history or playback settings once you have their OAuth verification token\n",
    "# There's some added complexity to getting/storing that, so we're starting simple\n",
    "app_token = tk.request_client_token(client_id, client_secret)\n",
    "spotify = tk.Spotify(app_token)"
   ]
  },
  {
   "cell_type": "code",
   "execution_count": 6,
   "metadata": {},
   "outputs": [
    {
     "name": "stdout",
     "output_type": "stream",
     "text": [
      "Top Lists\n",
      "At Home\n",
      "Pop\n",
      "Mood\n",
      "Decades\n",
      "Hip-Hop\n",
      "Gaming\n",
      "Wellness\n",
      "Workout\n",
      "Chill\n",
      "Party\n",
      "Metal\n",
      "Focus\n",
      "Sleep\n",
      "Rock\n",
      "Electronic/Dance\n",
      "Cooking & Dining\n",
      "Jazz\n",
      "R&B\n",
      "Romance\n",
      "Soul\n",
      "Indie\n",
      "Classical\n",
      "Kids & Family\n",
      "Latin\n",
      "Reggae\n",
      "Blues\n",
      "Funk\n",
      "Punk\n",
      "Country\n",
      "Folk & Acoustic\n",
      "Desi\n",
      "Arab\n",
      "Afro\n",
      "Travel\n",
      "K-Pop\n"
     ]
    }
   ],
   "source": [
    "all_cats_current = spotify.categories(limit=50)\n",
    "for cat in all_cats_current.items:\n",
    "    print(cat.name)\n",
    "# These are all 48 categories \n",
    "# Thing I just realized: the order of these shifts depending on the time you retrieve them\n",
    "# we're fixing this by hard-coding a master list of name, cat_id pairings so that the labels don't change during training\n",
    "all_cats_master =  [['toplists', 'Top Lists'],\n",
    "                    ['hiphop', 'Hip-Hop'],\n",
    "                    ['summer', 'Summer'],\n",
    "                    ['pop', 'Pop'],\n",
    "                    ['country', 'Country'],\n",
    "                    ['workout', 'Workout'],\n",
    "                    ['latin', 'Latin'],\n",
    "                    ['mood', 'Mood'],\n",
    "                    ['rock', 'Rock'],\n",
    "                    ['rnb', 'R&B'],\n",
    "                    ['blackhistorymonth', 'Black History Is Now'],\n",
    "                    ['gaming', 'Gaming'],\n",
    "                    ['focus', 'Focus'],\n",
    "                    ['edm_dance', 'Dance/Electronic'],\n",
    "                    ['chill', 'Chill'],\n",
    "                    ['at_home', 'At Home'],\n",
    "                    ['indie_alt', 'Indie'],\n",
    "                    ['inspirational', 'Christian'],\n",
    "                    ['decades', 'Decades'],\n",
    "                    ['alternative', 'Alternative'],\n",
    "                    ['wellness', 'Wellness'],\n",
    "                    ['pride', 'Pride'],\n",
    "                    ['party', 'Party'],\n",
    "                    ['sleep', 'Sleep'],\n",
    "                    ['classical', 'Classical'],\n",
    "                    ['jazz', 'Jazz'],\n",
    "                    ['roots', 'Folk & Acoustic'],\n",
    "                    ['soul', 'Soul'],\n",
    "                    ['dinner', 'Cooking & Dining'],\n",
    "                    ['romance', 'Romance'],\n",
    "                    ['kpop', 'K-Pop'],\n",
    "                    ['punk', 'Punk'],\n",
    "                    ['regionalmexican', 'Regional Mexican'],\n",
    "                    ['sessions', 'Spotify Singles'],\n",
    "                    ['popculture', 'Pop culture'],\n",
    "                    ['arab', 'Arab'],\n",
    "                    ['desi', 'Desi'],\n",
    "                    ['anime', 'Anime'],\n",
    "                    ['thirdparty', 'Tastemakers'],\n",
    "                    ['afro', 'Afro'],\n",
    "                    ['comedy_v2_podcast', 'Comedy'],\n",
    "                    ['metal', 'Metal'],\n",
    "                    ['reggae', 'Reggae'],\n",
    "                    ['blues', 'Blues'],\n",
    "                    ['funk', 'Funk'],\n",
    "                    ['student', 'Student'],\n",
    "                    ['travel', 'Commute'],\n",
    "                    ['family', 'Kids & Family']]"
   ]
  },
  {
   "cell_type": "markdown",
   "metadata": {},
   "source": [
    "3 things:\n",
    "- begin listing processing steps for each song\n",
    "- script to compile all tracks under a category\n",
    "- search genres, date range, duration range"
   ]
  },
  {
   "cell_type": "markdown",
   "metadata": {},
   "source": [
    "### I'm starting with a look at one category\n",
    "Many playlists can be tagged with one category label, so out of anticipation that dance/electronic is going to be pretty likely to sound the same, let's get a track list for the first playlist under the \"Dance/Electronic\" label"
   ]
  },
  {
   "cell_type": "code",
   "execution_count": 7,
   "metadata": {},
   "outputs": [
    {
     "data": {
      "text/plain": [
       "(SimplePlaylistPaging with fields:\n",
       "   href = 'https://api.spotify.com/v1/browse/categories/edm_dance/playli...'\n",
       "   items = [18 x SimplePlaylist(collaborative, description, ...)]\n",
       "   limit = 20\n",
       "   next = None\n",
       "   offset = 0\n",
       "   previous = None\n",
       "   total = 18,\n",
       " ModelList with items: [\n",
       "   SimplePlaylist(collaborative, description, external_urls, href, id, ...)\n",
       "   SimplePlaylist(collaborative, description, external_urls, href, id, ...)\n",
       "   SimplePlaylist(collaborative, description, external_urls, href, id, ...)\n",
       "   SimplePlaylist(collaborative, description, external_urls, href, id, ...)\n",
       "   SimplePlaylist(collaborative, description, external_urls, href, id, ...)\n",
       "   SimplePlaylist(collaborative, description, external_urls, href, id, ...)\n",
       "   SimplePlaylist(collaborative, description, external_urls, href, id, ...)\n",
       "   SimplePlaylist(collaborative, description, external_urls, href, id, ...)\n",
       "   SimplePlaylist(collaborative, description, external_urls, href, id, ...)\n",
       "   SimplePlaylist(collaborative, description, external_urls, href, id, ...)\n",
       "   SimplePlaylist(collaborative, description, external_urls, href, id, ...)\n",
       "   SimplePlaylist(collaborative, description, external_urls, href, id, ...)\n",
       "   SimplePlaylist(collaborative, description, external_urls, href, id, ...)\n",
       "   SimplePlaylist(collaborative, description, external_urls, href, id, ...)\n",
       "   SimplePlaylist(collaborative, description, external_urls, href, id, ...)\n",
       "   SimplePlaylist(collaborative, description, external_urls, href, id, ...)\n",
       "   SimplePlaylist(collaborative, description, external_urls, href, id, ...)\n",
       "   SimplePlaylist(collaborative, description, external_urls, href, id, ...)\n",
       " ])"
      ]
     },
     "execution_count": 7,
     "metadata": {},
     "output_type": "execute_result"
    }
   ],
   "source": [
    "edm_dance_list = spotify.category_playlists('edm_dance',limit=20)\n",
    "edm_dance_list, edm_dance_list.items\n",
    "# This is the object representation of a particular list of playlists, \".items\" is most useful here"
   ]
  },
  {
   "cell_type": "code",
   "execution_count": 8,
   "metadata": {},
   "outputs": [
    {
     "data": {
      "text/plain": [
       "SimplePlaylist with fields:\n",
       "  collaborative = False\n",
       "  description = 'The <a href=\"spotify:genre:edm_dance\">dance music</a> ...'\n",
       "  external_urls = {'spotify'}\n",
       "  href = 'https://api.spotify.com/v1/playlists/37i9dQZF1DX4dyzvuaRJ0n'\n",
       "  id = '37i9dQZF1DX4dyzvuaRJ0n'\n",
       "  images = [1 x Image(height, url, width)]\n",
       "  name = 'mint'\n",
       "  owner = PublicUser(display_name, external_urls, followers, href, ...)\n",
       "  primary_color = None\n",
       "  public = None\n",
       "  snapshot_id = 'MTU5NTU2MzMyMCwwMDAwMDQ1MjAwMDAwMTczN2VmYzIzYTMwMDAwMD...'\n",
       "  tracks = Tracks(href, total)\n",
       "  type = 'playlist'\n",
       "  uri = 'spotify:playlist:37i9dQZF1DX4dyzvuaRJ0n'"
      ]
     },
     "execution_count": 8,
     "metadata": {},
     "output_type": "execute_result"
    }
   ],
   "source": [
    "mint = edm_dance_list.items[0]\n",
    "mint # Not guaranteed to be \"mint\" playlist because the category order shifted above"
   ]
  },
  {
   "cell_type": "markdown",
   "metadata": {},
   "source": [
    "### Let's get the first 2 songs' track data"
   ]
  },
  {
   "cell_type": "code",
   "execution_count": 9,
   "metadata": {},
   "outputs": [
    {
     "name": "stdout",
     "output_type": "stream",
     "text": [
      "This just shows us the link to the playlist and how many songs are in it\n",
      "Tracks with fields:\n",
      "  href = 'https://api.spotify.com/v1/playlists/37i9dQZF1DX4dyzvuaRJ0n/t...'\n",
      "  total = 60\n",
      "---\n",
      " playlist_items is the class that gets us track ID's\n"
     ]
    },
    {
     "data": {
      "text/plain": [
       "ModelList with items: [\n",
       "  PlaylistTrack(added_at, added_by, is_local, primary_color, track, ...)\n",
       "  PlaylistTrack(added_at, added_by, is_local, primary_color, track, ...)\n",
       "  PlaylistTrack(added_at, added_by, is_local, primary_color, track, ...)\n",
       "  PlaylistTrack(added_at, added_by, is_local, primary_color, track, ...)\n",
       "  PlaylistTrack(added_at, added_by, is_local, primary_color, track, ...)\n",
       "  PlaylistTrack(added_at, added_by, is_local, primary_color, track, ...)\n",
       "  PlaylistTrack(added_at, added_by, is_local, primary_color, track, ...)\n",
       "  PlaylistTrack(added_at, added_by, is_local, primary_color, track, ...)\n",
       "  PlaylistTrack(added_at, added_by, is_local, primary_color, track, ...)\n",
       "  PlaylistTrack(added_at, added_by, is_local, primary_color, track, ...)\n",
       "  PlaylistTrack(added_at, added_by, is_local, primary_color, track, ...)\n",
       "  PlaylistTrack(added_at, added_by, is_local, primary_color, track, ...)\n",
       "  PlaylistTrack(added_at, added_by, is_local, primary_color, track, ...)\n",
       "  PlaylistTrack(added_at, added_by, is_local, primary_color, track, ...)\n",
       "  PlaylistTrack(added_at, added_by, is_local, primary_color, track, ...)\n",
       "  PlaylistTrack(added_at, added_by, is_local, primary_color, track, ...)\n",
       "  PlaylistTrack(added_at, added_by, is_local, primary_color, track, ...)\n",
       "  PlaylistTrack(added_at, added_by, is_local, primary_color, track, ...)\n",
       "  PlaylistTrack(added_at, added_by, is_local, primary_color, track, ...)\n",
       "  PlaylistTrack(added_at, added_by, is_local, primary_color, track, ...)\n",
       "  PlaylistTrack(added_at, added_by, is_local, primary_color, track, ...)\n",
       "  PlaylistTrack(added_at, added_by, is_local, primary_color, track, ...)\n",
       "  PlaylistTrack(added_at, added_by, is_local, primary_color, track, ...)\n",
       "  PlaylistTrack(added_at, added_by, is_local, primary_color, track, ...)\n",
       "  PlaylistTrack(added_at, added_by, is_local, primary_color, track, ...)\n",
       "  PlaylistTrack(added_at, added_by, is_local, primary_color, track, ...)\n",
       "  PlaylistTrack(added_at, added_by, is_local, primary_color, track, ...)\n",
       "  PlaylistTrack(added_at, added_by, is_local, primary_color, track, ...)\n",
       "  PlaylistTrack(added_at, added_by, is_local, primary_color, track, ...)\n",
       "  PlaylistTrack(added_at, added_by, is_local, primary_color, track, ...)\n",
       "  PlaylistTrack(added_at, added_by, is_local, primary_color, track, ...)\n",
       "  PlaylistTrack(added_at, added_by, is_local, primary_color, track, ...)\n",
       "  PlaylistTrack(added_at, added_by, is_local, primary_color, track, ...)\n",
       "  PlaylistTrack(added_at, added_by, is_local, primary_color, track, ...)\n",
       "  PlaylistTrack(added_at, added_by, is_local, primary_color, track, ...)\n",
       "  PlaylistTrack(added_at, added_by, is_local, primary_color, track, ...)\n",
       "  PlaylistTrack(added_at, added_by, is_local, primary_color, track, ...)\n",
       "  PlaylistTrack(added_at, added_by, is_local, primary_color, track, ...)\n",
       "  PlaylistTrack(added_at, added_by, is_local, primary_color, track, ...)\n",
       "  PlaylistTrack(added_at, added_by, is_local, primary_color, track, ...)\n",
       "  PlaylistTrack(added_at, added_by, is_local, primary_color, track, ...)\n",
       "  PlaylistTrack(added_at, added_by, is_local, primary_color, track, ...)\n",
       "  PlaylistTrack(added_at, added_by, is_local, primary_color, track, ...)\n",
       "  PlaylistTrack(added_at, added_by, is_local, primary_color, track, ...)\n",
       "  PlaylistTrack(added_at, added_by, is_local, primary_color, track, ...)\n",
       "  PlaylistTrack(added_at, added_by, is_local, primary_color, track, ...)\n",
       "  PlaylistTrack(added_at, added_by, is_local, primary_color, track, ...)\n",
       "  PlaylistTrack(added_at, added_by, is_local, primary_color, track, ...)\n",
       "  PlaylistTrack(added_at, added_by, is_local, primary_color, track, ...)\n",
       "  PlaylistTrack(added_at, added_by, is_local, primary_color, track, ...)\n",
       "  PlaylistTrack(added_at, added_by, is_local, primary_color, track, ...)\n",
       "  PlaylistTrack(added_at, added_by, is_local, primary_color, track, ...)\n",
       "  PlaylistTrack(added_at, added_by, is_local, primary_color, track, ...)\n",
       "  PlaylistTrack(added_at, added_by, is_local, primary_color, track, ...)\n",
       "  PlaylistTrack(added_at, added_by, is_local, primary_color, track, ...)\n",
       "  PlaylistTrack(added_at, added_by, is_local, primary_color, track, ...)\n",
       "  PlaylistTrack(added_at, added_by, is_local, primary_color, track, ...)\n",
       "  PlaylistTrack(added_at, added_by, is_local, primary_color, track, ...)\n",
       "  PlaylistTrack(added_at, added_by, is_local, primary_color, track, ...)\n",
       "  PlaylistTrack(added_at, added_by, is_local, primary_color, track, ...)\n",
       "]"
      ]
     },
     "execution_count": 9,
     "metadata": {},
     "output_type": "execute_result"
    }
   ],
   "source": [
    "print(\"This just shows us the link to the playlist and how many songs are in it\")\n",
    "print(mint.tracks)\n",
    "print(\"---\\n\",\"playlist_items is the class that gets us track ID's\")\n",
    "mint_tracks = spotify.playlist_items(mint.id).items\n",
    "mint_tracks"
   ]
  },
  {
   "cell_type": "code",
   "execution_count": 10,
   "metadata": {},
   "outputs": [
    {
     "data": {
      "text/plain": [
       "FullPlaylistTrack with fields:\n",
       "  album = SimpleAlbum(album_group, album_type, artists, ...)\n",
       "  artists = [2 x SimpleArtist(external_urls, href, id, name, type, uri)]\n",
       "  available_markets = [90 x str]\n",
       "  disc_number = 1\n",
       "  duration_ms = 182400\n",
       "  episode = False\n",
       "  explicit = False\n",
       "  external_ids = {'isrc'}\n",
       "  external_urls = {'spotify'}\n",
       "  href = 'https://api.spotify.com/v1/tracks/2dh6Pnl5egc1FrQS6EsW4n'\n",
       "  id = '2dh6Pnl5egc1FrQS6EsW4n'\n",
       "  is_local = False\n",
       "  is_playable = None\n",
       "  linked_from = None\n",
       "  name = '2AM (feat. Carla Monroe)'\n",
       "  popularity = 58\n",
       "  preview_url = 'https://p.scdn.co/mp3-preview/fd4257f22530a43d582131e8...'\n",
       "  restrictions = None\n",
       "  track = True\n",
       "  track_number = 1\n",
       "  type = 'track'\n",
       "  uri = 'spotify:track:2dh6Pnl5egc1FrQS6EsW4n'"
      ]
     },
     "execution_count": 10,
     "metadata": {},
     "output_type": "execute_result"
    }
   ],
   "source": [
    "song1 = mint_tracks[0].track\n",
    "song2 = mint_tracks[1].track\n",
    "song1"
   ]
  },
  {
   "cell_type": "code",
   "execution_count": 11,
   "metadata": {},
   "outputs": [
    {
     "data": {
      "text/plain": [
       "(AudioAnalysis with fields:\n",
       "   bars = [92 x TimeInterval(confidence, duration, start)]\n",
       "   beats = [368 x TimeInterval(confidence, duration, start)]\n",
       "   meta = {'analysis_time', 'analyzer_version', 'detailed_status', ...}\n",
       "   sections = [8 x Section(confidence, duration, key, key_confidence, ...)]\n",
       "   segments = [806 x Segment(confidence, duration, loudness_end, ...)]\n",
       "   tatums = [736 x TimeInterval(confidence, duration, start)]\n",
       "   track = {'analysis_channels', 'analysis_sample_rate', ...},\n",
       " AudioFeatures with fields:\n",
       "   acousticness = 0.0426\n",
       "   analysis_url = 'https://api.spotify.com/v1/audio-analysis/2dh6Pnl5egc...'\n",
       "   danceability = 0.632\n",
       "   duration_ms = 182400\n",
       "   energy = 0.868\n",
       "   id = '2dh6Pnl5egc1FrQS6EsW4n'\n",
       "   instrumentalness = 0.263\n",
       "   key = 5\n",
       "   liveness = 0.307\n",
       "   loudness = -6.254\n",
       "   mode = 1\n",
       "   speechiness = 0.0357\n",
       "   tempo = 122.98\n",
       "   time_signature = 4\n",
       "   track_href = 'https://api.spotify.com/v1/tracks/2dh6Pnl5egc1FrQS6EsW4n'\n",
       "   type = 'audio_features'\n",
       "   uri = 'spotify:track:2dh6Pnl5egc1FrQS6EsW4n'\n",
       "   valence = 0.455)"
      ]
     },
     "execution_count": 11,
     "metadata": {},
     "output_type": "execute_result"
    }
   ],
   "source": [
    "# audio_analysis and audio_features\n",
    "song1_analysis = spotify.track_audio_analysis(song1.id)\n",
    "song2_analysis = spotify.track_audio_analysis(song2.id)\n",
    "song1_features = spotify.track_audio_features(song1.id)\n",
    "song2_features = spotify.track_audio_features(song2.id)\n",
    "song1_analysis, song1_features"
   ]
  },
  {
   "cell_type": "markdown",
   "metadata": {},
   "source": [
    "### Combine all the track's data and compare correlation"
   ]
  },
  {
   "cell_type": "code",
   "execution_count": 12,
   "metadata": {},
   "outputs": [
    {
     "data": {
      "text/html": [
       "<div>\n",
       "<style scoped>\n",
       "    .dataframe tbody tr th:only-of-type {\n",
       "        vertical-align: middle;\n",
       "    }\n",
       "\n",
       "    .dataframe tbody tr th {\n",
       "        vertical-align: top;\n",
       "    }\n",
       "\n",
       "    .dataframe thead th {\n",
       "        text-align: right;\n",
       "    }\n",
       "</style>\n",
       "<table border=\"1\" class=\"dataframe\">\n",
       "  <thead>\n",
       "    <tr style=\"text-align: right;\">\n",
       "      <th></th>\n",
       "      <th>0</th>\n",
       "      <th>1</th>\n",
       "    </tr>\n",
       "  </thead>\n",
       "  <tbody>\n",
       "    <tr>\n",
       "      <th>0</th>\n",
       "      <td>{'id': '2dh6Pnl5egc1FrQS6EsW4n', 'href': 'http...</td>\n",
       "      <td>{'id': '2dh6Pnl5egc1FrQS6EsW4n', 'acousticness...</td>\n",
       "    </tr>\n",
       "    <tr>\n",
       "      <th>1</th>\n",
       "      <td>{'id': '3Be7CLdHZpyzsVijme39cW', 'href': 'http...</td>\n",
       "      <td>{'id': '2dh6Pnl5egc1FrQS6EsW4n', 'acousticness...</td>\n",
       "    </tr>\n",
       "  </tbody>\n",
       "</table>\n",
       "</div>"
      ],
      "text/plain": [
       "                                                   0  \\\n",
       "0  {'id': '2dh6Pnl5egc1FrQS6EsW4n', 'href': 'http...   \n",
       "1  {'id': '3Be7CLdHZpyzsVijme39cW', 'href': 'http...   \n",
       "\n",
       "                                                   1  \n",
       "0  {'id': '2dh6Pnl5egc1FrQS6EsW4n', 'acousticness...  \n",
       "1  {'id': '2dh6Pnl5egc1FrQS6EsW4n', 'acousticness...  "
      ]
     },
     "execution_count": 12,
     "metadata": {},
     "output_type": "execute_result"
    }
   ],
   "source": [
    "song1song2_compare = pd.DataFrame([[vars(song1), vars(song1_features)],\n",
    "                                   [vars(song2), vars(song1_features)]])\n",
    "song1song2_compare.head()"
   ]
  },
  {
   "cell_type": "markdown",
   "metadata": {},
   "source": [
    "# New activity: Condense an entire mood category"
   ]
  },
  {
   "cell_type": "code",
   "execution_count": 13,
   "metadata": {},
   "outputs": [
    {
     "ename": "NameError",
     "evalue": "name 'track' is not defined",
     "output_type": "error",
     "traceback": [
      "\u001b[1;31m---------------------------------------------------------------------------\u001b[0m",
      "\u001b[1;31mNameError\u001b[0m                                 Traceback (most recent call last)",
      "\u001b[1;32m<ipython-input-13-cbe22b11cca4>\u001b[0m in \u001b[0;36m<module>\u001b[1;34m\u001b[0m\n\u001b[1;32m----> 1\u001b[1;33m \u001b[0mtrack_analysis\u001b[0m \u001b[1;33m=\u001b[0m \u001b[0mspotify\u001b[0m\u001b[1;33m.\u001b[0m\u001b[0mtrack_audio_analysis\u001b[0m\u001b[1;33m(\u001b[0m\u001b[0mtrack\u001b[0m\u001b[1;33m.\u001b[0m\u001b[0mtrack\u001b[0m\u001b[1;33m.\u001b[0m\u001b[0mid\u001b[0m\u001b[1;33m)\u001b[0m\u001b[1;33m\u001b[0m\u001b[1;33m\u001b[0m\u001b[0m\n\u001b[0m\u001b[0;32m      2\u001b[0m \u001b[0mtrack_features\u001b[0m \u001b[1;33m=\u001b[0m \u001b[0mspotify\u001b[0m\u001b[1;33m.\u001b[0m\u001b[0mtrack_audio_features\u001b[0m\u001b[1;33m(\u001b[0m\u001b[0mtrack\u001b[0m\u001b[1;33m.\u001b[0m\u001b[0mtrack\u001b[0m\u001b[1;33m.\u001b[0m\u001b[0mid\u001b[0m\u001b[1;33m)\u001b[0m\u001b[1;33m\u001b[0m\u001b[1;33m\u001b[0m\u001b[0m\n",
      "\u001b[1;31mNameError\u001b[0m: name 'track' is not defined"
     ]
    }
   ],
   "source": [
    "track_analysis = spotify.track_audio_analysis(track.track.id)\n",
    "track_features = spotify.track_audio_features(track.track.id)\n"
   ]
  },
  {
   "cell_type": "code",
   "execution_count": 17,
   "metadata": {},
   "outputs": [
    {
     "ename": "SyntaxError",
     "evalue": "invalid syntax (<ipython-input-17-df16698dd27a>, line 3)",
     "output_type": "error",
     "traceback": [
      "\u001b[1;36m  File \u001b[1;32m\"<ipython-input-17-df16698dd27a>\"\u001b[1;36m, line \u001b[1;32m3\u001b[0m\n\u001b[1;33m    track_analysis.\u001b[0m\n\u001b[1;37m                   ^\u001b[0m\n\u001b[1;31mSyntaxError\u001b[0m\u001b[1;31m:\u001b[0m invalid syntax\n"
     ]
    }
   ],
   "source": [
    "# for section in track_analysis.sections:\n",
    "#     print(f'Key:{section.key} Conf:{section.key_confidence}')\n",
    "track_analysis.\n",
    "# everything needs expanding\n",
    "# don't need bars, beats, meta"
   ]
  },
  {
   "cell_type": "code",
   "execution_count": 67,
   "metadata": {},
   "outputs": [],
   "source": [
    "import numpy as np\n",
    "import time\n",
    "\n",
    "alb_cols = ['album_lead_artist','album_name','release_date','total_tracks'] # these don't map exactly to the names they have in the object but it's what I want the DF columns to be\n",
    "art_cols = ['track_artists','genres', 'artist_pop']\n",
    "keep_cols = ['id','duration_ms','explicit','name','popularity','track_number']\n",
    "\n",
    "feature_cols = ['acousticness', 'danceability', 'duration_ms', 'energy', 'instrumentalness', 'key', 'liveness', 'loudness', 'mode', 'speechiness', 'tempo', 'time_signature', 'valence']\n",
    "df_colnames = ['cat_idx'] + alb_cols + art_cols + keep_cols + feature_cols\n",
    "#question marks: episode/track, disc_number, restrictions, track_number\n",
    "#album question marks: album_group, album_type"
   ]
  },
  {
   "cell_type": "code",
   "execution_count": 69,
   "metadata": {},
   "outputs": [
    {
     "data": {
      "text/plain": [
       "[['cat_idx',\n",
       "  'album_lead_artist',\n",
       "  'album_name',\n",
       "  'release_date',\n",
       "  'total_tracks',\n",
       "  'track_artists',\n",
       "  'genres',\n",
       "  'artist_pop',\n",
       "  'id',\n",
       "  'duration_ms',\n",
       "  'explicit',\n",
       "  'name',\n",
       "  'popularity',\n",
       "  'track_number',\n",
       "  'acousticness',\n",
       "  'danceability',\n",
       "  'duration_ms',\n",
       "  'energy',\n",
       "  'instrumentalness',\n",
       "  'key',\n",
       "  'liveness',\n",
       "  'loudness',\n",
       "  'mode',\n",
       "  'speechiness',\n",
       "  'tempo',\n",
       "  'time_signature',\n",
       "  'valence'],\n",
       " ['Sorcha Richardson',\n",
       "  'First Prize Bravery',\n",
       "  '2019-11-08',\n",
       "  10,\n",
       "  'Sorcha Richardson\\n',\n",
       "  'deep euro house\\n',\n",
       "  47,\n",
       "  '72xOIsOYsgFWFhLo2yKVfC',\n",
       "  230053,\n",
       "  False,\n",
       "  'First Prize Bravery',\n",
       "  39,\n",
       "  6,\n",
       "  0.607,\n",
       "  0.718,\n",
       "  230053,\n",
       "  0.554,\n",
       "  1.22e-05,\n",
       "  11,\n",
       "  0.0766,\n",
       "  -8.041,\n",
       "  0,\n",
       "  0.108,\n",
       "  113.974,\n",
       "  4,\n",
       "  0.698]]"
      ]
     },
     "execution_count": 69,
     "metadata": {},
     "output_type": "execute_result"
    }
   ],
   "source": [
    "def basic_track_data(full_playlist_track):\n",
    "    '''\n",
    "    Using object type FullPlaylistTrack, this function returns a row of data with columns matching what the final DataFrame of training set is going to look like.\n",
    "    A track of this type can be retrieved by calling (with Tekore): \n",
    "            paging_obj = spotify.playlist_items(playlist_placeholder.id) #playlist paging object\n",
    "            paging_obj.items[track_index] #returns FullPlaylistTrack object type\n",
    "    \n",
    "    We're not using any playlist-specific fields here, so it should work the same with a regular FullTrack object\n",
    "    '''\n",
    "    # expand album field, retrieve album data labeled by alb_expand_cols\n",
    "    alb_data = []\n",
    "    alb_data.append(full_playlist_track.track.album.artists[0].name)\n",
    "    alb_data.append(full_playlist_track.track.album.name)\n",
    "    alb_data.append(full_playlist_track.track.album.release_date)\n",
    "    alb_data.append(full_playlist_track.track.album.total_tracks)\n",
    "    \n",
    "    # expand artists field, list all artists as string separated by newlines\n",
    "    artists_str = ''\n",
    "    for artist in full_playlist_track.track.artists:\n",
    "        artists_str = artists_str + artist.name + '\\n'\n",
    "    \n",
    "    # lookup lead artist, list genres as string, separated by newlines\n",
    "    genres_str = ''\n",
    "    lead_artist = spotify.artist(full_playlist_track.track.artists[0].id)\n",
    "    for genre in lead_artist.genres:\n",
    "        genres_str = genres_str + genre + '\\n'\n",
    "    # record lead artist popularity and save\n",
    "    artist_pop = lead_artist.popularity\n",
    "    art_data = [artists_str, genres_str, artist_pop]\n",
    "    \n",
    "    # generate data as labeled by keep_cols\n",
    "    track_data = [track.track.__dict__[col] for col in keep_cols]\n",
    "    \n",
    "    # return single row containing all track data\n",
    "    return alb_data + art_data + track_data\n",
    "\n",
    "def audio_data(full_playlist_track):\n",
    "    features_obj = spotify.track_audio_features(full_playlist_track.track.id)\n",
    "    #analysis_obj = spotify.track_audio_analysis(full_playlist_track.track.id)\n",
    "    \n",
    "    #Will this be too many API calls? we'll find out. (it is possible to batch audio_features request but not audio_analysis)\n",
    "    features_data = [features_obj.__dict__[fcol] for fcol in feature_cols]\n",
    "    \n",
    "    #Skipping analysis for now\n",
    "    return features_data #+ analysis_data\n",
    "\n",
    "[df_colnames, *[basic_track_data(track) + audio_data(track)]]\n"
   ]
  },
  {
   "cell_type": "code",
   "execution_count": 96,
   "metadata": {},
   "outputs": [
    {
     "name": "stderr",
     "output_type": "stream",
     "text": [
      "categories: 0it [00:00, ?it/s]\n",
      "playlists:   0%|                                                                                | 0/10 [00:00<?, ?it/s]\u001b[A\n",
      "playlists:  10%|███████▏                                                                | 1/10 [00:45<06:51, 45.68s/it]\u001b[A\n",
      "playlists:  20%|██████████████▍                                                         | 2/10 [01:28<05:59, 44.95s/it]\u001b[A\n",
      "playlists:  30%|█████████████████████▌                                                  | 3/10 [02:07<05:02, 43.17s/it]\u001b[A\n",
      "playlists:  40%|████████████████████████████▊                                           | 4/10 [02:55<04:26, 44.35s/it]\u001b[A\n",
      "playlists:  50%|████████████████████████████████████                                    | 5/10 [03:39<03:42, 44.42s/it]\u001b[A\n",
      "playlists:  60%|███████████████████████████████████████████▏                            | 6/10 [04:19<02:52, 43.18s/it]\u001b[A\n",
      "playlists:  70%|██████████████████████████████████████████████████▍                     | 7/10 [05:00<02:06, 42.28s/it]\u001b[A\n",
      "playlists:  80%|█████████████████████████████████████████████████████████▌              | 8/10 [05:23<01:13, 36.56s/it]\u001b[A\n",
      "playlists:  90%|████████████████████████████████████████████████████████████████▊       | 9/10 [06:02<00:37, 37.36s/it]\u001b[A\n",
      "playlists: 100%|███████████████████████████████████████████████████████████████████████| 10/10 [06:42<00:00, 38.10s/it]\u001b[A\n",
      "playlists: 11it [07:23, 39.03s/it]                                                                                     \u001b[A\n",
      "playlists: 12it [08:03, 39.43s/it]\u001b[A\n",
      "playlists: 13it [08:43, 39.61s/it]\u001b[A\n",
      "playlists: 14it [09:27, 40.84s/it]\u001b[A\n",
      "categories: 1it [09:27, 567.76s/it][A\n",
      "playlists:   0%|                                                                                | 0/10 [00:00<?, ?it/s]\u001b[A\n",
      "playlists:  10%|███████▏                                                                | 1/10 [00:42<06:22, 42.49s/it]\u001b[A\n",
      "playlists:  20%|██████████████▍                                                         | 2/10 [02:09<07:27, 55.94s/it]\u001b[A\n",
      "playlists:  30%|█████████████████████▌                                                  | 3/10 [03:43<07:50, 67.18s/it]\u001b[A\n",
      "playlists:  40%|████████████████████████████▊                                           | 4/10 [04:22<05:53, 58.95s/it]\u001b[A\n",
      "playlists:  50%|████████████████████████████████████                                    | 5/10 [05:50<05:37, 67.43s/it]\u001b[A\n",
      "playlists:  60%|███████████████████████████████████████████▏                            | 6/10 [07:10<04:44, 71.19s/it]\u001b[A\n",
      "playlists:  70%|██████████████████████████████████████████████████▍                     | 7/10 [08:34<03:45, 75.22s/it]\u001b[A\n",
      "playlists:  80%|█████████████████████████████████████████████████████████▌              | 8/10 [10:01<02:37, 78.82s/it]\u001b[A\n",
      "playlists:  90%|████████████████████████████████████████████████████████████████▊       | 9/10 [10:44<01:07, 67.87s/it]\u001b[A\n",
      "playlists: 100%|███████████████████████████████████████████████████████████████████████| 10/10 [12:08<00:00, 72.66s/it]\u001b[A\n",
      "categories: 2it [21:36, 615.92s/it]                                                                                    \u001b[A\n",
      "playlists:   0%|                                                                                | 0/10 [00:00<?, ?it/s]\u001b[A\n",
      "playlists:  10%|███████▏                                                                | 1/10 [01:28<13:20, 88.97s/it]\u001b[A\n",
      "playlists:  20%|██████████████▏                                                        | 2/10 [04:23<15:17, 114.65s/it]\u001b[A\n",
      "playlists:  30%|█████████████████████▎                                                 | 3/10 [05:34<11:49, 101.41s/it]\u001b[A\n",
      "playlists:  40%|████████████████████████████▊                                           | 4/10 [06:39<09:02, 90.49s/it]\u001b[A\n",
      "playlists:  50%|████████████████████████████████████                                    | 5/10 [07:35<06:41, 80.31s/it]\u001b[A\n",
      "playlists:  60%|███████████████████████████████████████████▏                            | 6/10 [08:18<04:36, 69.17s/it]\u001b[A\n",
      "playlists:  70%|██████████████████████████████████████████████████▍                     | 7/10 [10:02<03:58, 79.61s/it]\u001b[A\n",
      "playlists:  80%|█████████████████████████████████████████████████████████▌              | 8/10 [10:54<02:22, 71.16s/it]\u001b[A\n",
      "playlists:  90%|████████████████████████████████████████████████████████████████▊       | 9/10 [12:04<01:10, 70.86s/it]\u001b[A\n",
      "playlists: 100%|███████████████████████████████████████████████████████████████████████| 10/10 [13:46<00:00, 80.36s/it]\u001b[A\n",
      "playlists: 11it [14:54, 76.46s/it]                                                                                     \u001b[A\n",
      "playlists: 12it [15:48, 69.82s/it]\u001b[A\n",
      "playlists: 13it [17:02, 71.09s/it]\u001b[A\n",
      "playlists: 14it [18:43, 80.10s/it]\u001b[A\n",
      "playlists: 15it [19:46, 74.85s/it]\u001b[A\n",
      "playlists: 16it [20:36, 67.35s/it]\u001b[A\n",
      "playlists: 17it [21:33, 64.43s/it]\u001b[A\n",
      "playlists: 18it [22:24, 60.26s/it]\u001b[A\n",
      "playlists: 19it [22:49, 49.75s/it]\u001b[A\n",
      "playlists: 20it [23:34, 48.34s/it]\u001b[A\n",
      "playlists: 21it [24:16, 46.50s/it]\u001b[A\n",
      "playlists: 22it [24:57, 44.89s/it]\u001b[A\n",
      "playlists: 23it [25:37, 43.39s/it]\u001b[A\n",
      "playlists: 24it [27:25, 62.78s/it]\u001b[A\n",
      "playlists: 25it [28:12, 57.81s/it]\u001b[A\n",
      "playlists: 26it [29:06, 56.85s/it]\u001b[A\n",
      "playlists: 27it [31:05, 75.44s/it]\u001b[A\n",
      "playlists: 28it [32:29, 77.94s/it]\u001b[A\n",
      "playlists: 29it [33:58, 81.42s/it]\u001b[A\n",
      "categories: 3it [55:35, 1042.83s/it]A\n",
      "playlists:   0%|                                                                                | 0/10 [00:00<?, ?it/s]\u001b[A\n",
      "playlists:  10%|███████▏                                                                | 1/10 [00:37<05:39, 37.68s/it]\u001b[A\n",
      "playlists:  20%|██████████████▍                                                         | 2/10 [01:48<06:21, 47.69s/it]\u001b[A\n",
      "categories: 4it [57:23, 762.63s/it]                                                                                    \u001b[A\n",
      "playlists:   0%|                                                                                | 0/10 [00:00<?, ?it/s]\u001b[A\n",
      "playlists:  10%|███████▏                                                                | 1/10 [00:43<06:30, 43.38s/it]\u001b[A\n",
      "playlists:  20%|██████████████▍                                                         | 2/10 [02:19<07:53, 59.14s/it]\u001b[A\n",
      "playlists:  30%|█████████████████████▌                                                  | 3/10 [03:08<06:33, 56.28s/it]\u001b[A\n",
      "playlists:  40%|████████████████████████████▊                                           | 4/10 [04:24<06:13, 62.22s/it]\u001b[A\n",
      "playlists:  50%|████████████████████████████████████                                    | 5/10 [05:35<05:23, 64.72s/it]\u001b[A\n",
      "playlists:  60%|███████████████████████████████████████████▏                            | 6/10 [06:27<04:03, 60.93s/it]\u001b[A\n",
      "playlists:  70%|██████████████████████████████████████████████████▍                     | 7/10 [07:11<02:47, 55.86s/it]\u001b[A\n",
      "playlists:  80%|█████████████████████████████████████████████████████████▌              | 8/10 [07:55<01:44, 52.29s/it]\u001b[A\n",
      "playlists:  90%|████████████████████████████████████████████████████████████████▊       | 9/10 [08:33<00:48, 48.06s/it]\u001b[A\n",
      "playlists: 100%|███████████████████████████████████████████████████████████████████████| 10/10 [11:32<00:00, 87.21s/it]\u001b[A\n",
      "playlists: 11it [12:53, 85.34s/it]                                                                                     \u001b[A\n",
      "playlists: 12it [14:05, 81.34s/it]\u001b[A\n",
      "playlists: 13it [15:10, 76.42s/it]\u001b[A\n",
      "categories: 5it [1:12:34, 806.95s/it]\n",
      "playlists:   0%|                                                                                | 0/10 [00:00<?, ?it/s]\u001b[A\n",
      "playlists:  10%|███████                                                                | 1/10 [04:07<37:10, 247.88s/it]\u001b[A\n",
      "playlists:  20%|██████████████▏                                                        | 2/10 [04:55<25:02, 187.84s/it]\u001b[A\n",
      "playlists:  30%|█████████████████████▎                                                 | 3/10 [06:19<18:16, 156.65s/it]\u001b[A\n",
      "playlists:  40%|████████████████████████████▍                                          | 4/10 [07:19<12:45, 127.52s/it]\u001b[A\n",
      "playlists:  50%|███████████████████████████████████▌                                   | 5/10 [08:28<09:10, 110.17s/it]\u001b[A\n",
      "playlists:  60%|███████████████████████████████████████████▏                            | 6/10 [09:34<06:27, 96.79s/it]\u001b[A\n",
      "playlists:  70%|██████████████████████████████████████████████████▍                     | 7/10 [10:46<04:28, 89.46s/it]\u001b[A\n",
      "playlists:  80%|█████████████████████████████████████████████████████████▌              | 8/10 [11:26<02:28, 74.50s/it]\u001b[A\n",
      "playlists:  90%|████████████████████████████████████████████████████████████████▊       | 9/10 [13:55<01:36, 96.85s/it]\u001b[A\n",
      "playlists: 100%|██████████████████████████████████████████████████████████████████████| 10/10 [16:28<00:00, 113.77s/it]\u001b[A\n",
      "playlists: 11it [17:31, 98.44s/it]                                                                                     \u001b[A\n",
      "playlists: 12it [18:13, 81.68s/it]\u001b[A\n",
      "playlists: 13it [19:18, 76.74s/it]\u001b[A\n",
      "playlists: 14it [20:27, 74.20s/it]\u001b[A\n",
      "playlists: 15it [21:59, 79.59s/it]\u001b[A\n",
      "playlists: 16it [23:15, 78.66s/it]\u001b[A\n",
      "playlists: 17it [24:15, 73.05s/it]\u001b[A\n",
      "playlists: 18it [24:59, 64.11s/it]\u001b[A\n",
      "playlists: 19it [25:45, 58.84s/it]\u001b[A\n",
      "playlists: 20it [26:29, 54.41s/it]\u001b[A\n",
      "playlists: 21it [27:10, 50.27s/it]\u001b[A\n",
      "playlists: 22it [27:50, 47.35s/it]\u001b[A\n",
      "playlists: 23it [28:08, 38.49s/it]\u001b[A\n",
      "playlists: 24it [28:42, 37.17s/it]\u001b[A\n",
      "playlists: 25it [29:26, 39.02s/it]\u001b[A\n",
      "playlists: 26it [30:20, 43.65s/it]\u001b[A\n",
      "playlists: 27it [31:03, 43.36s/it]\u001b[A\n",
      "playlists: 28it [31:42, 42.28s/it]\u001b[A\n",
      "playlists: 29it [32:22, 41.42s/it]\u001b[A\n",
      "playlists: 30it [33:01, 40.87s/it]\u001b[A\n",
      "playlists: 31it [33:58, 45.57s/it]\u001b[A\n",
      "playlists: 32it [35:01, 50.73s/it]\u001b[A\n",
      "categories: 6it [1:47:35, 1195.28s/it]\n",
      "playlists:   0%|                                                                                | 0/10 [00:00<?, ?it/s]\u001b[A\n",
      "playlists:  10%|███████▏                                                                | 1/10 [00:43<06:31, 43.45s/it]\u001b[A\n",
      "playlists:  20%|██████████████▍                                                         | 2/10 [01:28<05:51, 43.97s/it]\u001b[A\n",
      "playlists:  30%|█████████████████████▌                                                  | 3/10 [02:17<05:17, 45.38s/it]\u001b[A\n",
      "playlists:  40%|████████████████████████████▊                                           | 4/10 [03:01<04:29, 45.00s/it]\u001b[A\n",
      "playlists:  50%|████████████████████████████████████                                    | 5/10 [03:38<03:33, 42.75s/it]\u001b[A\n",
      "playlists:  60%|███████████████████████████████████████████▏                            | 6/10 [04:23<02:53, 43.37s/it]\u001b[A\n",
      "playlists:  70%|██████████████████████████████████████████████████▍                     | 7/10 [05:31<02:32, 50.71s/it]\u001b[A\n",
      "playlists:  80%|█████████████████████████████████████████████████████████▌              | 8/10 [07:36<02:25, 72.96s/it]\u001b[A\n",
      "playlists:  90%|████████████████████████████████████████████████████████████████▊       | 9/10 [08:45<01:11, 71.79s/it]\u001b[A\n",
      "playlists: 100%|███████████████████████████████████████████████████████████████████████| 10/10 [09:39<00:00, 66.58s/it]\u001b[A\n",
      "playlists: 11it [10:45, 66.32s/it]                                                                                     \u001b[A\n",
      "playlists: 12it [11:57, 68.06s/it]\u001b[A\n",
      "playlists: 13it [13:03, 67.28s/it]\u001b[A\n",
      "playlists: 14it [13:55, 62.65s/it]\u001b[A\n",
      "playlists: 15it [15:14, 67.63s/it]\u001b[A\n",
      "playlists: 16it [16:02, 61.65s/it]\u001b[A\n",
      "playlists: 17it [17:16, 65.64s/it]\u001b[A\n",
      "playlists: 18it [17:42, 53.73s/it]\u001b[A\n",
      "playlists: 19it [19:19, 66.62s/it]\u001b[A\n",
      "playlists: 20it [20:37, 70.13s/it]\u001b[A\n",
      "playlists: 21it [22:47, 88.02s/it]\u001b[A\n",
      "playlists: 22it [23:03, 66.37s/it]\u001b[A\n",
      "playlists: 23it [23:47, 59.74s/it]\u001b[A\n",
      "playlists: 24it [25:15, 68.09s/it]\u001b[A\n",
      "playlists: 25it [25:56, 60.06s/it]\u001b[A\n",
      "playlists: 26it [26:41, 55.48s/it]\u001b[A\n",
      "playlists: 27it [27:33, 54.58s/it]\u001b[A\n",
      "playlists: 28it [28:37, 57.26s/it]\u001b[A\n",
      "playlists: 29it [28:59, 46.74s/it]\u001b[A\n",
      "playlists: 30it [29:44, 46.30s/it]\u001b[A\n",
      "playlists: 31it [30:34, 47.18s/it]\u001b[A\n",
      "playlists: 32it [31:42, 53.39s/it]\u001b[A\n",
      "playlists: 33it [32:47, 57.14s/it]\u001b[A\n",
      "playlists: 34it [33:51, 59.04s/it]\u001b[A\n",
      "playlists: 35it [34:52, 59.54s/it]\u001b[A\n",
      "categories: 7it [2:22:27, 1464.37s/it]\n",
      "playlists:   0%|                                                                                | 0/10 [00:00<?, ?it/s]\u001b[A\n",
      "playlists:  10%|███████▏                                                                | 1/10 [01:02<09:22, 62.49s/it]\u001b[A\n",
      "playlists:  20%|██████████████▍                                                         | 2/10 [02:33<09:27, 70.92s/it]\u001b[A\n",
      "playlists:  30%|█████████████████████▌                                                  | 3/10 [03:17<07:20, 62.90s/it]\u001b[A\n",
      "playlists:  40%|████████████████████████████▊                                           | 4/10 [04:13<06:05, 60.92s/it]\u001b[A\n",
      "playlists:  50%|████████████████████████████████████                                    | 5/10 [04:55<04:36, 55.32s/it]\u001b[A\n",
      "playlists:  60%|███████████████████████████████████████████▏                            | 6/10 [06:25<04:22, 65.74s/it]\u001b[A\n",
      "categories: 8it [2:28:53, 1140.85s/it]                                                                                 \u001b[A\n",
      "playlists:   0%|                                                                                | 0/10 [00:00<?, ?it/s]\u001b[A\n",
      "playlists:  10%|███████                                                                | 1/10 [02:20<21:00, 140.10s/it]\u001b[A\n",
      "playlists:  20%|██████████████▏                                                        | 2/10 [03:18<15:25, 115.72s/it]\u001b[A\n",
      "playlists:  30%|█████████████████████▎                                                 | 3/10 [04:37<12:11, 104.53s/it]\u001b[A\n",
      "playlists:  40%|████████████████████████████▊                                           | 4/10 [06:05<09:57, 99.58s/it]\u001b[A\n",
      "playlists:  50%|████████████████████████████████████                                    | 5/10 [06:51<06:58, 83.63s/it]\u001b[A\n",
      "playlists:  60%|███████████████████████████████████████████▏                            | 6/10 [08:56<06:24, 96.09s/it]\u001b[A\n",
      "playlists:  70%|██████████████████████████████████████████████████▍                     | 7/10 [09:42<04:03, 81.02s/it]\u001b[A\n",
      "playlists:  80%|█████████████████████████████████████████████████████████▌              | 8/10 [10:24<02:18, 69.34s/it]\u001b[A\n",
      "playlists:  90%|████████████████████████████████████████████████████████████████▊       | 9/10 [11:04<01:00, 60.49s/it]\u001b[A\n",
      "playlists: 100%|███████████████████████████████████████████████████████████████████████| 10/10 [12:03<00:00, 59.92s/it]\u001b[A\n",
      "playlists: 11it [13:29, 67.90s/it]                                                                                     \u001b[A\n",
      "playlists: 12it [14:34, 66.81s/it]\u001b[A\n",
      "playlists: 13it [15:14, 58.99s/it]\u001b[A\n",
      "playlists: 14it [15:56, 53.85s/it]\u001b[A\n",
      "playlists: 15it [17:00, 56.71s/it]\u001b[A\n",
      "playlists: 16it [17:52, 55.33s/it]\u001b[A\n",
      "playlists: 17it [19:18, 64.67s/it]\u001b[A\n",
      "categories: 9it [2:48:12, 1146.23s/it]\n",
      "playlists:   0%|                                                                                | 0/10 [00:00<?, ?it/s]\u001b[A\n",
      "playlists:  10%|███████▏                                                                | 1/10 [00:31<04:46, 31.89s/it]\u001b[A\n",
      "playlists:  20%|██████████████▍                                                         | 2/10 [01:10<04:31, 33.89s/it]\u001b[A\n",
      "playlists:  30%|█████████████████████▌                                                  | 3/10 [01:42<03:53, 33.36s/it]\u001b[A\n",
      "playlists:  40%|████████████████████████████▊                                           | 4/10 [02:43<04:10, 41.69s/it]\u001b[A\n",
      "playlists:  50%|████████████████████████████████████                                    | 5/10 [03:27<03:31, 42.39s/it]\u001b[A\n",
      "playlists:  60%|███████████████████████████████████████████▏                            | 6/10 [04:04<02:42, 40.65s/it]\u001b[A\n",
      "playlists:  70%|██████████████████████████████████████████████████▍                     | 7/10 [04:52<02:08, 42.81s/it]\u001b[A\n",
      "playlists:  80%|█████████████████████████████████████████████████████████▌              | 8/10 [05:58<01:39, 49.96s/it]\u001b[A\n",
      "playlists:  90%|████████████████████████████████████████████████████████████████▊       | 9/10 [06:43<00:48, 48.38s/it]\u001b[A\n",
      "playlists: 100%|███████████████████████████████████████████████████████████████████████| 10/10 [07:19<00:00, 44.76s/it]\u001b[A\n",
      "                                                                                                                       \u001b[A\r"
     ]
    },
    {
     "ename": "NotFound",
     "evalue": "Error in https://api.spotify.com/v1/browse/categories/blackhistorymonth/playlists?limit=10&offset=0:\n404: Specified id doesn't exist\n",
     "output_type": "error",
     "traceback": [
      "\u001b[1;31m---------------------------------------------------------------------------\u001b[0m",
      "\u001b[1;31mNotFound\u001b[0m                                  Traceback (most recent call last)",
      "\u001b[1;32m<ipython-input-96-934ba257f0af>\u001b[0m in \u001b[0;36m<module>\u001b[1;34m\u001b[0m\n\u001b[0;32m      9\u001b[0m \u001b[1;32mfor\u001b[0m \u001b[0mi\u001b[0m\u001b[1;33m,\u001b[0m\u001b[0mcat\u001b[0m \u001b[1;32min\u001b[0m \u001b[0mtqdm\u001b[0m\u001b[1;33m(\u001b[0m\u001b[0menumerate\u001b[0m\u001b[1;33m(\u001b[0m\u001b[0mall_cats_master\u001b[0m\u001b[1;33m)\u001b[0m\u001b[1;33m,\u001b[0m \u001b[0mdesc\u001b[0m\u001b[1;33m=\u001b[0m\u001b[1;34m'categories'\u001b[0m\u001b[1;33m,\u001b[0m \u001b[0mleave\u001b[0m\u001b[1;33m=\u001b[0m\u001b[1;32mFalse\u001b[0m\u001b[1;33m)\u001b[0m\u001b[1;33m:\u001b[0m\u001b[1;33m\u001b[0m\u001b[1;33m\u001b[0m\u001b[0m\n\u001b[0;32m     10\u001b[0m     \u001b[1;31m# Loop thru playlists/subcategories here\u001b[0m\u001b[1;33m\u001b[0m\u001b[1;33m\u001b[0m\u001b[1;33m\u001b[0m\u001b[0m\n\u001b[1;32m---> 11\u001b[1;33m     \u001b[0mcat_playlists\u001b[0m \u001b[1;33m=\u001b[0m \u001b[0mspotify\u001b[0m\u001b[1;33m.\u001b[0m\u001b[0mcategory_playlists\u001b[0m\u001b[1;33m(\u001b[0m\u001b[0mcat\u001b[0m\u001b[1;33m[\u001b[0m\u001b[1;36m0\u001b[0m\u001b[1;33m]\u001b[0m\u001b[1;33m,\u001b[0m\u001b[0mlimit\u001b[0m\u001b[1;33m=\u001b[0m\u001b[1;36m10\u001b[0m\u001b[1;33m)\u001b[0m\u001b[1;33m\u001b[0m\u001b[1;33m\u001b[0m\u001b[0m\n\u001b[0m\u001b[0;32m     12\u001b[0m     \u001b[0mcat_playlist_total\u001b[0m \u001b[1;33m=\u001b[0m \u001b[1;36m10\u001b[0m\u001b[1;33m\u001b[0m\u001b[1;33m\u001b[0m\u001b[0m\n\u001b[0;32m     13\u001b[0m     \u001b[0mcat_playlists\u001b[0m \u001b[1;33m=\u001b[0m \u001b[0mspotify\u001b[0m\u001b[1;33m.\u001b[0m\u001b[0mall_items\u001b[0m\u001b[1;33m(\u001b[0m\u001b[0mcat_playlists\u001b[0m\u001b[1;33m)\u001b[0m\u001b[1;33m\u001b[0m\u001b[1;33m\u001b[0m\u001b[0m\n",
      "\u001b[1;32mc:\\users\\owner\\appdata\\local\\programs\\python\\python38-32\\lib\\site-packages\\tekore\\_client\\decor\\__init__.py\u001b[0m in \u001b[0;36mwrapper\u001b[1;34m(self, *args, **kwargs)\u001b[0m\n\u001b[0;32m     39\u001b[0m \u001b[1;33m\u001b[0m\u001b[0m\n\u001b[0;32m     40\u001b[0m             \u001b[0mresponse\u001b[0m \u001b[1;33m=\u001b[0m \u001b[0mself\u001b[0m\u001b[1;33m.\u001b[0m\u001b[0m_send\u001b[0m\u001b[1;33m(\u001b[0m\u001b[0mrequest\u001b[0m\u001b[1;33m)\u001b[0m\u001b[1;33m\u001b[0m\u001b[1;33m\u001b[0m\u001b[0m\n\u001b[1;32m---> 41\u001b[1;33m             \u001b[0mhandle_errors\u001b[0m\u001b[1;33m(\u001b[0m\u001b[0mrequest\u001b[0m\u001b[1;33m,\u001b[0m \u001b[0mresponse\u001b[0m\u001b[1;33m)\u001b[0m\u001b[1;33m\u001b[0m\u001b[1;33m\u001b[0m\u001b[0m\n\u001b[0m\u001b[0;32m     42\u001b[0m             \u001b[0mcontent\u001b[0m \u001b[1;33m=\u001b[0m \u001b[0mparse_json\u001b[0m\u001b[1;33m(\u001b[0m\u001b[0mresponse\u001b[0m\u001b[1;33m)\u001b[0m\u001b[1;33m\u001b[0m\u001b[1;33m\u001b[0m\u001b[0m\n\u001b[0;32m     43\u001b[0m             \u001b[1;32mreturn\u001b[0m \u001b[0mpost_func\u001b[0m\u001b[1;33m(\u001b[0m\u001b[0mcontent\u001b[0m\u001b[1;33m)\u001b[0m\u001b[1;33m\u001b[0m\u001b[1;33m\u001b[0m\u001b[0m\n",
      "\u001b[1;32mc:\\users\\owner\\appdata\\local\\programs\\python\\python38-32\\lib\\site-packages\\tekore\\_client\\decor\\handle.py\u001b[0m in \u001b[0;36mhandle_errors\u001b[1;34m(request, response)\u001b[0m\n\u001b[0;32m     41\u001b[0m         )\n\u001b[0;32m     42\u001b[0m         \u001b[0merror_cls\u001b[0m \u001b[1;33m=\u001b[0m \u001b[0mget_error\u001b[0m\u001b[1;33m(\u001b[0m\u001b[0mresponse\u001b[0m\u001b[1;33m.\u001b[0m\u001b[0mstatus_code\u001b[0m\u001b[1;33m)\u001b[0m\u001b[1;33m\u001b[0m\u001b[1;33m\u001b[0m\u001b[0m\n\u001b[1;32m---> 43\u001b[1;33m         \u001b[1;32mraise\u001b[0m \u001b[0merror_cls\u001b[0m\u001b[1;33m(\u001b[0m\u001b[0merror_str\u001b[0m\u001b[1;33m,\u001b[0m \u001b[0mrequest\u001b[0m\u001b[1;33m=\u001b[0m\u001b[0mrequest\u001b[0m\u001b[1;33m,\u001b[0m \u001b[0mresponse\u001b[0m\u001b[1;33m=\u001b[0m\u001b[0mresponse\u001b[0m\u001b[1;33m)\u001b[0m\u001b[1;33m\u001b[0m\u001b[1;33m\u001b[0m\u001b[0m\n\u001b[0m",
      "\u001b[1;31mNotFound\u001b[0m: Error in https://api.spotify.com/v1/browse/categories/blackhistorymonth/playlists?limit=10&offset=0:\n404: Specified id doesn't exist\n"
     ]
    }
   ],
   "source": [
    "training_songs = pd.DataFrame([], columns=df_colnames)\n",
    "sleep_min = 2\n",
    "sleep_max = 5\n",
    "start_time = time.time()\n",
    "request_count = 0\n",
    "#spotify = tk.Spotify(chunked_on=True)\n",
    "#with spotify.chunked_on:\n",
    "# Loop thru categories here\n",
    "for i,cat in tqdm(enumerate(all_cats_master), desc='categories', leave=False):\n",
    "    # Loop thru playlists/subcategories here\n",
    "    cat_playlists = spotify.category_playlists(cat[0],limit=10)\n",
    "    cat_playlist_total = min(10, cat_playlists.total)\n",
    "    #print(f'Accessing {cat_playlist_total} playlists')\n",
    "    for p in tqdm(cat_playlists.items, total=cat_playlist_total, desc='playlists', leave=False):\n",
    "        # Loop thru and collect tracks\n",
    "        cat_playlist_tracks = spotify.playlist_items(p.id) #could return \"as_tracks\"\n",
    "        track_total = cat_playlist_tracks.total\n",
    "        cat_playlist_tracks = spotify.all_items(cat_playlist_tracks)\n",
    "        #cat_playlist_tracks.__dir__()\n",
    "        #cat_playlist_tracks.__sizeof__() # this returns 48 instead of 300, not sure why\n",
    "        #print(f'   Collecting {track_total} songs in playlist')\n",
    "        for track in cat_playlist_tracks: # iterating like this reliably counts all 300\n",
    "            request_count+=1\n",
    "            if request_count%5==0:\n",
    "                time.sleep(np.random.uniform(sleep_min, sleep_max))\n",
    "            if track.track == None:\n",
    "                continue\n",
    "            training_songs = training_songs.append(dict(zip(df_colnames,[i]+basic_track_data(track)+audio_data(track))), ignore_index=True)\n"
   ]
  },
  {
   "cell_type": "code",
   "execution_count": 101,
   "metadata": {},
   "outputs": [
    {
     "data": {
      "text/plain": [
       "[['toplists', 'Top Lists'],\n",
       " ['hiphop', 'Hip-Hop'],\n",
       " ['summer', 'Summer'],\n",
       " ['pop', 'Pop'],\n",
       " ['country', 'Country'],\n",
       " ['workout', 'Workout'],\n",
       " ['latin', 'Latin'],\n",
       " ['mood', 'Mood'],\n",
       " ['rock', 'Rock'],\n",
       " ['rnb', 'R&B'],\n",
       " ['blackhistorymonth', 'Black History Is Now']]"
      ]
     },
     "execution_count": 101,
     "metadata": {},
     "output_type": "execute_result"
    }
   ],
   "source": [
    "training_songs.shape\n",
    "training_songs['cat_idx'].max()\n",
    "all_cats_master[0:11]"
   ]
  },
  {
   "cell_type": "code",
   "execution_count": 108,
   "metadata": {},
   "outputs": [
    {
     "data": {
      "text/plain": [
       "SimplePlaylistPaging with fields:\n",
       "  href = 'https://api.spotify.com/v1/browse/categories/pop/playlists?of...'\n",
       "  items = [2 x SimplePlaylist(collaborative, description, ...)]\n",
       "  limit = 20\n",
       "  next = None\n",
       "  offset = 0\n",
       "  previous = None\n",
       "  total = 2"
      ]
     },
     "execution_count": 108,
     "metadata": {},
     "output_type": "execute_result"
    }
   ],
   "source": [
    "#ts_backup = training_songs #---uncomment to store current version\n",
    "# for i in range(training_songs['cat_idx'].max()+2):\n",
    "#     print(i,(training_songs['cat_idx']==i).sum())\n",
    "spotify.category_playlists('pop')"
   ]
  },
  {
   "cell_type": "code",
   "execution_count": 109,
   "metadata": {},
   "outputs": [],
   "source": [
    "training_songs.to_csv('training_data.csv')"
   ]
  },
  {
   "cell_type": "markdown",
   "metadata": {},
   "source": [
    "# New New activity: make weird searches"
   ]
  },
  {
   "cell_type": "code",
   "execution_count": 19,
   "metadata": {},
   "outputs": [
    {
     "ename": "BadRequest",
     "evalue": "Error in https://api.spotify.com/v1/search?q=popularity%3A54&type=t%2Cr%2Ca%2Cc%2Ck&limit=20&offset=0:\n400: Bad search type field t\n",
     "output_type": "error",
     "traceback": [
      "\u001b[1;31m---------------------------------------------------------------------------\u001b[0m",
      "\u001b[1;31mBadRequest\u001b[0m                                Traceback (most recent call last)",
      "\u001b[1;32m<ipython-input-19-a97cc08a2dd9>\u001b[0m in \u001b[0;36m<module>\u001b[1;34m\u001b[0m\n\u001b[1;32m----> 1\u001b[1;33m \u001b[0mspotify\u001b[0m\u001b[1;33m.\u001b[0m\u001b[0msearch\u001b[0m\u001b[1;33m(\u001b[0m\u001b[1;34m'popularity:54'\u001b[0m\u001b[1;33m,\u001b[0m\u001b[0mtypes\u001b[0m\u001b[1;33m=\u001b[0m\u001b[1;34m'track'\u001b[0m\u001b[1;33m)\u001b[0m\u001b[1;33m\u001b[0m\u001b[1;33m\u001b[0m\u001b[0m\n\u001b[0m",
      "\u001b[1;32mc:\\users\\owner\\appdata\\local\\programs\\python\\python38-32\\lib\\site-packages\\tekore\\_client\\decor\\__init__.py\u001b[0m in \u001b[0;36mwrapper\u001b[1;34m(self, *args, **kwargs)\u001b[0m\n\u001b[0;32m     39\u001b[0m \u001b[1;33m\u001b[0m\u001b[0m\n\u001b[0;32m     40\u001b[0m             \u001b[0mresponse\u001b[0m \u001b[1;33m=\u001b[0m \u001b[0mself\u001b[0m\u001b[1;33m.\u001b[0m\u001b[0m_send\u001b[0m\u001b[1;33m(\u001b[0m\u001b[0mrequest\u001b[0m\u001b[1;33m)\u001b[0m\u001b[1;33m\u001b[0m\u001b[1;33m\u001b[0m\u001b[0m\n\u001b[1;32m---> 41\u001b[1;33m             \u001b[0mhandle_errors\u001b[0m\u001b[1;33m(\u001b[0m\u001b[0mrequest\u001b[0m\u001b[1;33m,\u001b[0m \u001b[0mresponse\u001b[0m\u001b[1;33m)\u001b[0m\u001b[1;33m\u001b[0m\u001b[1;33m\u001b[0m\u001b[0m\n\u001b[0m\u001b[0;32m     42\u001b[0m             \u001b[0mcontent\u001b[0m \u001b[1;33m=\u001b[0m \u001b[0mparse_json\u001b[0m\u001b[1;33m(\u001b[0m\u001b[0mresponse\u001b[0m\u001b[1;33m)\u001b[0m\u001b[1;33m\u001b[0m\u001b[1;33m\u001b[0m\u001b[0m\n\u001b[0;32m     43\u001b[0m             \u001b[1;32mreturn\u001b[0m \u001b[0mpost_func\u001b[0m\u001b[1;33m(\u001b[0m\u001b[0mcontent\u001b[0m\u001b[1;33m)\u001b[0m\u001b[1;33m\u001b[0m\u001b[1;33m\u001b[0m\u001b[0m\n",
      "\u001b[1;32mc:\\users\\owner\\appdata\\local\\programs\\python\\python38-32\\lib\\site-packages\\tekore\\_client\\decor\\handle.py\u001b[0m in \u001b[0;36mhandle_errors\u001b[1;34m(request, response)\u001b[0m\n\u001b[0;32m     41\u001b[0m         )\n\u001b[0;32m     42\u001b[0m         \u001b[0merror_cls\u001b[0m \u001b[1;33m=\u001b[0m \u001b[0mget_error\u001b[0m\u001b[1;33m(\u001b[0m\u001b[0mresponse\u001b[0m\u001b[1;33m.\u001b[0m\u001b[0mstatus_code\u001b[0m\u001b[1;33m)\u001b[0m\u001b[1;33m\u001b[0m\u001b[1;33m\u001b[0m\u001b[0m\n\u001b[1;32m---> 43\u001b[1;33m         \u001b[1;32mraise\u001b[0m \u001b[0merror_cls\u001b[0m\u001b[1;33m(\u001b[0m\u001b[0merror_str\u001b[0m\u001b[1;33m,\u001b[0m \u001b[0mrequest\u001b[0m\u001b[1;33m=\u001b[0m\u001b[0mrequest\u001b[0m\u001b[1;33m,\u001b[0m \u001b[0mresponse\u001b[0m\u001b[1;33m=\u001b[0m\u001b[0mresponse\u001b[0m\u001b[1;33m)\u001b[0m\u001b[1;33m\u001b[0m\u001b[1;33m\u001b[0m\u001b[0m\n\u001b[0m",
      "\u001b[1;31mBadRequest\u001b[0m: Error in https://api.spotify.com/v1/search?q=popularity%3A54&type=t%2Cr%2Ca%2Cc%2Ck&limit=20&offset=0:\n400: Bad search type field t\n"
     ]
    }
   ],
   "source": [
    "spotify.search('popularity:54',types='track')"
   ]
  },
  {
   "cell_type": "code",
   "execution_count": 20,
   "metadata": {},
   "outputs": [
    {
     "name": "stdout",
     "output_type": "stream",
     "text": [
      "^--- id ,  2dh6Pnl5egc1FrQS6EsW4n ---^\n",
      "^--- href ,  https://api.spotify.com/v1/tracks/2dh6Pnl5egc1FrQS6EsW4n ---^\n",
      "(FullTrackPaging with fields:\n",
      "  href = 'https://api.spotify.com/v1/search?query=type%3Atrack&type=tra...'\n",
      "  items = [20 x FullTrack(album, artists, available_markets, ...)]\n",
      "  limit = 20\n",
      "  next = 'https://api.spotify.com/v1/search?query=type%3Atrack&type=tra...'\n",
      "  offset = 0\n",
      "  previous = None\n",
      "  total = 283,)\n",
      "^--- type ,  track ---^\n",
      "^--- uri ,  spotify:track:2dh6Pnl5egc1FrQS6EsW4n ---^\n",
      "^--- artists ,  ModelList with items: [\n",
      "  SimpleArtist(external_urls, href, id, name, type, uri)\n",
      "  SimpleArtist(external_urls, href, id, name, type, uri)\n",
      "] ---^\n",
      "(FullTrackPaging with fields:\n",
      "  href = 'https://api.spotify.com/v1/search?query=disc_number%3A1&type=...'\n",
      "  items = [20 x FullTrack(album, artists, available_markets, ...)]\n",
      "  limit = 20\n",
      "  next = 'https://api.spotify.com/v1/search?query=disc_number%3A1&type=...'\n",
      "  offset = 0\n",
      "  previous = None\n",
      "  total = 99,)\n",
      "^--- disc_number ,  1 ---^\n",
      "^--- duration_ms ,  182400 ---^\n",
      "(FullTrackPaging with fields:\n",
      "  href = 'https://api.spotify.com/v1/search?query=explicit%3AFalse&type...'\n",
      "  items = [9 x FullTrack(album, artists, available_markets, ...)]\n",
      "  limit = 20\n",
      "  next = None\n",
      "  offset = 0\n",
      "  previous = None\n",
      "  total = 9,)\n",
      "^--- explicit ,  False ---^\n",
      "^--- external_urls ,  {'spotify': 'https://open.spotify.com/track/2dh6Pnl5egc1FrQS6EsW4n'} ---^\n",
      "^--- name ,  2AM (feat. Carla Monroe) ---^\n",
      "^--- preview_url ,  https://p.scdn.co/mp3-preview/fd4257f22530a43d582131e83c194090b9734986?cid=340bdfadbf1b48d684111081b0be204d ---^\n",
      "(FullTrackPaging with fields:\n",
      "  href = 'https://api.spotify.com/v1/search?query=track_number%3A1&type...'\n",
      "  items = [20 x FullTrack(album, artists, available_markets, ...)]\n",
      "  limit = 20\n",
      "  next = 'https://api.spotify.com/v1/search?query=track_number%3A1&type...'\n",
      "  offset = 0\n",
      "  previous = None\n",
      "  total = 111,)\n",
      "^--- track_number ,  1 ---^\n",
      "(FullTrackPaging with fields:\n",
      "  href = 'https://api.spotify.com/v1/search?query=is_local%3AFalse&type...'\n",
      "  items = [1 x FullTrack(album, artists, available_markets, ...)]\n",
      "  limit = 20\n",
      "  next = None\n",
      "  offset = 0\n",
      "  previous = None\n",
      "  total = 1,)\n",
      "^--- is_local ,  False ---^\n",
      "^--- album ,  SimpleAlbum with fields:\n",
      "  album_group = None\n",
      "  album_type = <AlbumType.single: 'single'>\n",
      "  artists = [2 x SimpleArtist(external_urls, href, id, name, type, uri)]\n",
      "  available_markets = [90 x str]\n",
      "  external_urls = {'spotify'}\n",
      "  href = 'https://api.spotify.com/v1/albums/4CAvGuvYg9frLJFbPPHLmB'\n",
      "  id = '4CAvGuvYg9frLJFbPPHLmB'\n",
      "  images = [3 x Image(height, url, width)]\n",
      "  is_playable = None\n",
      "  name = '2AM (feat. Carla Monroe)'\n",
      "  release_date = '2020-07-24'\n",
      "  release_date_precision = <ReleaseDatePrecision.day: 'day'>\n",
      "  total_tracks = 1\n",
      "  type = 'album'\n",
      "  uri = 'spotify:album:4CAvGuvYg9frLJFbPPHLmB' ---^\n",
      "^--- external_ids ,  {'isrc': 'GBARL2000691'} ---^\n",
      "^--- popularity ,  54 ---^\n",
      "^--- available_markets ,  ModelList with items: [\n",
      "  'AD'\n",
      "  'AE'\n",
      "  'AL'\n",
      "  'AR'\n",
      "  'AT'\n",
      "  'AU'\n",
      "  'BA'\n",
      "  'BE'\n",
      "  'BG'\n",
      "  'BH'\n",
      "  'BO'\n",
      "  'BR'\n",
      "  'BY'\n",
      "  'CH'\n",
      "  'CL'\n",
      "  'CO'\n",
      "  'CR'\n",
      "  'CY'\n",
      "  'CZ'\n",
      "  'DE'\n",
      "  'DK'\n",
      "  'DO'\n",
      "  'DZ'\n",
      "  'EC'\n",
      "  'EE'\n",
      "  'EG'\n",
      "  'ES'\n",
      "  'FI'\n",
      "  'FR'\n",
      "  'GB'\n",
      "  'GR'\n",
      "  'GT'\n",
      "  'HK'\n",
      "  'HN'\n",
      "  'HR'\n",
      "  'HU'\n",
      "  'ID'\n",
      "  'IE'\n",
      "  'IL'\n",
      "  'IN'\n",
      "  'IS'\n",
      "  'IT'\n",
      "  'JO'\n",
      "  'JP'\n",
      "  'KW'\n",
      "  'KZ'\n",
      "  'LB'\n",
      "  'LI'\n",
      "  'LT'\n",
      "  'LU'\n",
      "  'LV'\n",
      "  'MA'\n",
      "  'MC'\n",
      "  'MD'\n",
      "  'ME'\n",
      "  'MK'\n",
      "  'MT'\n",
      "  'MX'\n",
      "  'MY'\n",
      "  'NI'\n",
      "  'NL'\n",
      "  'NO'\n",
      "  'NZ'\n",
      "  'OM'\n",
      "  'PA'\n",
      "  'PE'\n",
      "  'PH'\n",
      "  'PL'\n",
      "  'PS'\n",
      "  'PT'\n",
      "  'PY'\n",
      "  'QA'\n",
      "  'RO'\n",
      "  'RS'\n",
      "  'RU'\n",
      "  'SA'\n",
      "  'SE'\n",
      "  'SG'\n",
      "  'SI'\n",
      "  'SK'\n",
      "  'SV'\n",
      "  'TH'\n",
      "  'TN'\n",
      "  'TR'\n",
      "  'TW'\n",
      "  'UA'\n",
      "  'UY'\n",
      "  'VN'\n",
      "  'XK'\n",
      "  'ZA'\n",
      "] ---^\n",
      "^--- linked_from ,  None ---^\n",
      "^--- is_playable ,  None ---^\n",
      "^--- restrictions ,  None ---^\n"
     ]
    }
   ],
   "source": [
    "same_as_song1 = spotify.track('2dh6Pnl5egc1FrQS6EsW4n')\n",
    "# this is a cool thing that I don't actually need: track_keys = [*same_as_song1.__dict__.keys()]\n",
    "for key, value in same_as_song1.__dict__.items():\n",
    "    try:\n",
    "        result = spotify.search(f'{key}:{value}',types=('track',),limit=20)\n",
    "        if result[0].total>0: print(result)\n",
    "    except:\n",
    "        pass\n",
    "    else:\n",
    "        print('^---',key,', ',value,'---^')"
   ]
  },
  {
   "cell_type": "markdown",
   "metadata": {},
   "source": [
    "Does searching for multiple artists the goofy way actually return results?"
   ]
  },
  {
   "cell_type": "code",
   "execution_count": 27,
   "metadata": {},
   "outputs": [
    {
     "ename": "BadRequest",
     "evalue": "Error in https://api.spotify.com/v1/search?q=genre%3A%22rock%22&type=tracks&limit=20&offset=0:\n400: Bad search type field tracks\n",
     "output_type": "error",
     "traceback": [
      "\u001b[1;31m---------------------------------------------------------------------------\u001b[0m",
      "\u001b[1;31mBadRequest\u001b[0m                                Traceback (most recent call last)",
      "\u001b[1;32m<ipython-input-27-09ae46c01726>\u001b[0m in \u001b[0;36m<module>\u001b[1;34m\u001b[0m\n\u001b[1;32m----> 1\u001b[1;33m \u001b[0mspotify\u001b[0m\u001b[1;33m.\u001b[0m\u001b[0msearch\u001b[0m\u001b[1;33m(\u001b[0m\u001b[1;34m'genre:\"rock\"'\u001b[0m\u001b[1;33m,\u001b[0m \u001b[0mtypes\u001b[0m\u001b[1;33m=\u001b[0m\u001b[1;33m(\u001b[0m\u001b[1;34m'tracks'\u001b[0m\u001b[1;33m,\u001b[0m\u001b[1;33m)\u001b[0m\u001b[1;33m,\u001b[0m \u001b[0mlimit\u001b[0m\u001b[1;33m=\u001b[0m\u001b[1;36m20\u001b[0m\u001b[1;33m)\u001b[0m\u001b[1;33m\u001b[0m\u001b[1;33m\u001b[0m\u001b[0m\n\u001b[0m",
      "\u001b[1;32mc:\\users\\owner\\appdata\\local\\programs\\python\\python38-32\\lib\\site-packages\\tekore\\_client\\decor\\__init__.py\u001b[0m in \u001b[0;36mwrapper\u001b[1;34m(self, *args, **kwargs)\u001b[0m\n\u001b[0;32m     39\u001b[0m \u001b[1;33m\u001b[0m\u001b[0m\n\u001b[0;32m     40\u001b[0m             \u001b[0mresponse\u001b[0m \u001b[1;33m=\u001b[0m \u001b[0mself\u001b[0m\u001b[1;33m.\u001b[0m\u001b[0m_send\u001b[0m\u001b[1;33m(\u001b[0m\u001b[0mrequest\u001b[0m\u001b[1;33m)\u001b[0m\u001b[1;33m\u001b[0m\u001b[1;33m\u001b[0m\u001b[0m\n\u001b[1;32m---> 41\u001b[1;33m             \u001b[0mhandle_errors\u001b[0m\u001b[1;33m(\u001b[0m\u001b[0mrequest\u001b[0m\u001b[1;33m,\u001b[0m \u001b[0mresponse\u001b[0m\u001b[1;33m)\u001b[0m\u001b[1;33m\u001b[0m\u001b[1;33m\u001b[0m\u001b[0m\n\u001b[0m\u001b[0;32m     42\u001b[0m             \u001b[0mcontent\u001b[0m \u001b[1;33m=\u001b[0m \u001b[0mparse_json\u001b[0m\u001b[1;33m(\u001b[0m\u001b[0mresponse\u001b[0m\u001b[1;33m)\u001b[0m\u001b[1;33m\u001b[0m\u001b[1;33m\u001b[0m\u001b[0m\n\u001b[0;32m     43\u001b[0m             \u001b[1;32mreturn\u001b[0m \u001b[0mpost_func\u001b[0m\u001b[1;33m(\u001b[0m\u001b[0mcontent\u001b[0m\u001b[1;33m)\u001b[0m\u001b[1;33m\u001b[0m\u001b[1;33m\u001b[0m\u001b[0m\n",
      "\u001b[1;32mc:\\users\\owner\\appdata\\local\\programs\\python\\python38-32\\lib\\site-packages\\tekore\\_client\\decor\\handle.py\u001b[0m in \u001b[0;36mhandle_errors\u001b[1;34m(request, response)\u001b[0m\n\u001b[0;32m     41\u001b[0m         )\n\u001b[0;32m     42\u001b[0m         \u001b[0merror_cls\u001b[0m \u001b[1;33m=\u001b[0m \u001b[0mget_error\u001b[0m\u001b[1;33m(\u001b[0m\u001b[0mresponse\u001b[0m\u001b[1;33m.\u001b[0m\u001b[0mstatus_code\u001b[0m\u001b[1;33m)\u001b[0m\u001b[1;33m\u001b[0m\u001b[1;33m\u001b[0m\u001b[0m\n\u001b[1;32m---> 43\u001b[1;33m         \u001b[1;32mraise\u001b[0m \u001b[0merror_cls\u001b[0m\u001b[1;33m(\u001b[0m\u001b[0merror_str\u001b[0m\u001b[1;33m,\u001b[0m \u001b[0mrequest\u001b[0m\u001b[1;33m=\u001b[0m\u001b[0mrequest\u001b[0m\u001b[1;33m,\u001b[0m \u001b[0mresponse\u001b[0m\u001b[1;33m=\u001b[0m\u001b[0mresponse\u001b[0m\u001b[1;33m)\u001b[0m\u001b[1;33m\u001b[0m\u001b[1;33m\u001b[0m\u001b[0m\n\u001b[0m",
      "\u001b[1;31mBadRequest\u001b[0m: Error in https://api.spotify.com/v1/search?q=genre%3A%22rock%22&type=tracks&limit=20&offset=0:\n400: Bad search type field tracks\n"
     ]
    }
   ],
   "source": [
    "spotify.search('genre:\"rock\"', types=('tracks',), limit=20)"
   ]
  },
  {
   "cell_type": "code",
   "execution_count": 107,
   "metadata": {},
   "outputs": [
    {
     "name": "stdout",
     "output_type": "stream",
     "text": [
      "I'm Throwed (feat. Jermaine Dupri) by Paul Wall\n",
      "Popularity:  47 \n",
      "---\n",
      "Break Em' Off (feat. Lil' Keke) by Paul Wall\n",
      "Popularity:  44 \n",
      "---\n",
      "Bangin Screw by Paul Wall\n",
      "Popularity:  31 \n",
      "---\n",
      "Everybody Know Me (feat. Snoop Dogg) by Paul Wall\n",
      "Popularity:  24 \n",
      "---\n",
      "I Ain't Hard to Find by Paul Wall\n",
      "Popularity:  22 \n",
      "---\n",
      "Gimme That by Paul Wall\n",
      "Popularity:  23 \n",
      "---\n",
      "Get Your Paper Up (feat. Yung Redd) by Paul Wall\n",
      "Popularity:  19 \n",
      "---\n",
      "Tonight (feat. Jon B) by Paul Wall\n",
      "Popularity:  18 \n",
      "---\n",
      "Call Me What U Want (feat. Yung Redd & E Class) by Paul Wall\n",
      "Popularity:  18 \n",
      "---\n",
      "That Fire (feat. Trina) by Paul Wall\n",
      "Popularity:  19 \n",
      "---\n",
      "Break Em' Off (feat. Lil' Keke) - C&S Version by Paul Wall\n",
      "Popularity:  17 \n",
      "---\n",
      "How Gangstas Roll (feat. Crys Wall) by Paul Wall\n",
      "Popularity:  16 \n",
      "---\n",
      "On the Grind (feat. Freeway & Crys Wall) by Paul Wall\n",
      "Popularity:  15 \n",
      "---\n",
      "I'm Real, What Are You? (feat. Juelz Santana) by Paul Wall\n",
      "Popularity:  14 \n",
      "---\n",
      "Slidin' on That Oil (feat. Expensive Taste) by Paul Wall\n",
      "Popularity:  12 \n",
      "---\n",
      "I'm Throwed (feat. Jermaine Dupri) - C&S Version by Paul Wall\n",
      "Popularity:  10 \n",
      "---\n",
      "Tonight (feat. Jon B) - C&S Version by Paul Wall\n",
      "Popularity:  9 \n",
      "---\n",
      "Bangin Screw - C&S by Paul Wall\n",
      "Popularity:  7 \n",
      "---\n",
      "Gimme That - C&S by Paul Wall\n",
      "Popularity:  6 \n",
      "---\n",
      "Get Your Paper Up (feat. Yung Redd) - C&S Version by Paul Wall\n",
      "Popularity:  5 \n",
      "---\n"
     ]
    }
   ],
   "source": [
    "for hot_explicits in spotify.search('explicit:True')[0].items:\n",
    "    name = hot_explicits.name\n",
    "    artist1 = hot_explicits.artists[0].name\n",
    "    pop = hot_explicits.popularity\n",
    "    #year = hot_explicits.year      can't do year?\n",
    "    print(name+' by '+artist1)\n",
    "    print('Popularity: ',pop,'\\n---')\n",
    "    #print('Released ',year)"
   ]
  },
  {
   "cell_type": "code",
   "execution_count": 87,
   "metadata": {},
   "outputs": [
    {
     "name": "stdout",
     "output_type": "stream",
     "text": [
      "Valse mélancolique in F-Sharp Minor, Op. 332 \"Le regret\" (Previously attributed to Chopin) by Charles Mayer\n",
      "Popularity:  5 \n",
      "---\n",
      "Holz, Holz geigt die Quartette so (Attrib. Beethoven as WoO 204) by Karl Holz\n",
      "Popularity:  5 \n",
      "---\n",
      "Soft pink noise putting down baby by Colic Remedies Pink Noise\n",
      "Popularity:  5 \n",
      "---\n",
      "ASMR deep sleep by Easy Falling Asleep ASMR\n",
      "Popularity:  5 \n",
      "---\n",
      "Calm down fussy baby by Colic Remedies Pink Noise\n",
      "Popularity:  5 \n",
      "---\n",
      "Better night shusher by Pink Noise for Better Night\n",
      "Popularity:  5 \n",
      "---\n",
      "Healing ASMR sounds by Easy Falling Asleep ASMR\n",
      "Popularity:  5 \n",
      "---\n",
      "Brown noise airplane sound by Brown Noise Enjoyable Sleep\n",
      "Popularity:  5 \n",
      "---\n",
      "Baby stops crying by Brown Noise Enjoyable Sleep\n",
      "Popularity:  5 \n",
      "---\n",
      "Fall asleep easily by Easy Falling Asleep ASMR\n",
      "Popularity:  5 \n",
      "---\n",
      "White noise sleep aid all night by Soothing Airplane Sound All Night\n",
      "Popularity:  5 \n",
      "---\n",
      "Soft colic remedies by Colic Remedies Pink Noise\n",
      "Popularity:  5 \n",
      "---\n",
      "Airplane sound chill out by Soothing Airplane Sound All Night\n",
      "Popularity:  5 \n",
      "---\n",
      "Comfy and easy night by Brown Noise Enjoyable Sleep\n",
      "Popularity:  5 \n",
      "---\n",
      "Calm down fussy infant by Brown Noise Enjoyable Sleep\n",
      "Popularity:  5 \n",
      "---\n",
      "Anxiety relief looped sounds by Easy Falling Asleep ASMR\n",
      "Popularity:  5 \n",
      "---\n",
      "Healing ASMR sounds by Easy Falling Asleep ASMR\n",
      "Popularity:  5 \n",
      "---\n",
      "Comfy and easy night by Brown Noise Enjoyable Sleep\n",
      "Popularity:  5 \n",
      "---\n",
      "Baby goes to sleep by Pink Noise for Better Night\n",
      "Popularity:  5 \n",
      "---\n",
      "Pink noise for sleepless night by Pink Noise for Better Night\n",
      "Popularity:  5 \n",
      "---\n"
     ]
    }
   ],
   "source": [
    "for hipster in spotify.search('tag:hipster')[0].items:\n",
    "    name = hipster.name\n",
    "    artist1 = hipster.artists[0].name\n",
    "    print(name+' by '+artist1)\n",
    "    print('Popularity: ',pop,'\\n---')"
   ]
  }
 ],
 "metadata": {
  "kernelspec": {
   "display_name": "Python 3",
   "language": "python",
   "name": "python3"
  },
  "language_info": {
   "codemirror_mode": {
    "name": "ipython",
    "version": 3
   },
   "file_extension": ".py",
   "mimetype": "text/x-python",
   "name": "python",
   "nbconvert_exporter": "python",
   "pygments_lexer": "ipython3",
   "version": "3.8.3"
  }
 },
 "nbformat": 4,
 "nbformat_minor": 4
}
