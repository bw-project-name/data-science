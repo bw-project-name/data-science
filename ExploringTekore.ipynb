{
 "cells": [
  {
   "cell_type": "code",
   "execution_count": 2,
   "metadata": {},
   "outputs": [
    {
     "name": "stdout",
     "output_type": "stream",
     "text": [
      "Requirement already satisfied: tekore in c:\\users\\owner\\appdata\\local\\programs\\python\\python38-32\\lib\\site-packages (2.1.2)\n",
      "Requirement already satisfied: httpx<0.14,>=0.11 in c:\\users\\owner\\appdata\\local\\programs\\python\\python38-32\\lib\\site-packages (from tekore) (0.13.3)\n",
      "Requirement already satisfied: requests~=2.19 in c:\\users\\owner\\appdata\\local\\programs\\python\\python38-32\\lib\\site-packages (from tekore) (2.24.0)\n",
      "Requirement already satisfied: sniffio in c:\\users\\owner\\appdata\\local\\programs\\python\\python38-32\\lib\\site-packages (from httpx<0.14,>=0.11->tekore) (1.1.0)\n",
      "Requirement already satisfied: rfc3986<2,>=1.3 in c:\\users\\owner\\appdata\\local\\programs\\python\\python38-32\\lib\\site-packages (from httpx<0.14,>=0.11->tekore) (1.4.0)\n",
      "Requirement already satisfied: idna==2.* in c:\\users\\owner\\appdata\\local\\programs\\python\\python38-32\\lib\\site-packages (from httpx<0.14,>=0.11->tekore) (2.10)\n",
      "Requirement already satisfied: chardet==3.* in c:\\users\\owner\\appdata\\local\\programs\\python\\python38-32\\lib\\site-packages (from httpx<0.14,>=0.11->tekore) (3.0.4)\n",
      "Requirement already satisfied: hstspreload in c:\\users\\owner\\appdata\\local\\programs\\python\\python38-32\\lib\\site-packages (from httpx<0.14,>=0.11->tekore) (2020.7.22)\n",
      "Requirement already satisfied: httpcore==0.9.* in c:\\users\\owner\\appdata\\local\\programs\\python\\python38-32\\lib\\site-packages (from httpx<0.14,>=0.11->tekore) (0.9.1)\n",
      "Requirement already satisfied: certifi in c:\\users\\owner\\appdata\\local\\programs\\python\\python38-32\\lib\\site-packages (from httpx<0.14,>=0.11->tekore) (2020.4.5.1)\n",
      "Requirement already satisfied: urllib3!=1.25.0,!=1.25.1,<1.26,>=1.21.1 in c:\\users\\owner\\appdata\\local\\programs\\python\\python38-32\\lib\\site-packages (from requests~=2.19->tekore) (1.25.9)\n",
      "Requirement already satisfied: h11<0.10,>=0.8 in c:\\users\\owner\\appdata\\local\\programs\\python\\python38-32\\lib\\site-packages (from httpcore==0.9.*->httpx<0.14,>=0.11->tekore) (0.9.0)\n",
      "Requirement already satisfied: h2==3.* in c:\\users\\owner\\appdata\\local\\programs\\python\\python38-32\\lib\\site-packages (from httpcore==0.9.*->httpx<0.14,>=0.11->tekore) (3.2.0)\n",
      "Requirement already satisfied: hpack<4,>=3.0 in c:\\users\\owner\\appdata\\local\\programs\\python\\python38-32\\lib\\site-packages (from h2==3.*->httpcore==0.9.*->httpx<0.14,>=0.11->tekore) (3.0.0)\n",
      "Requirement already satisfied: hyperframe<6,>=5.2.0 in c:\\users\\owner\\appdata\\local\\programs\\python\\python38-32\\lib\\site-packages (from h2==3.*->httpcore==0.9.*->httpx<0.14,>=0.11->tekore) (5.2.0)\n"
     ]
    }
   ],
   "source": [
    "!pip install tekore"
   ]
  },
  {
   "cell_type": "code",
   "execution_count": 3,
   "metadata": {},
   "outputs": [
    {
     "name": "stdout",
     "output_type": "stream",
     "text": [
      "Requirement already satisfied: python-dotenv in c:\\users\\owner\\appdata\\local\\programs\\python\\python38-32\\lib\\site-packages (0.14.0)\n"
     ]
    }
   ],
   "source": [
    "!pip install python-dotenv"
   ]
  },
  {
   "cell_type": "code",
   "execution_count": 4,
   "metadata": {},
   "outputs": [
    {
     "name": "stdout",
     "output_type": "stream",
     "text": [
      "Requirement already satisfied: tqdm in c:\\users\\owner\\appdata\\local\\programs\\python\\python38-32\\lib\\site-packages (4.48.0)\n",
      "Requirement already satisfied: colorama in c:\\users\\owner\\appdata\\roaming\\python\\python38\\site-packages (0.4.3)\n"
     ]
    },
    {
     "name": "stderr",
     "output_type": "stream",
     "text": [
      "Enabling notebook extension jupyter-js-widgets/extension...\n",
      "      - Validating: ok\n"
     ]
    }
   ],
   "source": [
    "!pip install tqdm colorama\n",
    "!jupyter nbextension enable --py widgetsnbextension"
   ]
  },
  {
   "cell_type": "code",
   "execution_count": 5,
   "metadata": {},
   "outputs": [],
   "source": [
    "import tekore as tk\n",
    "import os\n",
    "from dotenv import load_dotenv\n",
    "import pandas as pd\n",
    "from tqdm import tqdm"
   ]
  },
  {
   "cell_type": "code",
   "execution_count": 6,
   "metadata": {},
   "outputs": [
    {
     "data": {
      "text/plain": [
       "('340bdfadbf1b48d684111081b0be204d', '7d00cad90c844b7eb04e32e48711e372')"
      ]
     },
     "execution_count": 6,
     "metadata": {},
     "output_type": "execute_result"
    }
   ],
   "source": [
    "# fuck you, load_dotenv\n",
    "# you know what, load_dotenv? We got off on the wrong foot. I wanted you to be a certain thing, but you work in a way that's all your own I guess. I must let you be the free spirit you are.\n",
    "load_dotenv()\n",
    "client_id = os.getenv('CLIENT_ID')\n",
    "client_secret = os.getenv('CLIENT_SECRET')\n",
    "client_id, client_secret"
   ]
  },
  {
   "cell_type": "code",
   "execution_count": 8,
   "metadata": {},
   "outputs": [],
   "source": [
    "# Client id and client secret are the bare minimum for getting any API response.\n",
    "# You can do more things relating to a user's history or playback settings once you have their OAuth verification token\n",
    "# There's some added complexity to getting/storing that, so we're starting simple\n",
    "app_token = tk.request_client_token(client_id, client_secret)\n",
    "spotify = tk.Spotify(app_token)\n",
    "spotify_ch = tk.Spotify(app_token,chunked_on=True)"
   ]
  },
  {
   "cell_type": "code",
   "execution_count": 9,
   "metadata": {},
   "outputs": [
    {
     "name": "stdout",
     "output_type": "stream",
     "text": [
      "Top Lists\n",
      "Hip-Hop\n",
      "Summer\n",
      "Pop\n",
      "Country\n",
      "Workout\n",
      "Latin\n",
      "Mood\n",
      "Rock\n",
      "R&B\n",
      "Black History Is Now\n",
      "Gaming\n",
      "Focus\n",
      "Dance/Electronic\n",
      "Chill\n",
      "At Home\n",
      "Indie\n",
      "Christian\n",
      "Decades\n",
      "Alternative\n",
      "Wellness\n",
      "Pride\n",
      "Party\n",
      "Sleep\n",
      "Classical\n",
      "Jazz\n",
      "Folk & Acoustic\n",
      "Soul\n",
      "Cooking & Dining\n",
      "Romance\n",
      "K-Pop\n",
      "Punk\n",
      "Regional Mexican\n",
      "Spotify Singles\n",
      "Pop culture\n",
      "Arab\n",
      "Desi\n",
      "Anime\n",
      "Tastemakers\n",
      "Afro\n",
      "Comedy\n",
      "Metal\n",
      "Reggae\n",
      "Blues\n",
      "Funk\n",
      "Student\n",
      "Commute\n",
      "Kids & Family\n"
     ]
    }
   ],
   "source": [
    "all_cats_current = spotify.categories(limit=50)\n",
    "for cat in all_cats_current.items:\n",
    "    print(cat.name)\n",
    "# These are all 48 categories \n",
    "# Thing I just realized: the order of these shifts depending on the time you retrieve them\n",
    "# we're fixing this by hard-coding a master list of name, cat_id pairings so that the labels don't change during training\n",
    "all_cats_master =  [['toplists', 'Top Lists'],\n",
    "                    ['hiphop', 'Hip-Hop'],\n",
    "                    ['summer', 'Summer'],\n",
    "                    ['pop', 'Pop'],\n",
    "                    ['country', 'Country'],\n",
    "                    ['workout', 'Workout'],\n",
    "                    ['latin', 'Latin'],\n",
    "                    ['mood', 'Mood'],\n",
    "                    ['rock', 'Rock'],\n",
    "                    ['rnb', 'R&B'],\n",
    "                    ['blackhistorymonth', 'Black History Is Now'],\n",
    "                    ['gaming', 'Gaming'],\n",
    "                    ['focus', 'Focus'],\n",
    "                    ['edm_dance', 'Dance/Electronic'],\n",
    "                    ['chill', 'Chill'],\n",
    "                    ['at_home', 'At Home'],\n",
    "                    ['indie_alt', 'Indie'],\n",
    "                    ['inspirational', 'Christian'],\n",
    "                    ['decades', 'Decades'],\n",
    "                    ['alternative', 'Alternative'],\n",
    "                    ['wellness', 'Wellness'],\n",
    "                    ['pride', 'Pride'],\n",
    "                    ['party', 'Party'],\n",
    "                    ['sleep', 'Sleep'],\n",
    "                    ['classical', 'Classical'],\n",
    "                    ['jazz', 'Jazz'],\n",
    "                    ['roots', 'Folk & Acoustic'],\n",
    "                    ['soul', 'Soul'],\n",
    "                    ['dinner', 'Cooking & Dining'],\n",
    "                    ['romance', 'Romance'],\n",
    "                    ['kpop', 'K-Pop'],\n",
    "                    ['punk', 'Punk'],\n",
    "                    ['regionalmexican', 'Regional Mexican'],\n",
    "                    ['sessions', 'Spotify Singles'],\n",
    "                    ['popculture', 'Pop culture'],\n",
    "                    ['arab', 'Arab'],\n",
    "                    ['desi', 'Desi'],\n",
    "                    ['anime', 'Anime'],\n",
    "                    ['thirdparty', 'Tastemakers'],\n",
    "                    ['afro', 'Afro'],\n",
    "                    ['comedy_v2_podcast', 'Comedy'],\n",
    "                    ['metal', 'Metal'],\n",
    "                    ['reggae', 'Reggae'],\n",
    "                    ['blues', 'Blues'],\n",
    "                    ['funk', 'Funk'],\n",
    "                    ['student', 'Student'],\n",
    "                    ['travel', 'Commute'],\n",
    "                    ['family', 'Kids & Family']]"
   ]
  },
  {
   "cell_type": "markdown",
   "metadata": {},
   "source": [
    "3 things:\n",
    "- begin listing processing steps for each song\n",
    "- script to compile all tracks under a category\n",
    "- search genres, date range, duration range"
   ]
  },
  {
   "cell_type": "markdown",
   "metadata": {},
   "source": [
    "### I'm starting with a look at one category\n",
    "Many playlists can be tagged with one category label, so out of anticipation that dance/electronic is going to be pretty likely to sound the same, let's get a track list for the first playlist under the \"Dance/Electronic\" label"
   ]
  },
  {
   "cell_type": "code",
   "execution_count": null,
   "metadata": {},
   "outputs": [],
   "source": [
    "edm_dance_list = spotify.category_playlists('edm_dance',limit=20)\n",
    "edm_dance_list, edm_dance_list.items\n",
    "# This is the object representation of a particular list of playlists, \".items\" is most useful here"
   ]
  },
  {
   "cell_type": "code",
   "execution_count": null,
   "metadata": {},
   "outputs": [],
   "source": [
    "mint = edm_dance_list.items[0]\n",
    "mint # Not guaranteed to be \"mint\" playlist because the category order shifted above"
   ]
  },
  {
   "cell_type": "markdown",
   "metadata": {},
   "source": [
    "### Let's get the first 2 songs' track data"
   ]
  },
  {
   "cell_type": "code",
   "execution_count": null,
   "metadata": {},
   "outputs": [],
   "source": [
    "print(\"This just shows us the link to the playlist and how many songs are in it\")\n",
    "print(mint.tracks)\n",
    "print(\"---\\n\",\"playlist_items is the class that gets us track ID's\")\n",
    "mint_tracks = spotify.playlist_items(mint.id).items\n",
    "mint_tracks"
   ]
  },
  {
   "cell_type": "code",
   "execution_count": null,
   "metadata": {},
   "outputs": [],
   "source": [
    "song1 = mint_tracks[0].track\n",
    "song2 = mint_tracks[1].track\n",
    "song1"
   ]
  },
  {
   "cell_type": "code",
   "execution_count": null,
   "metadata": {},
   "outputs": [],
   "source": [
    "# audio_analysis and audio_features\n",
    "song1_analysis = spotify.track_audio_analysis(song1.id)\n",
    "song2_analysis = spotify.track_audio_analysis(song2.id)\n",
    "song1_features = spotify.track_audio_features(song1.id)\n",
    "song2_features = spotify.track_audio_features(song2.id)\n",
    "song1_analysis, song1_features"
   ]
  },
  {
   "cell_type": "markdown",
   "metadata": {},
   "source": [
    "### Combine all the track's data and compare correlation"
   ]
  },
  {
   "cell_type": "code",
   "execution_count": null,
   "metadata": {},
   "outputs": [],
   "source": [
    "song1song2_compare = pd.DataFrame([[vars(song1), vars(song1_features)],\n",
    "                                   [vars(song2), vars(song1_features)]])\n",
    "song1song2_compare.head()"
   ]
  },
  {
   "cell_type": "markdown",
   "metadata": {},
   "source": [
    "# New activity: Condense an entire mood category"
   ]
  },
  {
   "cell_type": "code",
   "execution_count": null,
   "metadata": {},
   "outputs": [],
   "source": [
    "track_analysis = spotify.track_audio_analysis(track.track.id)\n",
    "track_features = spotify.track_audio_features(track.track.id)\n"
   ]
  },
  {
   "cell_type": "code",
   "execution_count": null,
   "metadata": {},
   "outputs": [],
   "source": [
    "# for section in track_analysis.sections:\n",
    "#     print(f'Key:{section.key} Conf:{section.key_confidence}')\n",
    "track_analysis.\n",
    "# everything needs expanding\n",
    "# don't need bars, beats, meta"
   ]
  },
  {
   "cell_type": "code",
   "execution_count": 10,
   "metadata": {},
   "outputs": [],
   "source": [
    "import numpy as np\n",
    "import time\n",
    "\n",
    "alb_cols = ['album_lead_artist','album_name','release_date','total_tracks'] # these don't map exactly to the names they have in the object but it's what I want the DF columns to be\n",
    "art_cols = ['track_artists','genres', 'artist_pop']\n",
    "keep_cols = ['id','duration_ms','explicit','name','popularity','track_number']\n",
    "\n",
    "feature_cols = ['acousticness', 'danceability', 'duration_ms', 'energy', 'instrumentalness', 'key', 'liveness', 'loudness', 'mode', 'speechiness', 'tempo', 'time_signature', 'valence']\n",
    "df_colnames = ['cat_idx'] + alb_cols + art_cols + keep_cols + feature_cols\n",
    "#question marks: episode/track, disc_number, restrictions, track_number\n",
    "#album question marks: album_group, album_type"
   ]
  },
  {
   "cell_type": "code",
   "execution_count": 11,
   "metadata": {},
   "outputs": [],
   "source": [
    "def basic_track_data(full_track, full_playlist_track=False):\n",
    "    '''\n",
    "    Using object type FullPlaylistTrack, this function returns a row of data with columns matching what the final DataFrame of training set is going to look like.\n",
    "    A track of this type can be retrieved by calling (with Tekore): \n",
    "            paging_obj = spotify.playlist_items(playlist_placeholder.id) #playlist paging object\n",
    "            paging_obj.items[track_index] #returns FullPlaylistTrack object type\n",
    "    \n",
    "    We're not using any playlist-specific fields here, ~~~\"so it should work the same with a regular FullTrack object\"~~~ this is wrong.\n",
    "    It does not, so the default input is now FullTrack object, and if full_playlist_track is True, it converts\n",
    "    '''\n",
    "    if full_playlist_track:\n",
    "        full_track = full_track.track\n",
    "    # expand album field, retrieve album data labeled by alb_expand_cols\n",
    "    alb_data = []\n",
    "    alb_data.append(full_track.album.artists[0].name)\n",
    "    alb_data.append(full_track.album.name)\n",
    "    alb_data.append(full_track.album.release_date)\n",
    "    alb_data.append(full_track.album.total_tracks)\n",
    "    \n",
    "    # expand artists field, list all artists as string separated by newlines\n",
    "    artists_str = ''\n",
    "    for artist in full_track.artists:\n",
    "        artists_str = artists_str + artist.name + '\\n'\n",
    "    \n",
    "    # lookup lead artist, list genres as string, separated by newlines\n",
    "    genres_str = ''\n",
    "    lead_artist = spotify.artist(full_track.artists[0].id)\n",
    "    for genre in lead_artist.genres:\n",
    "        genres_str = genres_str + genre + '\\n'\n",
    "    # record lead artist popularity and save\n",
    "    artist_pop = lead_artist.popularity\n",
    "    art_data = [artists_str, genres_str, artist_pop]\n",
    "    \n",
    "    # generate data as labeled by keep_cols\n",
    "    track_data = [full_track.__dict__[col] for col in keep_cols]\n",
    "    \n",
    "    # return single row containing all track data\n",
    "    return alb_data + art_data + track_data\n",
    "\n",
    "def audio_data(full_playlist_track): # don't use this \n",
    "    features_obj = spotify.track_audio_features(full_playlist_track.track.id)\n",
    "    #analysis_obj = spotify.track_audio_analysis(full_playlist_track.track.id)\n",
    "    \n",
    "    #Will this be too many API calls? we'll find out. (it is possible to batch audio_features request but not audio_analysis)\n",
    "    features_data = [features_obj.__dict__[fcol] for fcol in feature_cols]\n",
    "    \n",
    "    #Skipping analysis for now\n",
    "    return features_data #+ analysis_data\n",
    "\n",
    "#[df_colnames, *[basic_track_data(track)+ audio_data(track)]]\n"
   ]
  },
  {
   "cell_type": "code",
   "execution_count": 14,
   "metadata": {},
   "outputs": [
    {
     "name": "stderr",
     "output_type": "stream",
     "text": [
      "categories: 0it [00:00, ?it/s]\n",
      "playlists:   0%|                                                                                 | 0/6 [00:00<?, ?it/s]\u001b[A\n",
      "playlists:  17%|████████████▏                                                            | 1/6 [00:35<02:57, 35.49s/it]\u001b[A\n",
      "playlists:  33%|████████████████████████▎                                                | 2/6 [01:16<02:28, 37.10s/it]\u001b[A\n",
      "playlists:  50%|████████████████████████████████████▌                                    | 3/6 [02:39<02:33, 51.02s/it]\u001b[A\n",
      "playlists:  67%|████████████████████████████████████████████████▋                        | 4/6 [03:24<01:38, 49.19s/it]\u001b[A\n",
      "playlists:  83%|████████████████████████████████████████████████████████████▊            | 5/6 [04:35<00:55, 55.54s/it]\u001b[A\n",
      "playlists: 100%|█████████████████████████████████████████████████████████████████████████| 6/6 [05:24<00:00, 53.81s/it]\u001b[A\n",
      "categories: 1it [05:24, 324.99s/it]                                                                                    \u001b[A\n",
      "playlists:   0%|                                                                                 | 0/7 [00:00<?, ?it/s]\u001b[A\n",
      "playlists:  14%|██████████▎                                                             | 1/7 [03:57<23:44, 237.48s/it]\u001b[A\n",
      "playlists:  29%|████████████████████▌                                                   | 2/7 [08:05<20:03, 240.76s/it]\u001b[A\n",
      "playlists:  43%|██████████████████████████████▊                                         | 3/7 [12:37<16:40, 250.08s/it]\u001b[A\n",
      "playlists:  57%|█████████████████████████████████████████▏                              | 4/7 [13:37<09:38, 193.00s/it]\u001b[A\n",
      "playlists:  71%|███████████████████████████████████████████████████▍                    | 5/7 [15:25<05:35, 167.52s/it]\u001b[A\n",
      "playlists:  86%|█████████████████████████████████████████████████████████████▋          | 6/7 [16:11<02:11, 131.05s/it]\u001b[A\n",
      "playlists: 100%|█████████████████████████████████████████████████████████████████████████| 7/7 [16:27<00:00, 96.42s/it]\u001b[A\n",
      "categories: 2it [21:52, 523.67s/it]                                                                                    \u001b[A\n",
      "playlists:   0%|                                                                                | 0/10 [00:00<?, ?it/s]\u001b[A\n",
      "playlists:  10%|███████▏                                                                | 1/10 [00:50<07:34, 50.53s/it]\u001b[A\n",
      "playlists:  20%|██████████████▍                                                         | 2/10 [03:26<10:56, 82.12s/it]\u001b[A\n",
      "playlists:  30%|█████████████████████▌                                                  | 3/10 [05:06<10:12, 87.47s/it]\u001b[A\n",
      "playlists:  40%|████████████████████████████▊                                           | 4/10 [06:29<08:37, 86.18s/it]\u001b[A\n",
      "playlists:  50%|████████████████████████████████████                                    | 5/10 [08:37<08:14, 98.83s/it]\u001b[A\n",
      "playlists:  60%|██████████████████████████████████████████▌                            | 6/10 [11:00<07:28, 112.12s/it]\u001b[A\n",
      "playlists:  70%|█████████████████████████████████████████████████▋                     | 7/10 [12:45<05:29, 109.95s/it]\u001b[A\n",
      "                                                                                                                       \u001b[A\r"
     ]
    },
    {
     "ename": "ServiceUnavailable",
     "evalue": "Error in https://api.spotify.com/v1/artists/5HydVvU98cVWguCYzh7WbA:\n503: Service unavailable\n",
     "output_type": "error",
     "traceback": [
      "\u001b[1;31m---------------------------------------------------------------------------\u001b[0m",
      "\u001b[1;31mServiceUnavailable\u001b[0m                        Traceback (most recent call last)",
      "\u001b[1;32m<ipython-input-14-e34f48e9ac50>\u001b[0m in \u001b[0;36m<module>\u001b[1;34m\u001b[0m\n\u001b[0;32m     39\u001b[0m \u001b[1;31m#                     continue\u001b[0m\u001b[1;33m\u001b[0m\u001b[1;33m\u001b[0m\u001b[1;33m\u001b[0m\u001b[0m\n\u001b[0;32m     40\u001b[0m                 \u001b[0mfeatures_data\u001b[0m \u001b[1;33m=\u001b[0m \u001b[1;33m[\u001b[0m\u001b[0mcat_playlist_tracks_feat\u001b[0m\u001b[1;33m[\u001b[0m\u001b[0mj\u001b[0m\u001b[1;33m]\u001b[0m\u001b[1;33m.\u001b[0m\u001b[0m__dict__\u001b[0m\u001b[1;33m[\u001b[0m\u001b[0mfcol\u001b[0m\u001b[1;33m]\u001b[0m \u001b[1;32mfor\u001b[0m \u001b[0mfcol\u001b[0m \u001b[1;32min\u001b[0m \u001b[0mfeature_cols\u001b[0m\u001b[1;33m]\u001b[0m\u001b[1;33m\u001b[0m\u001b[1;33m\u001b[0m\u001b[0m\n\u001b[1;32m---> 41\u001b[1;33m                 \u001b[0mtraining_songs\u001b[0m \u001b[1;33m=\u001b[0m \u001b[0mtraining_songs\u001b[0m\u001b[1;33m.\u001b[0m\u001b[0mappend\u001b[0m\u001b[1;33m(\u001b[0m\u001b[0mdict\u001b[0m\u001b[1;33m(\u001b[0m\u001b[0mzip\u001b[0m\u001b[1;33m(\u001b[0m\u001b[0mdf_colnames\u001b[0m\u001b[1;33m,\u001b[0m\u001b[1;33m[\u001b[0m\u001b[0mi\u001b[0m\u001b[1;33m]\u001b[0m\u001b[1;33m+\u001b[0m\u001b[0mbasic_track_data\u001b[0m\u001b[1;33m(\u001b[0m\u001b[0mtrack\u001b[0m\u001b[1;33m)\u001b[0m\u001b[1;33m+\u001b[0m\u001b[0mfeatures_data\u001b[0m\u001b[1;33m)\u001b[0m\u001b[1;33m)\u001b[0m\u001b[1;33m,\u001b[0m \u001b[0mignore_index\u001b[0m\u001b[1;33m=\u001b[0m\u001b[1;32mTrue\u001b[0m\u001b[1;33m)\u001b[0m\u001b[1;33m\u001b[0m\u001b[1;33m\u001b[0m\u001b[0m\n\u001b[0m",
      "\u001b[1;32m<ipython-input-11-b3eba7e7f05b>\u001b[0m in \u001b[0;36mbasic_track_data\u001b[1;34m(full_track, full_playlist_track)\u001b[0m\n\u001b[0;32m     25\u001b[0m     \u001b[1;31m# lookup lead artist, list genres as string, separated by newlines\u001b[0m\u001b[1;33m\u001b[0m\u001b[1;33m\u001b[0m\u001b[1;33m\u001b[0m\u001b[0m\n\u001b[0;32m     26\u001b[0m     \u001b[0mgenres_str\u001b[0m \u001b[1;33m=\u001b[0m \u001b[1;34m''\u001b[0m\u001b[1;33m\u001b[0m\u001b[1;33m\u001b[0m\u001b[0m\n\u001b[1;32m---> 27\u001b[1;33m     \u001b[0mlead_artist\u001b[0m \u001b[1;33m=\u001b[0m \u001b[0mspotify\u001b[0m\u001b[1;33m.\u001b[0m\u001b[0martist\u001b[0m\u001b[1;33m(\u001b[0m\u001b[0mfull_track\u001b[0m\u001b[1;33m.\u001b[0m\u001b[0martists\u001b[0m\u001b[1;33m[\u001b[0m\u001b[1;36m0\u001b[0m\u001b[1;33m]\u001b[0m\u001b[1;33m.\u001b[0m\u001b[0mid\u001b[0m\u001b[1;33m)\u001b[0m\u001b[1;33m\u001b[0m\u001b[1;33m\u001b[0m\u001b[0m\n\u001b[0m\u001b[0;32m     28\u001b[0m     \u001b[1;32mfor\u001b[0m \u001b[0mgenre\u001b[0m \u001b[1;32min\u001b[0m \u001b[0mlead_artist\u001b[0m\u001b[1;33m.\u001b[0m\u001b[0mgenres\u001b[0m\u001b[1;33m:\u001b[0m\u001b[1;33m\u001b[0m\u001b[1;33m\u001b[0m\u001b[0m\n\u001b[0;32m     29\u001b[0m         \u001b[0mgenres_str\u001b[0m \u001b[1;33m=\u001b[0m \u001b[0mgenres_str\u001b[0m \u001b[1;33m+\u001b[0m \u001b[0mgenre\u001b[0m \u001b[1;33m+\u001b[0m \u001b[1;34m'\\n'\u001b[0m\u001b[1;33m\u001b[0m\u001b[1;33m\u001b[0m\u001b[0m\n",
      "\u001b[1;32mc:\\users\\owner\\appdata\\local\\programs\\python\\python38-32\\lib\\site-packages\\tekore\\_client\\decor\\__init__.py\u001b[0m in \u001b[0;36mwrapper\u001b[1;34m(self, *args, **kwargs)\u001b[0m\n\u001b[0;32m     39\u001b[0m \u001b[1;33m\u001b[0m\u001b[0m\n\u001b[0;32m     40\u001b[0m             \u001b[0mresponse\u001b[0m \u001b[1;33m=\u001b[0m \u001b[0mself\u001b[0m\u001b[1;33m.\u001b[0m\u001b[0m_send\u001b[0m\u001b[1;33m(\u001b[0m\u001b[0mrequest\u001b[0m\u001b[1;33m)\u001b[0m\u001b[1;33m\u001b[0m\u001b[1;33m\u001b[0m\u001b[0m\n\u001b[1;32m---> 41\u001b[1;33m             \u001b[0mhandle_errors\u001b[0m\u001b[1;33m(\u001b[0m\u001b[0mrequest\u001b[0m\u001b[1;33m,\u001b[0m \u001b[0mresponse\u001b[0m\u001b[1;33m)\u001b[0m\u001b[1;33m\u001b[0m\u001b[1;33m\u001b[0m\u001b[0m\n\u001b[0m\u001b[0;32m     42\u001b[0m             \u001b[0mcontent\u001b[0m \u001b[1;33m=\u001b[0m \u001b[0mparse_json\u001b[0m\u001b[1;33m(\u001b[0m\u001b[0mresponse\u001b[0m\u001b[1;33m)\u001b[0m\u001b[1;33m\u001b[0m\u001b[1;33m\u001b[0m\u001b[0m\n\u001b[0;32m     43\u001b[0m             \u001b[1;32mreturn\u001b[0m \u001b[0mpost_func\u001b[0m\u001b[1;33m(\u001b[0m\u001b[0mcontent\u001b[0m\u001b[1;33m)\u001b[0m\u001b[1;33m\u001b[0m\u001b[1;33m\u001b[0m\u001b[0m\n",
      "\u001b[1;32mc:\\users\\owner\\appdata\\local\\programs\\python\\python38-32\\lib\\site-packages\\tekore\\_client\\decor\\handle.py\u001b[0m in \u001b[0;36mhandle_errors\u001b[1;34m(request, response)\u001b[0m\n\u001b[0;32m     41\u001b[0m         )\n\u001b[0;32m     42\u001b[0m         \u001b[0merror_cls\u001b[0m \u001b[1;33m=\u001b[0m \u001b[0mget_error\u001b[0m\u001b[1;33m(\u001b[0m\u001b[0mresponse\u001b[0m\u001b[1;33m.\u001b[0m\u001b[0mstatus_code\u001b[0m\u001b[1;33m)\u001b[0m\u001b[1;33m\u001b[0m\u001b[1;33m\u001b[0m\u001b[0m\n\u001b[1;32m---> 43\u001b[1;33m         \u001b[1;32mraise\u001b[0m \u001b[0merror_cls\u001b[0m\u001b[1;33m(\u001b[0m\u001b[0merror_str\u001b[0m\u001b[1;33m,\u001b[0m \u001b[0mrequest\u001b[0m\u001b[1;33m=\u001b[0m\u001b[0mrequest\u001b[0m\u001b[1;33m,\u001b[0m \u001b[0mresponse\u001b[0m\u001b[1;33m=\u001b[0m\u001b[0mresponse\u001b[0m\u001b[1;33m)\u001b[0m\u001b[1;33m\u001b[0m\u001b[1;33m\u001b[0m\u001b[0m\n\u001b[0m",
      "\u001b[1;31mServiceUnavailable\u001b[0m: Error in https://api.spotify.com/v1/artists/5HydVvU98cVWguCYzh7WbA:\n503: Service unavailable\n"
     ]
    }
   ],
   "source": [
    "#training_songs = pd.DataFrame([], columns=df_colnames)\n",
    "training_songs = pd.read_csv('training_data.csv') #Use this loading if adding to existing version of training_songs\n",
    "sleep_min = 2\n",
    "sleep_max = 5\n",
    "start_time = time.time()\n",
    "request_count = 0\n",
    "#spotify = tk.Spotify(chunked_on=True)\n",
    "with spotify_ch.chunked():\n",
    "    # Loop thru categories here\n",
    "    for i,cat in tqdm(enumerate(all_cats_master[11:]), desc='categories', leave=False):#currently picking up from index 11\n",
    "        i=i+11\n",
    "        # Loop thru playlists/subcategories here\n",
    "        cat_playlists = spotify.category_playlists(cat[0],limit=10)\n",
    "        cat_playlist_total = min(10, cat_playlists.total)\n",
    "        #print(f'Accessing {cat_playlist_total} playlists')\n",
    "        for p in tqdm(cat_playlists.items, total=cat_playlist_total, desc='playlists', leave=False):\n",
    "            # Loop thru and collect tracks\n",
    "            cat_playlist_tracks_pg = spotify.playlist_items(p.id) #could return \"as_tracks\"\n",
    "            track_total = cat_playlist_tracks_pg.total\n",
    "            cat_playlist_track_ids = [track.track.id if track.track!=None else None for track in spotify.all_items(cat_playlist_tracks_pg)]\n",
    "            \n",
    "            #Remove None's from ids list\n",
    "            try:\n",
    "                while cat_playlist_track_ids.index(None):\n",
    "                    cat_playlist_track_ids.pop(cat_playlist_track_ids.index(None))\n",
    "            except:\n",
    "                pass\n",
    "            \n",
    "            cat_playlist_tracks = spotify_ch.tracks(cat_playlist_track_ids)\n",
    "            cat_playlist_tracks_feat = spotify_ch.tracks_audio_features(cat_playlist_track_ids)\n",
    "            #cat_playlist_tracks.__dir__()\n",
    "            #cat_playlist_tracks.__sizeof__() # this returns 48 instead of 300, not sure why\n",
    "            #print(f'   Collecting {track_total} songs in playlist')\n",
    "            for j,track in enumerate(cat_playlist_tracks): # iterating like this reliably counts all 300\n",
    "                request_count+=1\n",
    "                if request_count%5==0:\n",
    "                    time.sleep(np.random.uniform(sleep_min, sleep_max))\n",
    "#                 if track.track == None:\n",
    "#                     continue\n",
    "                features_data = [cat_playlist_tracks_feat[j].__dict__[fcol] for fcol in feature_cols]\n",
    "                training_songs = training_songs.append(dict(zip(df_colnames,[i]+basic_track_data(track)+features_data)), ignore_index=True)\n"
   ]
  },
  {
   "cell_type": "code",
   "execution_count": 16,
   "metadata": {},
   "outputs": [
    {
     "name": "stdout",
     "output_type": "stream",
     "text": [
      "11 ['gaming', 'Gaming']\n",
      "12 ['focus', 'Focus']\n",
      "13 ['edm_dance', 'Dance/Electronic']\n",
      "14 ['chill', 'Chill']\n",
      "15 ['at_home', 'At Home']\n",
      "16 ['indie_alt', 'Indie']\n",
      "17 ['inspirational', 'Christian']\n",
      "18 ['decades', 'Decades']\n",
      "19 ['alternative', 'Alternative']\n",
      "20 ['wellness', 'Wellness']\n",
      "21 ['pride', 'Pride']\n",
      "22 ['party', 'Party']\n",
      "23 ['sleep', 'Sleep']\n",
      "24 ['classical', 'Classical']\n",
      "25 ['jazz', 'Jazz']\n",
      "26 ['roots', 'Folk & Acoustic']\n",
      "27 ['soul', 'Soul']\n",
      "28 ['dinner', 'Cooking & Dining']\n",
      "29 ['romance', 'Romance']\n",
      "30 ['kpop', 'K-Pop']\n",
      "31 ['punk', 'Punk']\n",
      "32 ['regionalmexican', 'Regional Mexican']\n",
      "33 ['sessions', 'Spotify Singles']\n",
      "34 ['popculture', 'Pop culture']\n",
      "35 ['arab', 'Arab']\n",
      "36 ['desi', 'Desi']\n",
      "37 ['anime', 'Anime']\n",
      "38 ['thirdparty', 'Tastemakers']\n",
      "39 ['afro', 'Afro']\n",
      "40 ['comedy_v2_podcast', 'Comedy']\n",
      "41 ['metal', 'Metal']\n",
      "42 ['reggae', 'Reggae']\n",
      "43 ['blues', 'Blues']\n",
      "44 ['funk', 'Funk']\n",
      "45 ['student', 'Student']\n",
      "46 ['travel', 'Commute']\n",
      "47 ['family', 'Kids & Family']\n"
     ]
    }
   ],
   "source": [
    "training_songs.shape\n",
    "training_songs['cat_idx'].max()\n",
    "# for i,cat in enumerate(all_cats_master[11:]):\n",
    "#     print(i+11,cat)"
   ]
  },
  {
   "cell_type": "code",
   "execution_count": 196,
   "metadata": {},
   "outputs": [],
   "source": [
    "#ts_backup = training_songs #---uncomment to store current version\n",
    "#training_songs = ts_backup #---uncomment to reset DF to last backup\n",
    "# for i in range(training_songs['cat_idx'].max()+2):\n",
    "#     print(i,(training_songs['cat_idx']==i).sum())\n",
    "i"
   ]
  },
  {
   "cell_type": "code",
   "execution_count": 1,
   "metadata": {},
   "outputs": [
    {
     "ename": "NameError",
     "evalue": "name 'ids' is not defined",
     "output_type": "error",
     "traceback": [
      "\u001b[1;31m---------------------------------------------------------------------------\u001b[0m",
      "\u001b[1;31mNameError\u001b[0m                                 Traceback (most recent call last)",
      "\u001b[1;32m<ipython-input-1-e2803b3b5764>\u001b[0m in \u001b[0;36m<module>\u001b[1;34m\u001b[0m\n\u001b[1;32m----> 1\u001b[1;33m \u001b[0mids\u001b[0m\u001b[1;33m\u001b[0m\u001b[1;33m\u001b[0m\u001b[0m\n\u001b[0m",
      "\u001b[1;31mNameError\u001b[0m: name 'ids' is not defined"
     ]
    }
   ],
   "source": []
  },
  {
   "cell_type": "code",
   "execution_count": 109,
   "metadata": {},
   "outputs": [],
   "source": [
    "training_songs.to_csv('training_data.csv')"
   ]
  },
  {
   "cell_type": "markdown",
   "metadata": {},
   "source": [
    "# New New activity: make weird searches"
   ]
  },
  {
   "cell_type": "code",
   "execution_count": 19,
   "metadata": {},
   "outputs": [
    {
     "ename": "BadRequest",
     "evalue": "Error in https://api.spotify.com/v1/search?q=popularity%3A54&type=t%2Cr%2Ca%2Cc%2Ck&limit=20&offset=0:\n400: Bad search type field t\n",
     "output_type": "error",
     "traceback": [
      "\u001b[1;31m---------------------------------------------------------------------------\u001b[0m",
      "\u001b[1;31mBadRequest\u001b[0m                                Traceback (most recent call last)",
      "\u001b[1;32m<ipython-input-19-a97cc08a2dd9>\u001b[0m in \u001b[0;36m<module>\u001b[1;34m\u001b[0m\n\u001b[1;32m----> 1\u001b[1;33m \u001b[0mspotify\u001b[0m\u001b[1;33m.\u001b[0m\u001b[0msearch\u001b[0m\u001b[1;33m(\u001b[0m\u001b[1;34m'popularity:54'\u001b[0m\u001b[1;33m,\u001b[0m\u001b[0mtypes\u001b[0m\u001b[1;33m=\u001b[0m\u001b[1;34m'track'\u001b[0m\u001b[1;33m)\u001b[0m\u001b[1;33m\u001b[0m\u001b[1;33m\u001b[0m\u001b[0m\n\u001b[0m",
      "\u001b[1;32mc:\\users\\owner\\appdata\\local\\programs\\python\\python38-32\\lib\\site-packages\\tekore\\_client\\decor\\__init__.py\u001b[0m in \u001b[0;36mwrapper\u001b[1;34m(self, *args, **kwargs)\u001b[0m\n\u001b[0;32m     39\u001b[0m \u001b[1;33m\u001b[0m\u001b[0m\n\u001b[0;32m     40\u001b[0m             \u001b[0mresponse\u001b[0m \u001b[1;33m=\u001b[0m \u001b[0mself\u001b[0m\u001b[1;33m.\u001b[0m\u001b[0m_send\u001b[0m\u001b[1;33m(\u001b[0m\u001b[0mrequest\u001b[0m\u001b[1;33m)\u001b[0m\u001b[1;33m\u001b[0m\u001b[1;33m\u001b[0m\u001b[0m\n\u001b[1;32m---> 41\u001b[1;33m             \u001b[0mhandle_errors\u001b[0m\u001b[1;33m(\u001b[0m\u001b[0mrequest\u001b[0m\u001b[1;33m,\u001b[0m \u001b[0mresponse\u001b[0m\u001b[1;33m)\u001b[0m\u001b[1;33m\u001b[0m\u001b[1;33m\u001b[0m\u001b[0m\n\u001b[0m\u001b[0;32m     42\u001b[0m             \u001b[0mcontent\u001b[0m \u001b[1;33m=\u001b[0m \u001b[0mparse_json\u001b[0m\u001b[1;33m(\u001b[0m\u001b[0mresponse\u001b[0m\u001b[1;33m)\u001b[0m\u001b[1;33m\u001b[0m\u001b[1;33m\u001b[0m\u001b[0m\n\u001b[0;32m     43\u001b[0m             \u001b[1;32mreturn\u001b[0m \u001b[0mpost_func\u001b[0m\u001b[1;33m(\u001b[0m\u001b[0mcontent\u001b[0m\u001b[1;33m)\u001b[0m\u001b[1;33m\u001b[0m\u001b[1;33m\u001b[0m\u001b[0m\n",
      "\u001b[1;32mc:\\users\\owner\\appdata\\local\\programs\\python\\python38-32\\lib\\site-packages\\tekore\\_client\\decor\\handle.py\u001b[0m in \u001b[0;36mhandle_errors\u001b[1;34m(request, response)\u001b[0m\n\u001b[0;32m     41\u001b[0m         )\n\u001b[0;32m     42\u001b[0m         \u001b[0merror_cls\u001b[0m \u001b[1;33m=\u001b[0m \u001b[0mget_error\u001b[0m\u001b[1;33m(\u001b[0m\u001b[0mresponse\u001b[0m\u001b[1;33m.\u001b[0m\u001b[0mstatus_code\u001b[0m\u001b[1;33m)\u001b[0m\u001b[1;33m\u001b[0m\u001b[1;33m\u001b[0m\u001b[0m\n\u001b[1;32m---> 43\u001b[1;33m         \u001b[1;32mraise\u001b[0m \u001b[0merror_cls\u001b[0m\u001b[1;33m(\u001b[0m\u001b[0merror_str\u001b[0m\u001b[1;33m,\u001b[0m \u001b[0mrequest\u001b[0m\u001b[1;33m=\u001b[0m\u001b[0mrequest\u001b[0m\u001b[1;33m,\u001b[0m \u001b[0mresponse\u001b[0m\u001b[1;33m=\u001b[0m\u001b[0mresponse\u001b[0m\u001b[1;33m)\u001b[0m\u001b[1;33m\u001b[0m\u001b[1;33m\u001b[0m\u001b[0m\n\u001b[0m",
      "\u001b[1;31mBadRequest\u001b[0m: Error in https://api.spotify.com/v1/search?q=popularity%3A54&type=t%2Cr%2Ca%2Cc%2Ck&limit=20&offset=0:\n400: Bad search type field t\n"
     ]
    }
   ],
   "source": [
    "spotify.search('popularity:54',types='track')"
   ]
  },
  {
   "cell_type": "code",
   "execution_count": 20,
   "metadata": {},
   "outputs": [
    {
     "name": "stdout",
     "output_type": "stream",
     "text": [
      "^--- id ,  2dh6Pnl5egc1FrQS6EsW4n ---^\n",
      "^--- href ,  https://api.spotify.com/v1/tracks/2dh6Pnl5egc1FrQS6EsW4n ---^\n",
      "(FullTrackPaging with fields:\n",
      "  href = 'https://api.spotify.com/v1/search?query=type%3Atrack&type=tra...'\n",
      "  items = [20 x FullTrack(album, artists, available_markets, ...)]\n",
      "  limit = 20\n",
      "  next = 'https://api.spotify.com/v1/search?query=type%3Atrack&type=tra...'\n",
      "  offset = 0\n",
      "  previous = None\n",
      "  total = 283,)\n",
      "^--- type ,  track ---^\n",
      "^--- uri ,  spotify:track:2dh6Pnl5egc1FrQS6EsW4n ---^\n",
      "^--- artists ,  ModelList with items: [\n",
      "  SimpleArtist(external_urls, href, id, name, type, uri)\n",
      "  SimpleArtist(external_urls, href, id, name, type, uri)\n",
      "] ---^\n",
      "(FullTrackPaging with fields:\n",
      "  href = 'https://api.spotify.com/v1/search?query=disc_number%3A1&type=...'\n",
      "  items = [20 x FullTrack(album, artists, available_markets, ...)]\n",
      "  limit = 20\n",
      "  next = 'https://api.spotify.com/v1/search?query=disc_number%3A1&type=...'\n",
      "  offset = 0\n",
      "  previous = None\n",
      "  total = 99,)\n",
      "^--- disc_number ,  1 ---^\n",
      "^--- duration_ms ,  182400 ---^\n",
      "(FullTrackPaging with fields:\n",
      "  href = 'https://api.spotify.com/v1/search?query=explicit%3AFalse&type...'\n",
      "  items = [9 x FullTrack(album, artists, available_markets, ...)]\n",
      "  limit = 20\n",
      "  next = None\n",
      "  offset = 0\n",
      "  previous = None\n",
      "  total = 9,)\n",
      "^--- explicit ,  False ---^\n",
      "^--- external_urls ,  {'spotify': 'https://open.spotify.com/track/2dh6Pnl5egc1FrQS6EsW4n'} ---^\n",
      "^--- name ,  2AM (feat. Carla Monroe) ---^\n",
      "^--- preview_url ,  https://p.scdn.co/mp3-preview/fd4257f22530a43d582131e83c194090b9734986?cid=340bdfadbf1b48d684111081b0be204d ---^\n",
      "(FullTrackPaging with fields:\n",
      "  href = 'https://api.spotify.com/v1/search?query=track_number%3A1&type...'\n",
      "  items = [20 x FullTrack(album, artists, available_markets, ...)]\n",
      "  limit = 20\n",
      "  next = 'https://api.spotify.com/v1/search?query=track_number%3A1&type...'\n",
      "  offset = 0\n",
      "  previous = None\n",
      "  total = 111,)\n",
      "^--- track_number ,  1 ---^\n",
      "(FullTrackPaging with fields:\n",
      "  href = 'https://api.spotify.com/v1/search?query=is_local%3AFalse&type...'\n",
      "  items = [1 x FullTrack(album, artists, available_markets, ...)]\n",
      "  limit = 20\n",
      "  next = None\n",
      "  offset = 0\n",
      "  previous = None\n",
      "  total = 1,)\n",
      "^--- is_local ,  False ---^\n",
      "^--- album ,  SimpleAlbum with fields:\n",
      "  album_group = None\n",
      "  album_type = <AlbumType.single: 'single'>\n",
      "  artists = [2 x SimpleArtist(external_urls, href, id, name, type, uri)]\n",
      "  available_markets = [90 x str]\n",
      "  external_urls = {'spotify'}\n",
      "  href = 'https://api.spotify.com/v1/albums/4CAvGuvYg9frLJFbPPHLmB'\n",
      "  id = '4CAvGuvYg9frLJFbPPHLmB'\n",
      "  images = [3 x Image(height, url, width)]\n",
      "  is_playable = None\n",
      "  name = '2AM (feat. Carla Monroe)'\n",
      "  release_date = '2020-07-24'\n",
      "  release_date_precision = <ReleaseDatePrecision.day: 'day'>\n",
      "  total_tracks = 1\n",
      "  type = 'album'\n",
      "  uri = 'spotify:album:4CAvGuvYg9frLJFbPPHLmB' ---^\n",
      "^--- external_ids ,  {'isrc': 'GBARL2000691'} ---^\n",
      "^--- popularity ,  54 ---^\n",
      "^--- available_markets ,  ModelList with items: [\n",
      "  'AD'\n",
      "  'AE'\n",
      "  'AL'\n",
      "  'AR'\n",
      "  'AT'\n",
      "  'AU'\n",
      "  'BA'\n",
      "  'BE'\n",
      "  'BG'\n",
      "  'BH'\n",
      "  'BO'\n",
      "  'BR'\n",
      "  'BY'\n",
      "  'CH'\n",
      "  'CL'\n",
      "  'CO'\n",
      "  'CR'\n",
      "  'CY'\n",
      "  'CZ'\n",
      "  'DE'\n",
      "  'DK'\n",
      "  'DO'\n",
      "  'DZ'\n",
      "  'EC'\n",
      "  'EE'\n",
      "  'EG'\n",
      "  'ES'\n",
      "  'FI'\n",
      "  'FR'\n",
      "  'GB'\n",
      "  'GR'\n",
      "  'GT'\n",
      "  'HK'\n",
      "  'HN'\n",
      "  'HR'\n",
      "  'HU'\n",
      "  'ID'\n",
      "  'IE'\n",
      "  'IL'\n",
      "  'IN'\n",
      "  'IS'\n",
      "  'IT'\n",
      "  'JO'\n",
      "  'JP'\n",
      "  'KW'\n",
      "  'KZ'\n",
      "  'LB'\n",
      "  'LI'\n",
      "  'LT'\n",
      "  'LU'\n",
      "  'LV'\n",
      "  'MA'\n",
      "  'MC'\n",
      "  'MD'\n",
      "  'ME'\n",
      "  'MK'\n",
      "  'MT'\n",
      "  'MX'\n",
      "  'MY'\n",
      "  'NI'\n",
      "  'NL'\n",
      "  'NO'\n",
      "  'NZ'\n",
      "  'OM'\n",
      "  'PA'\n",
      "  'PE'\n",
      "  'PH'\n",
      "  'PL'\n",
      "  'PS'\n",
      "  'PT'\n",
      "  'PY'\n",
      "  'QA'\n",
      "  'RO'\n",
      "  'RS'\n",
      "  'RU'\n",
      "  'SA'\n",
      "  'SE'\n",
      "  'SG'\n",
      "  'SI'\n",
      "  'SK'\n",
      "  'SV'\n",
      "  'TH'\n",
      "  'TN'\n",
      "  'TR'\n",
      "  'TW'\n",
      "  'UA'\n",
      "  'UY'\n",
      "  'VN'\n",
      "  'XK'\n",
      "  'ZA'\n",
      "] ---^\n",
      "^--- linked_from ,  None ---^\n",
      "^--- is_playable ,  None ---^\n",
      "^--- restrictions ,  None ---^\n"
     ]
    }
   ],
   "source": [
    "same_as_song1 = spotify.track('2dh6Pnl5egc1FrQS6EsW4n')\n",
    "# this is a cool thing that I don't actually need: track_keys = [*same_as_song1.__dict__.keys()]\n",
    "for key, value in same_as_song1.__dict__.items():\n",
    "    try:\n",
    "        result = spotify.search(f'{key}:{value}',types=('track',),limit=20)\n",
    "        if result[0].total>0: print(result)\n",
    "    except:\n",
    "        pass\n",
    "    else:\n",
    "        print('^---',key,', ',value,'---^')"
   ]
  },
  {
   "cell_type": "markdown",
   "metadata": {},
   "source": [
    "Does searching for multiple artists the goofy way actually return results?"
   ]
  },
  {
   "cell_type": "code",
   "execution_count": 27,
   "metadata": {},
   "outputs": [
    {
     "ename": "BadRequest",
     "evalue": "Error in https://api.spotify.com/v1/search?q=genre%3A%22rock%22&type=tracks&limit=20&offset=0:\n400: Bad search type field tracks\n",
     "output_type": "error",
     "traceback": [
      "\u001b[1;31m---------------------------------------------------------------------------\u001b[0m",
      "\u001b[1;31mBadRequest\u001b[0m                                Traceback (most recent call last)",
      "\u001b[1;32m<ipython-input-27-09ae46c01726>\u001b[0m in \u001b[0;36m<module>\u001b[1;34m\u001b[0m\n\u001b[1;32m----> 1\u001b[1;33m \u001b[0mspotify\u001b[0m\u001b[1;33m.\u001b[0m\u001b[0msearch\u001b[0m\u001b[1;33m(\u001b[0m\u001b[1;34m'genre:\"rock\"'\u001b[0m\u001b[1;33m,\u001b[0m \u001b[0mtypes\u001b[0m\u001b[1;33m=\u001b[0m\u001b[1;33m(\u001b[0m\u001b[1;34m'tracks'\u001b[0m\u001b[1;33m,\u001b[0m\u001b[1;33m)\u001b[0m\u001b[1;33m,\u001b[0m \u001b[0mlimit\u001b[0m\u001b[1;33m=\u001b[0m\u001b[1;36m20\u001b[0m\u001b[1;33m)\u001b[0m\u001b[1;33m\u001b[0m\u001b[1;33m\u001b[0m\u001b[0m\n\u001b[0m",
      "\u001b[1;32mc:\\users\\owner\\appdata\\local\\programs\\python\\python38-32\\lib\\site-packages\\tekore\\_client\\decor\\__init__.py\u001b[0m in \u001b[0;36mwrapper\u001b[1;34m(self, *args, **kwargs)\u001b[0m\n\u001b[0;32m     39\u001b[0m \u001b[1;33m\u001b[0m\u001b[0m\n\u001b[0;32m     40\u001b[0m             \u001b[0mresponse\u001b[0m \u001b[1;33m=\u001b[0m \u001b[0mself\u001b[0m\u001b[1;33m.\u001b[0m\u001b[0m_send\u001b[0m\u001b[1;33m(\u001b[0m\u001b[0mrequest\u001b[0m\u001b[1;33m)\u001b[0m\u001b[1;33m\u001b[0m\u001b[1;33m\u001b[0m\u001b[0m\n\u001b[1;32m---> 41\u001b[1;33m             \u001b[0mhandle_errors\u001b[0m\u001b[1;33m(\u001b[0m\u001b[0mrequest\u001b[0m\u001b[1;33m,\u001b[0m \u001b[0mresponse\u001b[0m\u001b[1;33m)\u001b[0m\u001b[1;33m\u001b[0m\u001b[1;33m\u001b[0m\u001b[0m\n\u001b[0m\u001b[0;32m     42\u001b[0m             \u001b[0mcontent\u001b[0m \u001b[1;33m=\u001b[0m \u001b[0mparse_json\u001b[0m\u001b[1;33m(\u001b[0m\u001b[0mresponse\u001b[0m\u001b[1;33m)\u001b[0m\u001b[1;33m\u001b[0m\u001b[1;33m\u001b[0m\u001b[0m\n\u001b[0;32m     43\u001b[0m             \u001b[1;32mreturn\u001b[0m \u001b[0mpost_func\u001b[0m\u001b[1;33m(\u001b[0m\u001b[0mcontent\u001b[0m\u001b[1;33m)\u001b[0m\u001b[1;33m\u001b[0m\u001b[1;33m\u001b[0m\u001b[0m\n",
      "\u001b[1;32mc:\\users\\owner\\appdata\\local\\programs\\python\\python38-32\\lib\\site-packages\\tekore\\_client\\decor\\handle.py\u001b[0m in \u001b[0;36mhandle_errors\u001b[1;34m(request, response)\u001b[0m\n\u001b[0;32m     41\u001b[0m         )\n\u001b[0;32m     42\u001b[0m         \u001b[0merror_cls\u001b[0m \u001b[1;33m=\u001b[0m \u001b[0mget_error\u001b[0m\u001b[1;33m(\u001b[0m\u001b[0mresponse\u001b[0m\u001b[1;33m.\u001b[0m\u001b[0mstatus_code\u001b[0m\u001b[1;33m)\u001b[0m\u001b[1;33m\u001b[0m\u001b[1;33m\u001b[0m\u001b[0m\n\u001b[1;32m---> 43\u001b[1;33m         \u001b[1;32mraise\u001b[0m \u001b[0merror_cls\u001b[0m\u001b[1;33m(\u001b[0m\u001b[0merror_str\u001b[0m\u001b[1;33m,\u001b[0m \u001b[0mrequest\u001b[0m\u001b[1;33m=\u001b[0m\u001b[0mrequest\u001b[0m\u001b[1;33m,\u001b[0m \u001b[0mresponse\u001b[0m\u001b[1;33m=\u001b[0m\u001b[0mresponse\u001b[0m\u001b[1;33m)\u001b[0m\u001b[1;33m\u001b[0m\u001b[1;33m\u001b[0m\u001b[0m\n\u001b[0m",
      "\u001b[1;31mBadRequest\u001b[0m: Error in https://api.spotify.com/v1/search?q=genre%3A%22rock%22&type=tracks&limit=20&offset=0:\n400: Bad search type field tracks\n"
     ]
    }
   ],
   "source": [
    "spotify.search('genre:\"rock\"', types=('tracks',), limit=20)"
   ]
  },
  {
   "cell_type": "code",
   "execution_count": 107,
   "metadata": {},
   "outputs": [
    {
     "name": "stdout",
     "output_type": "stream",
     "text": [
      "I'm Throwed (feat. Jermaine Dupri) by Paul Wall\n",
      "Popularity:  47 \n",
      "---\n",
      "Break Em' Off (feat. Lil' Keke) by Paul Wall\n",
      "Popularity:  44 \n",
      "---\n",
      "Bangin Screw by Paul Wall\n",
      "Popularity:  31 \n",
      "---\n",
      "Everybody Know Me (feat. Snoop Dogg) by Paul Wall\n",
      "Popularity:  24 \n",
      "---\n",
      "I Ain't Hard to Find by Paul Wall\n",
      "Popularity:  22 \n",
      "---\n",
      "Gimme That by Paul Wall\n",
      "Popularity:  23 \n",
      "---\n",
      "Get Your Paper Up (feat. Yung Redd) by Paul Wall\n",
      "Popularity:  19 \n",
      "---\n",
      "Tonight (feat. Jon B) by Paul Wall\n",
      "Popularity:  18 \n",
      "---\n",
      "Call Me What U Want (feat. Yung Redd & E Class) by Paul Wall\n",
      "Popularity:  18 \n",
      "---\n",
      "That Fire (feat. Trina) by Paul Wall\n",
      "Popularity:  19 \n",
      "---\n",
      "Break Em' Off (feat. Lil' Keke) - C&S Version by Paul Wall\n",
      "Popularity:  17 \n",
      "---\n",
      "How Gangstas Roll (feat. Crys Wall) by Paul Wall\n",
      "Popularity:  16 \n",
      "---\n",
      "On the Grind (feat. Freeway & Crys Wall) by Paul Wall\n",
      "Popularity:  15 \n",
      "---\n",
      "I'm Real, What Are You? (feat. Juelz Santana) by Paul Wall\n",
      "Popularity:  14 \n",
      "---\n",
      "Slidin' on That Oil (feat. Expensive Taste) by Paul Wall\n",
      "Popularity:  12 \n",
      "---\n",
      "I'm Throwed (feat. Jermaine Dupri) - C&S Version by Paul Wall\n",
      "Popularity:  10 \n",
      "---\n",
      "Tonight (feat. Jon B) - C&S Version by Paul Wall\n",
      "Popularity:  9 \n",
      "---\n",
      "Bangin Screw - C&S by Paul Wall\n",
      "Popularity:  7 \n",
      "---\n",
      "Gimme That - C&S by Paul Wall\n",
      "Popularity:  6 \n",
      "---\n",
      "Get Your Paper Up (feat. Yung Redd) - C&S Version by Paul Wall\n",
      "Popularity:  5 \n",
      "---\n"
     ]
    }
   ],
   "source": [
    "for hot_explicits in spotify.search('explicit:True')[0].items:\n",
    "    name = hot_explicits.name\n",
    "    artist1 = hot_explicits.artists[0].name\n",
    "    pop = hot_explicits.popularity\n",
    "    #year = hot_explicits.year      can't do year?\n",
    "    print(name+' by '+artist1)\n",
    "    print('Popularity: ',pop,'\\n---')\n",
    "    #print('Released ',year)"
   ]
  },
  {
   "cell_type": "code",
   "execution_count": 87,
   "metadata": {},
   "outputs": [
    {
     "name": "stdout",
     "output_type": "stream",
     "text": [
      "Valse mélancolique in F-Sharp Minor, Op. 332 \"Le regret\" (Previously attributed to Chopin) by Charles Mayer\n",
      "Popularity:  5 \n",
      "---\n",
      "Holz, Holz geigt die Quartette so (Attrib. Beethoven as WoO 204) by Karl Holz\n",
      "Popularity:  5 \n",
      "---\n",
      "Soft pink noise putting down baby by Colic Remedies Pink Noise\n",
      "Popularity:  5 \n",
      "---\n",
      "ASMR deep sleep by Easy Falling Asleep ASMR\n",
      "Popularity:  5 \n",
      "---\n",
      "Calm down fussy baby by Colic Remedies Pink Noise\n",
      "Popularity:  5 \n",
      "---\n",
      "Better night shusher by Pink Noise for Better Night\n",
      "Popularity:  5 \n",
      "---\n",
      "Healing ASMR sounds by Easy Falling Asleep ASMR\n",
      "Popularity:  5 \n",
      "---\n",
      "Brown noise airplane sound by Brown Noise Enjoyable Sleep\n",
      "Popularity:  5 \n",
      "---\n",
      "Baby stops crying by Brown Noise Enjoyable Sleep\n",
      "Popularity:  5 \n",
      "---\n",
      "Fall asleep easily by Easy Falling Asleep ASMR\n",
      "Popularity:  5 \n",
      "---\n",
      "White noise sleep aid all night by Soothing Airplane Sound All Night\n",
      "Popularity:  5 \n",
      "---\n",
      "Soft colic remedies by Colic Remedies Pink Noise\n",
      "Popularity:  5 \n",
      "---\n",
      "Airplane sound chill out by Soothing Airplane Sound All Night\n",
      "Popularity:  5 \n",
      "---\n",
      "Comfy and easy night by Brown Noise Enjoyable Sleep\n",
      "Popularity:  5 \n",
      "---\n",
      "Calm down fussy infant by Brown Noise Enjoyable Sleep\n",
      "Popularity:  5 \n",
      "---\n",
      "Anxiety relief looped sounds by Easy Falling Asleep ASMR\n",
      "Popularity:  5 \n",
      "---\n",
      "Healing ASMR sounds by Easy Falling Asleep ASMR\n",
      "Popularity:  5 \n",
      "---\n",
      "Comfy and easy night by Brown Noise Enjoyable Sleep\n",
      "Popularity:  5 \n",
      "---\n",
      "Baby goes to sleep by Pink Noise for Better Night\n",
      "Popularity:  5 \n",
      "---\n",
      "Pink noise for sleepless night by Pink Noise for Better Night\n",
      "Popularity:  5 \n",
      "---\n"
     ]
    }
   ],
   "source": [
    "for hipster in spotify.search('tag:hipster')[0].items:\n",
    "    name = hipster.name\n",
    "    artist1 = hipster.artists[0].name\n",
    "    print(name+' by '+artist1)\n",
    "    print('Popularity: ',pop,'\\n---')"
   ]
  },
  {
   "cell_type": "markdown",
   "metadata": {},
   "source": [
    "# I need to chunk"
   ]
  },
  {
   "cell_type": "code",
   "execution_count": 136,
   "metadata": {},
   "outputs": [],
   "source": [
    "spotify_ch = tk.Spotify(app_token,chunked_on=True)\n",
    "#spotify_ch.chunked_on = False\n",
    "\n",
    "with spotify_ch.chunked():\n",
    "    tracks_chunk = spotify_ch.tracks(list(training_songs['id'][:100]))\n",
    "    tracks_chunk_feat = spotify_ch.tracks_audio_features(list(training_songs['id'][:100]))\n",
    "#spotify.tracks(list(training_songs['id'][:100]))"
   ]
  },
  {
   "cell_type": "code",
   "execution_count": 148,
   "metadata": {},
   "outputs": [
    {
     "ename": "AttributeError",
     "evalue": "'FullTrack' object has no attribute 'track'",
     "output_type": "error",
     "traceback": [
      "\u001b[1;31m---------------------------------------------------------------------------\u001b[0m",
      "\u001b[1;31mAttributeError\u001b[0m                            Traceback (most recent call last)",
      "\u001b[1;32m<ipython-input-148-d2be1ce1ec21>\u001b[0m in \u001b[0;36m<module>\u001b[1;34m\u001b[0m\n\u001b[0;32m      2\u001b[0m \u001b[1;31m# [track.track.id for track in spotify.all_items(spotify.playlist_items(p.id))]\u001b[0m\u001b[1;33m\u001b[0m\u001b[1;33m\u001b[0m\u001b[1;33m\u001b[0m\u001b[0m\n\u001b[0;32m      3\u001b[0m \u001b[1;32mfor\u001b[0m \u001b[0mtrack\u001b[0m \u001b[1;32min\u001b[0m \u001b[0mtracks_chunk\u001b[0m\u001b[1;33m:\u001b[0m\u001b[1;33m\u001b[0m\u001b[1;33m\u001b[0m\u001b[0m\n\u001b[1;32m----> 4\u001b[1;33m     \u001b[0mbasic_track_data\u001b[0m\u001b[1;33m(\u001b[0m\u001b[0mtrack\u001b[0m\u001b[1;33m)\u001b[0m\u001b[1;33m\u001b[0m\u001b[1;33m\u001b[0m\u001b[0m\n\u001b[0m",
      "\u001b[1;32m<ipython-input-69-7eee0264638c>\u001b[0m in \u001b[0;36mbasic_track_data\u001b[1;34m(full_playlist_track)\u001b[0m\n\u001b[0;32m     10\u001b[0m     \u001b[1;31m# expand album field, retrieve album data labeled by alb_expand_cols\u001b[0m\u001b[1;33m\u001b[0m\u001b[1;33m\u001b[0m\u001b[1;33m\u001b[0m\u001b[0m\n\u001b[0;32m     11\u001b[0m     \u001b[0malb_data\u001b[0m \u001b[1;33m=\u001b[0m \u001b[1;33m[\u001b[0m\u001b[1;33m]\u001b[0m\u001b[1;33m\u001b[0m\u001b[1;33m\u001b[0m\u001b[0m\n\u001b[1;32m---> 12\u001b[1;33m     \u001b[0malb_data\u001b[0m\u001b[1;33m.\u001b[0m\u001b[0mappend\u001b[0m\u001b[1;33m(\u001b[0m\u001b[0mfull_playlist_track\u001b[0m\u001b[1;33m.\u001b[0m\u001b[0mtrack\u001b[0m\u001b[1;33m.\u001b[0m\u001b[0malbum\u001b[0m\u001b[1;33m.\u001b[0m\u001b[0martists\u001b[0m\u001b[1;33m[\u001b[0m\u001b[1;36m0\u001b[0m\u001b[1;33m]\u001b[0m\u001b[1;33m.\u001b[0m\u001b[0mname\u001b[0m\u001b[1;33m)\u001b[0m\u001b[1;33m\u001b[0m\u001b[1;33m\u001b[0m\u001b[0m\n\u001b[0m\u001b[0;32m     13\u001b[0m     \u001b[0malb_data\u001b[0m\u001b[1;33m.\u001b[0m\u001b[0mappend\u001b[0m\u001b[1;33m(\u001b[0m\u001b[0mfull_playlist_track\u001b[0m\u001b[1;33m.\u001b[0m\u001b[0mtrack\u001b[0m\u001b[1;33m.\u001b[0m\u001b[0malbum\u001b[0m\u001b[1;33m.\u001b[0m\u001b[0mname\u001b[0m\u001b[1;33m)\u001b[0m\u001b[1;33m\u001b[0m\u001b[1;33m\u001b[0m\u001b[0m\n\u001b[0;32m     14\u001b[0m     \u001b[0malb_data\u001b[0m\u001b[1;33m.\u001b[0m\u001b[0mappend\u001b[0m\u001b[1;33m(\u001b[0m\u001b[0mfull_playlist_track\u001b[0m\u001b[1;33m.\u001b[0m\u001b[0mtrack\u001b[0m\u001b[1;33m.\u001b[0m\u001b[0malbum\u001b[0m\u001b[1;33m.\u001b[0m\u001b[0mrelease_date\u001b[0m\u001b[1;33m)\u001b[0m\u001b[1;33m\u001b[0m\u001b[1;33m\u001b[0m\u001b[0m\n",
      "\u001b[1;31mAttributeError\u001b[0m: 'FullTrack' object has no attribute 'track'"
     ]
    }
   ],
   "source": [
    "# cat_playlist_track_ids = [track.track.id for track in spotify.all_items(cat_playlist_tracks)]\n",
    "# [track.track.id for track in spotify.all_items(spotify.playlist_items(p.id))]\n",
    "for track in tracks_chunk:\n",
    "    basic_track_data(track)"
   ]
  }
 ],
 "metadata": {
  "kernelspec": {
   "display_name": "Python 3",
   "language": "python",
   "name": "python3"
  },
  "language_info": {
   "codemirror_mode": {
    "name": "ipython",
    "version": 3
   },
   "file_extension": ".py",
   "mimetype": "text/x-python",
   "name": "python",
   "nbconvert_exporter": "python",
   "pygments_lexer": "ipython3",
   "version": "3.8.3"
  }
 },
 "nbformat": 4,
 "nbformat_minor": 4
}
