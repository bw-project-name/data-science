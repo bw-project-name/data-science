{
  "nbformat": 4,
  "nbformat_minor": 0,
  "metadata": {
    "colab": {
      "name": "Spotify neural net.ipynb",
      "provenance": []
    },
    "kernelspec": {
      "name": "python3",
      "display_name": "Python 3"
    }
  },
  "cells": [
    {
      "cell_type": "code",
      "metadata": {
        "id": "4AO-QcyqVQ-E",
        "colab_type": "code",
        "colab": {}
      },
      "source": [
        "import pandas as pd \n",
        "import  numpy as np \n",
        "from tensorflow.keras.models import Model , Sequential\n",
        "from tensorflow.keras.layers import Dense , Input\n",
        "from sklearn import preprocessing\n",
        "from sklearn.model_selection import train_test_split"
      ],
      "execution_count": 53,
      "outputs": []
    },
    {
      "cell_type": "code",
      "metadata": {
        "id": "FxMTS5wzVz1C",
        "colab_type": "code",
        "colab": {}
      },
      "source": [
        "training_data = pd.read_csv('https://raw.githubusercontent.com/bwft-spotify-song-suggester-2/data-science/master/training_data.csv', index_col=0 )"
      ],
      "execution_count": 144,
      "outputs": []
    },
    {
      "cell_type": "code",
      "metadata": {
        "id": "vQH_YPLjZe67",
        "colab_type": "code",
        "colab": {}
      },
      "source": [
        "training_data['release_date'] = pd.to_datetime(training_data['release_date'],infer_datetime_format=True)"
      ],
      "execution_count": 145,
      "outputs": []
    },
    {
      "cell_type": "code",
      "metadata": {
        "id": "BsETrqS8dpGD",
        "colab_type": "code",
        "colab": {
          "base_uri": "https://localhost:8080/",
          "height": 34
        },
        "outputId": "1b65a42d-82f4-4ed2-bb1b-b1b3cefe0827"
      },
      "source": [
        "training_data.release_date.dtype"
      ],
      "execution_count": 101,
      "outputs": [
        {
          "output_type": "execute_result",
          "data": {
            "text/plain": [
              "dtype('<M8[ns]')"
            ]
          },
          "metadata": {
            "tags": []
          },
          "execution_count": 101
        }
      ]
    },
    {
      "cell_type": "code",
      "metadata": {
        "id": "dRRv-4Q2du3i",
        "colab_type": "code",
        "colab": {
          "base_uri": "https://localhost:8080/",
          "height": 221
        },
        "outputId": "94a8768d-396f-4c3e-d2f2-0bbce588aade"
      },
      "source": [
        "training_data['track_artist1']"
      ],
      "execution_count": 108,
      "outputs": [
        {
          "output_type": "execute_result",
          "data": {
            "text/plain": [
              "0               DaBaby\n",
              "1             Maroon 5\n",
              "2         Harry Styles\n",
              "3         Taylor Swift\n",
              "4            Jawsh 685\n",
              "             ...      \n",
              "4655      Rosie Carney\n",
              "4656         boy pablo\n",
              "4657    chloe moriondo\n",
              "4658      Ailbhe Reddy\n",
              "4659       Spacey Jane\n",
              "Name: track_artist1, Length: 4660, dtype: object"
            ]
          },
          "metadata": {
            "tags": []
          },
          "execution_count": 108
        }
      ]
    },
    {
      "cell_type": "code",
      "metadata": {
        "id": "Qu4sQAkZeILL",
        "colab_type": "code",
        "colab": {
          "base_uri": "https://localhost:8080/",
          "height": 476
        },
        "outputId": "204bae60-116b-45b4-eb36-7e670f282e9c"
      },
      "source": [
        "training_data.isnull().sum()"
      ],
      "execution_count": 109,
      "outputs": [
        {
          "output_type": "execute_result",
          "data": {
            "text/plain": [
              "cat_idx                 0\n",
              "album_lead_artist       0\n",
              "album_name              0\n",
              "release_date            0\n",
              "total_tracks            0\n",
              "track_artist1           0\n",
              "track_artist2        2931\n",
              "track_artist3        4160\n",
              "duration_ms             0\n",
              "explicit                0\n",
              "name                    0\n",
              "popularity              0\n",
              "track_number            0\n",
              "acousticness            0\n",
              "danceability            0\n",
              "duration_ms.1           0\n",
              "energy                  0\n",
              "instrumentalness        0\n",
              "key                     0\n",
              "liveness                0\n",
              "loudness                0\n",
              "mode                    0\n",
              "speechiness             0\n",
              "tempo                   0\n",
              "time_signature          0\n",
              "valence                 0\n",
              "dtype: int64"
            ]
          },
          "metadata": {
            "tags": []
          },
          "execution_count": 109
        }
      ]
    },
    {
      "cell_type": "code",
      "metadata": {
        "id": "g4Vr8k3DqUBi",
        "colab_type": "code",
        "colab": {}
      },
      "source": [
        "model_data = training_data"
      ],
      "execution_count": 110,
      "outputs": []
    },
    {
      "cell_type": "code",
      "metadata": {
        "id": "aIWSB1G9qn52",
        "colab_type": "code",
        "colab": {}
      },
      "source": [
        "model_data.columns"
      ],
      "execution_count": null,
      "outputs": []
    },
    {
      "cell_type": "code",
      "metadata": {
        "id": "qVcPlQxw6Xzi",
        "colab_type": "code",
        "colab": {}
      },
      "source": [
        "model_data.track_artist2.unique()"
      ],
      "execution_count": null,
      "outputs": []
    },
    {
      "cell_type": "code",
      "metadata": {
        "id": "_UIs8COtA6YY",
        "colab_type": "code",
        "colab": {}
      },
      "source": [
        "training_data = training_data.fillna(value='-') "
      ],
      "execution_count": 150,
      "outputs": []
    },
    {
      "cell_type": "code",
      "metadata": {
        "id": "tqm96BXN7Sd6",
        "colab_type": "code",
        "colab": {}
      },
      "source": [
        "all_artist = pd.concat([training_data['track_artist1'],training_data['track_artist2'],training_data['track_artist3']]).value_counts().index"
      ],
      "execution_count": 155,
      "outputs": []
    },
    {
      "cell_type": "code",
      "metadata": {
        "id": "hPP97eOu9k9D",
        "colab_type": "code",
        "colab": {
          "base_uri": "https://localhost:8080/",
          "height": 136
        },
        "outputId": "8fa8f9b2-7c16-486d-e317-3eed406c0e68"
      },
      "source": [
        "all_artist"
      ],
      "execution_count": 156,
      "outputs": [
        {
          "output_type": "execute_result",
          "data": {
            "text/plain": [
              "Index(['-', 'Lil Baby', 'DaBaby', 'Pop Smoke', 'Drake', 'Juice WRLD',\n",
              "       'Taylor Swift', 'Tory Lanez', 'Fivio Foreign', 'Gunna',\n",
              "       ...\n",
              "       'The Mysterious Visions', 'The Used', 'benny mayne', 'Tamas Veto',\n",
              "       'Patrice Rushen', 'Van Halen', 'Colby O'Donis', 'Bleached',\n",
              "       'Billy Idol', 'Rio Mendes'],\n",
              "      dtype='object', length=3202)"
            ]
          },
          "metadata": {
            "tags": []
          },
          "execution_count": 156
        }
      ]
    },
    {
      "cell_type": "code",
      "metadata": {
        "id": "zGCijwkxec1V",
        "colab_type": "code",
        "colab": {}
      },
      "source": [
        "le = preprocessing.LabelEncoder()\n",
        "le.fit(all_artist)\n",
        "model_data[['track_artist1']] = le.transform(training_data['track_artist1'])\n",
        "model_data[['track_artist2']] = le.transform(training_data['track_artist2'])\n",
        "model_data[['track_artist3']] = le.transform(training_data['track_artist3'])\n",
        "# le.clas"
      ],
      "execution_count": 157,
      "outputs": []
    },
    {
      "cell_type": "code",
      "metadata": {
        "id": "kd6akzmni1rr",
        "colab_type": "code",
        "colab": {
          "base_uri": "https://localhost:8080/",
          "height": 609
        },
        "outputId": "ff24bf11-ab0d-4438-cabc-9947ee26fc31"
      },
      "source": [
        "model_data"
      ],
      "execution_count": 158,
      "outputs": [
        {
          "output_type": "execute_result",
          "data": {
            "text/html": [
              "<div>\n",
              "<style scoped>\n",
              "    .dataframe tbody tr th:only-of-type {\n",
              "        vertical-align: middle;\n",
              "    }\n",
              "\n",
              "    .dataframe tbody tr th {\n",
              "        vertical-align: top;\n",
              "    }\n",
              "\n",
              "    .dataframe thead th {\n",
              "        text-align: right;\n",
              "    }\n",
              "</style>\n",
              "<table border=\"1\" class=\"dataframe\">\n",
              "  <thead>\n",
              "    <tr style=\"text-align: right;\">\n",
              "      <th></th>\n",
              "      <th>cat_idx</th>\n",
              "      <th>album_lead_artist</th>\n",
              "      <th>album_name</th>\n",
              "      <th>release_date</th>\n",
              "      <th>total_tracks</th>\n",
              "      <th>track_artist1</th>\n",
              "      <th>track_artist2</th>\n",
              "      <th>track_artist3</th>\n",
              "      <th>duration_ms</th>\n",
              "      <th>explicit</th>\n",
              "      <th>name</th>\n",
              "      <th>popularity</th>\n",
              "      <th>track_number</th>\n",
              "      <th>acousticness</th>\n",
              "      <th>danceability</th>\n",
              "      <th>duration_ms.1</th>\n",
              "      <th>energy</th>\n",
              "      <th>instrumentalness</th>\n",
              "      <th>key</th>\n",
              "      <th>liveness</th>\n",
              "      <th>loudness</th>\n",
              "      <th>mode</th>\n",
              "      <th>speechiness</th>\n",
              "      <th>tempo</th>\n",
              "      <th>time_signature</th>\n",
              "      <th>valence</th>\n",
              "    </tr>\n",
              "  </thead>\n",
              "  <tbody>\n",
              "    <tr>\n",
              "      <th>0</th>\n",
              "      <td>0</td>\n",
              "      <td>DaBaby</td>\n",
              "      <td>BLAME IT ON BABY</td>\n",
              "      <td>2020-04-17</td>\n",
              "      <td>13</td>\n",
              "      <td>659</td>\n",
              "      <td>2349</td>\n",
              "      <td>3</td>\n",
              "      <td>181733</td>\n",
              "      <td>True</td>\n",
              "      <td>ROCKSTAR (feat. Roddy Ricch)</td>\n",
              "      <td>100</td>\n",
              "      <td>7</td>\n",
              "      <td>0.2470</td>\n",
              "      <td>0.746</td>\n",
              "      <td>181733</td>\n",
              "      <td>0.690</td>\n",
              "      <td>0.000000</td>\n",
              "      <td>11</td>\n",
              "      <td>0.1010</td>\n",
              "      <td>-7.956</td>\n",
              "      <td>1</td>\n",
              "      <td>0.1640</td>\n",
              "      <td>89.977</td>\n",
              "      <td>4</td>\n",
              "      <td>0.4970</td>\n",
              "    </tr>\n",
              "    <tr>\n",
              "      <th>1</th>\n",
              "      <td>0</td>\n",
              "      <td>Maroon 5</td>\n",
              "      <td>Nobody's Love</td>\n",
              "      <td>2020-07-24</td>\n",
              "      <td>1</td>\n",
              "      <td>1826</td>\n",
              "      <td>3</td>\n",
              "      <td>3</td>\n",
              "      <td>211254</td>\n",
              "      <td>False</td>\n",
              "      <td>Nobody's Love</td>\n",
              "      <td>78</td>\n",
              "      <td>1</td>\n",
              "      <td>0.3100</td>\n",
              "      <td>0.486</td>\n",
              "      <td>211254</td>\n",
              "      <td>0.567</td>\n",
              "      <td>0.000000</td>\n",
              "      <td>1</td>\n",
              "      <td>0.0949</td>\n",
              "      <td>-6.456</td>\n",
              "      <td>1</td>\n",
              "      <td>0.0379</td>\n",
              "      <td>93.680</td>\n",
              "      <td>4</td>\n",
              "      <td>0.1540</td>\n",
              "    </tr>\n",
              "    <tr>\n",
              "      <th>2</th>\n",
              "      <td>0</td>\n",
              "      <td>Harry Styles</td>\n",
              "      <td>Fine Line</td>\n",
              "      <td>2019-12-13</td>\n",
              "      <td>12</td>\n",
              "      <td>1121</td>\n",
              "      <td>3</td>\n",
              "      <td>3</td>\n",
              "      <td>174000</td>\n",
              "      <td>False</td>\n",
              "      <td>Watermelon Sugar</td>\n",
              "      <td>95</td>\n",
              "      <td>2</td>\n",
              "      <td>0.1220</td>\n",
              "      <td>0.548</td>\n",
              "      <td>174000</td>\n",
              "      <td>0.816</td>\n",
              "      <td>0.000000</td>\n",
              "      <td>0</td>\n",
              "      <td>0.3350</td>\n",
              "      <td>-4.209</td>\n",
              "      <td>1</td>\n",
              "      <td>0.0465</td>\n",
              "      <td>95.390</td>\n",
              "      <td>4</td>\n",
              "      <td>0.5570</td>\n",
              "    </tr>\n",
              "    <tr>\n",
              "      <th>3</th>\n",
              "      <td>0</td>\n",
              "      <td>Taylor Swift</td>\n",
              "      <td>folklore</td>\n",
              "      <td>2020-07-24</td>\n",
              "      <td>16</td>\n",
              "      <td>2703</td>\n",
              "      <td>3</td>\n",
              "      <td>3</td>\n",
              "      <td>239560</td>\n",
              "      <td>False</td>\n",
              "      <td>cardigan</td>\n",
              "      <td>89</td>\n",
              "      <td>2</td>\n",
              "      <td>0.5370</td>\n",
              "      <td>0.613</td>\n",
              "      <td>239560</td>\n",
              "      <td>0.581</td>\n",
              "      <td>0.000345</td>\n",
              "      <td>0</td>\n",
              "      <td>0.2500</td>\n",
              "      <td>-8.588</td>\n",
              "      <td>0</td>\n",
              "      <td>0.0424</td>\n",
              "      <td>130.033</td>\n",
              "      <td>4</td>\n",
              "      <td>0.5510</td>\n",
              "    </tr>\n",
              "    <tr>\n",
              "      <th>4</th>\n",
              "      <td>0</td>\n",
              "      <td>Jawsh 685</td>\n",
              "      <td>Savage Love (Laxed - Siren Beat)</td>\n",
              "      <td>2020-06-09</td>\n",
              "      <td>1</td>\n",
              "      <td>1279</td>\n",
              "      <td>1277</td>\n",
              "      <td>3</td>\n",
              "      <td>171375</td>\n",
              "      <td>False</td>\n",
              "      <td>Savage Love (Laxed - Siren Beat)</td>\n",
              "      <td>87</td>\n",
              "      <td>1</td>\n",
              "      <td>0.2430</td>\n",
              "      <td>0.795</td>\n",
              "      <td>171375</td>\n",
              "      <td>0.480</td>\n",
              "      <td>0.000000</td>\n",
              "      <td>3</td>\n",
              "      <td>0.2710</td>\n",
              "      <td>-8.556</td>\n",
              "      <td>1</td>\n",
              "      <td>0.0688</td>\n",
              "      <td>149.919</td>\n",
              "      <td>4</td>\n",
              "      <td>0.7230</td>\n",
              "    </tr>\n",
              "    <tr>\n",
              "      <th>...</th>\n",
              "      <td>...</td>\n",
              "      <td>...</td>\n",
              "      <td>...</td>\n",
              "      <td>...</td>\n",
              "      <td>...</td>\n",
              "      <td>...</td>\n",
              "      <td>...</td>\n",
              "      <td>...</td>\n",
              "      <td>...</td>\n",
              "      <td>...</td>\n",
              "      <td>...</td>\n",
              "      <td>...</td>\n",
              "      <td>...</td>\n",
              "      <td>...</td>\n",
              "      <td>...</td>\n",
              "      <td>...</td>\n",
              "      <td>...</td>\n",
              "      <td>...</td>\n",
              "      <td>...</td>\n",
              "      <td>...</td>\n",
              "      <td>...</td>\n",
              "      <td>...</td>\n",
              "      <td>...</td>\n",
              "      <td>...</td>\n",
              "      <td>...</td>\n",
              "      <td>...</td>\n",
              "    </tr>\n",
              "    <tr>\n",
              "      <th>4655</th>\n",
              "      <td>2</td>\n",
              "      <td>Rosie Carney</td>\n",
              "      <td>when i look at you.</td>\n",
              "      <td>2020-03-13</td>\n",
              "      <td>1</td>\n",
              "      <td>2372</td>\n",
              "      <td>3</td>\n",
              "      <td>3</td>\n",
              "      <td>232800</td>\n",
              "      <td>False</td>\n",
              "      <td>when i look at you.</td>\n",
              "      <td>58</td>\n",
              "      <td>1</td>\n",
              "      <td>0.6960</td>\n",
              "      <td>0.545</td>\n",
              "      <td>232800</td>\n",
              "      <td>0.246</td>\n",
              "      <td>0.004630</td>\n",
              "      <td>9</td>\n",
              "      <td>0.1360</td>\n",
              "      <td>-11.650</td>\n",
              "      <td>1</td>\n",
              "      <td>0.0302</td>\n",
              "      <td>110.100</td>\n",
              "      <td>4</td>\n",
              "      <td>0.0986</td>\n",
              "    </tr>\n",
              "    <tr>\n",
              "      <th>4656</th>\n",
              "      <td>2</td>\n",
              "      <td>boy pablo</td>\n",
              "      <td>hey girl</td>\n",
              "      <td>2020-05-29</td>\n",
              "      <td>2</td>\n",
              "      <td>3159</td>\n",
              "      <td>3</td>\n",
              "      <td>3</td>\n",
              "      <td>187000</td>\n",
              "      <td>False</td>\n",
              "      <td>hey girl</td>\n",
              "      <td>68</td>\n",
              "      <td>1</td>\n",
              "      <td>0.0117</td>\n",
              "      <td>0.589</td>\n",
              "      <td>187000</td>\n",
              "      <td>0.436</td>\n",
              "      <td>0.069100</td>\n",
              "      <td>6</td>\n",
              "      <td>0.1150</td>\n",
              "      <td>-11.811</td>\n",
              "      <td>1</td>\n",
              "      <td>0.0380</td>\n",
              "      <td>99.924</td>\n",
              "      <td>4</td>\n",
              "      <td>0.9000</td>\n",
              "    </tr>\n",
              "    <tr>\n",
              "      <th>4657</th>\n",
              "      <td>2</td>\n",
              "      <td>chloe moriondo</td>\n",
              "      <td>Manta Rays</td>\n",
              "      <td>2020-06-26</td>\n",
              "      <td>1</td>\n",
              "      <td>3161</td>\n",
              "      <td>3</td>\n",
              "      <td>3</td>\n",
              "      <td>213120</td>\n",
              "      <td>False</td>\n",
              "      <td>Manta Rays</td>\n",
              "      <td>58</td>\n",
              "      <td>1</td>\n",
              "      <td>0.4210</td>\n",
              "      <td>0.490</td>\n",
              "      <td>213120</td>\n",
              "      <td>0.847</td>\n",
              "      <td>0.000000</td>\n",
              "      <td>4</td>\n",
              "      <td>0.0970</td>\n",
              "      <td>-3.852</td>\n",
              "      <td>1</td>\n",
              "      <td>0.0901</td>\n",
              "      <td>149.825</td>\n",
              "      <td>4</td>\n",
              "      <td>0.4880</td>\n",
              "    </tr>\n",
              "    <tr>\n",
              "      <th>4658</th>\n",
              "      <td>2</td>\n",
              "      <td>Ailbhe Reddy</td>\n",
              "      <td>Time Difference</td>\n",
              "      <td>2020-06-24</td>\n",
              "      <td>1</td>\n",
              "      <td>88</td>\n",
              "      <td>3</td>\n",
              "      <td>3</td>\n",
              "      <td>213757</td>\n",
              "      <td>False</td>\n",
              "      <td>Time Difference</td>\n",
              "      <td>41</td>\n",
              "      <td>1</td>\n",
              "      <td>0.3480</td>\n",
              "      <td>0.478</td>\n",
              "      <td>213757</td>\n",
              "      <td>0.473</td>\n",
              "      <td>0.000332</td>\n",
              "      <td>0</td>\n",
              "      <td>0.0970</td>\n",
              "      <td>-10.030</td>\n",
              "      <td>1</td>\n",
              "      <td>0.0331</td>\n",
              "      <td>151.789</td>\n",
              "      <td>4</td>\n",
              "      <td>0.1660</td>\n",
              "    </tr>\n",
              "    <tr>\n",
              "      <th>4659</th>\n",
              "      <td>2</td>\n",
              "      <td>Spacey Jane</td>\n",
              "      <td>Sunlight</td>\n",
              "      <td>2020-06-12</td>\n",
              "      <td>12</td>\n",
              "      <td>2595</td>\n",
              "      <td>3</td>\n",
              "      <td>3</td>\n",
              "      <td>268880</td>\n",
              "      <td>False</td>\n",
              "      <td>Booster Seat</td>\n",
              "      <td>57</td>\n",
              "      <td>6</td>\n",
              "      <td>0.0418</td>\n",
              "      <td>0.629</td>\n",
              "      <td>268880</td>\n",
              "      <td>0.551</td>\n",
              "      <td>0.000001</td>\n",
              "      <td>11</td>\n",
              "      <td>0.1080</td>\n",
              "      <td>-5.402</td>\n",
              "      <td>1</td>\n",
              "      <td>0.0263</td>\n",
              "      <td>111.961</td>\n",
              "      <td>4</td>\n",
              "      <td>0.6990</td>\n",
              "    </tr>\n",
              "  </tbody>\n",
              "</table>\n",
              "<p>4660 rows × 26 columns</p>\n",
              "</div>"
            ],
            "text/plain": [
              "      cat_idx album_lead_artist  ... time_signature valence\n",
              "0           0            DaBaby  ...              4  0.4970\n",
              "1           0          Maroon 5  ...              4  0.1540\n",
              "2           0      Harry Styles  ...              4  0.5570\n",
              "3           0      Taylor Swift  ...              4  0.5510\n",
              "4           0         Jawsh 685  ...              4  0.7230\n",
              "...       ...               ...  ...            ...     ...\n",
              "4655        2      Rosie Carney  ...              4  0.0986\n",
              "4656        2         boy pablo  ...              4  0.9000\n",
              "4657        2    chloe moriondo  ...              4  0.4880\n",
              "4658        2      Ailbhe Reddy  ...              4  0.1660\n",
              "4659        2       Spacey Jane  ...              4  0.6990\n",
              "\n",
              "[4660 rows x 26 columns]"
            ]
          },
          "metadata": {
            "tags": []
          },
          "execution_count": 158
        }
      ]
    },
    {
      "cell_type": "code",
      "metadata": {
        "id": "vBh_jQGei2x_",
        "colab_type": "code",
        "colab": {}
      },
      "source": [
        "train,val = train_test_split(model_data, test_size=0.2 )"
      ],
      "execution_count": 159,
      "outputs": []
    },
    {
      "cell_type": "code",
      "metadata": {
        "id": "A5oXVZzTy4e_",
        "colab_type": "code",
        "colab": {}
      },
      "source": [
        "target  = ['cat_idx']\n",
        "features  = set(model_data.columns)- set(target)"
      ],
      "execution_count": 162,
      "outputs": []
    },
    {
      "cell_type": "code",
      "metadata": {
        "id": "Iwuc1KBnDvNu",
        "colab_type": "code",
        "colab": {}
      },
      "source": [
        "y_train =model_data[target]\n",
        "x_train = model_data[features]"
      ],
      "execution_count": 167,
      "outputs": []
    },
    {
      "cell_type": "code",
      "metadata": {
        "id": "XsbLCZCzjqx6",
        "colab_type": "code",
        "colab": {}
      },
      "source": [
        "x_val = model_data[features]\n",
        "y_val = model_data[target]"
      ],
      "execution_count": 168,
      "outputs": []
    },
    {
      "cell_type": "code",
      "metadata": {
        "id": "9ebEzV6WKbHd",
        "colab_type": "code",
        "colab": {
          "base_uri": "https://localhost:8080/",
          "height": 34
        },
        "outputId": "1048569d-5ab2-49f0-a9f8-d465ec694059"
      },
      "source": [
        "type(y_train)"
      ],
      "execution_count": 178,
      "outputs": [
        {
          "output_type": "execute_result",
          "data": {
            "text/plain": [
              "pandas.core.frame.DataFrame"
            ]
          },
          "metadata": {
            "tags": []
          },
          "execution_count": 178
        }
      ]
    },
    {
      "cell_type": "code",
      "metadata": {
        "id": "39PNFPLCnab1",
        "colab_type": "code",
        "colab": {
          "base_uri": "https://localhost:8080/",
          "height": 34
        },
        "outputId": "dd751468-172d-42a3-9392-6bfcc478a7e8"
      },
      "source": [
        "train.shape"
      ],
      "execution_count": 161,
      "outputs": [
        {
          "output_type": "execute_result",
          "data": {
            "text/plain": [
              "(3728, 26)"
            ]
          },
          "metadata": {
            "tags": []
          },
          "execution_count": 161
        }
      ]
    },
    {
      "cell_type": "code",
      "metadata": {
        "id": "v0pZb96ZoXSN",
        "colab_type": "code",
        "colab": {}
      },
      "source": [
        "model = Sequential()\n",
        "model.add(Input(len(x_train.columns)))\n",
        "model.add(Dense(32,activation='relu'))\n",
        "model.add(Dense(32,activation='relu'))\n",
        "model.add(Dense(model_data[target].max()+1,activation='softmax'))"
      ],
      "execution_count": 171,
      "outputs": []
    },
    {
      "cell_type": "code",
      "metadata": {
        "id": "V_uThm-DGuz7",
        "colab_type": "code",
        "colab": {}
      },
      "source": [
        "model.compile(\n",
        "    optimizer ='adam',\n",
        "    metrics = 'accuracy',\n",
        ")"
      ],
      "execution_count": 172,
      "outputs": []
    },
    {
      "cell_type": "code",
      "metadata": {
        "id": "QtioHnt1IXAp",
        "colab_type": "code",
        "colab": {
          "base_uri": "https://localhost:8080/",
          "height": 1000
        },
        "outputId": "aba5e481-75d7-4293-aaac-cc10d207b14b"
      },
      "source": [
        "model.fit(x= x_train, y=y_train,\n",
        "          validation_data = [x_val,y_val],\n",
        "          batch_size=32,\n",
        "          epochs= 10\n",
        "\n",
        "        )"
      ],
      "execution_count": 173,
      "outputs": [
        {
          "output_type": "error",
          "ename": "ValueError",
          "evalue": "ignored",
          "traceback": [
            "\u001b[0;31m---------------------------------------------------------------------------\u001b[0m",
            "\u001b[0;31mTypeError\u001b[0m                                 Traceback (most recent call last)",
            "\u001b[0;32m/usr/local/lib/python3.6/dist-packages/tensorflow/python/data/util/structure.py\u001b[0m in \u001b[0;36mnormalize_element\u001b[0;34m(element)\u001b[0m\n\u001b[1;32m     92\u001b[0m       \u001b[0;32mtry\u001b[0m\u001b[0;34m:\u001b[0m\u001b[0;34m\u001b[0m\u001b[0;34m\u001b[0m\u001b[0m\n\u001b[0;32m---> 93\u001b[0;31m         \u001b[0mspec\u001b[0m \u001b[0;34m=\u001b[0m \u001b[0mtype_spec_from_value\u001b[0m\u001b[0;34m(\u001b[0m\u001b[0mt\u001b[0m\u001b[0;34m,\u001b[0m \u001b[0muse_fallback\u001b[0m\u001b[0;34m=\u001b[0m\u001b[0;32mFalse\u001b[0m\u001b[0;34m)\u001b[0m\u001b[0;34m\u001b[0m\u001b[0;34m\u001b[0m\u001b[0m\n\u001b[0m\u001b[1;32m     94\u001b[0m       \u001b[0;32mexcept\u001b[0m \u001b[0mTypeError\u001b[0m\u001b[0;34m:\u001b[0m\u001b[0;34m\u001b[0m\u001b[0;34m\u001b[0m\u001b[0m\n",
            "\u001b[0;32m/usr/local/lib/python3.6/dist-packages/tensorflow/python/data/util/structure.py\u001b[0m in \u001b[0;36mtype_spec_from_value\u001b[0;34m(element, use_fallback)\u001b[0m\n\u001b[1;32m    465\u001b[0m   raise TypeError(\"Could not build a TypeSpec for %r with type %s\" %\n\u001b[0;32m--> 466\u001b[0;31m                   (element, type(element).__name__))\n\u001b[0m\u001b[1;32m    467\u001b[0m \u001b[0;34m\u001b[0m\u001b[0m\n",
            "\u001b[0;31mTypeError\u001b[0m: Could not build a TypeSpec for      album_lead_artist  popularity  ...  explicit  liveness\n0               DaBaby         100  ...      True    0.1010\n1             Maroon 5          78  ...     False    0.0949\n2         Harry Styles          95  ...     False    0.3350\n3         Taylor Swift          89  ...     False    0.2500\n4            Jawsh 685          87  ...     False    0.2710\n...                ...         ...  ...       ...       ...\n4655      Rosie Carney          58  ...     False    0.1360\n4656         boy pablo          68  ...     False    0.1150\n4657    chloe moriondo          58  ...     False    0.0970\n4658      Ailbhe Reddy          41  ...     False    0.0970\n4659       Spacey Jane          57  ...     False    0.1080\n\n[4660 rows x 25 columns] with type DataFrame",
            "\nDuring handling of the above exception, another exception occurred:\n",
            "\u001b[0;31mValueError\u001b[0m                                Traceback (most recent call last)",
            "\u001b[0;32m<ipython-input-173-ca6a844fb536>\u001b[0m in \u001b[0;36m<module>\u001b[0;34m()\u001b[0m\n\u001b[1;32m      2\u001b[0m           \u001b[0mvalidation_data\u001b[0m \u001b[0;34m=\u001b[0m \u001b[0;34m[\u001b[0m\u001b[0mx_val\u001b[0m\u001b[0;34m,\u001b[0m\u001b[0my_val\u001b[0m\u001b[0;34m]\u001b[0m\u001b[0;34m,\u001b[0m\u001b[0;34m\u001b[0m\u001b[0;34m\u001b[0m\u001b[0m\n\u001b[1;32m      3\u001b[0m           \u001b[0mbatch_size\u001b[0m\u001b[0;34m=\u001b[0m\u001b[0;36m32\u001b[0m\u001b[0;34m,\u001b[0m\u001b[0;34m\u001b[0m\u001b[0;34m\u001b[0m\u001b[0m\n\u001b[0;32m----> 4\u001b[0;31m           \u001b[0mepochs\u001b[0m\u001b[0;34m=\u001b[0m \u001b[0;36m10\u001b[0m\u001b[0;34m\u001b[0m\u001b[0;34m\u001b[0m\u001b[0m\n\u001b[0m\u001b[1;32m      5\u001b[0m \u001b[0;34m\u001b[0m\u001b[0m\n\u001b[1;32m      6\u001b[0m         )\n",
            "\u001b[0;32m/usr/local/lib/python3.6/dist-packages/tensorflow/python/keras/engine/training.py\u001b[0m in \u001b[0;36m_method_wrapper\u001b[0;34m(self, *args, **kwargs)\u001b[0m\n\u001b[1;32m     64\u001b[0m   \u001b[0;32mdef\u001b[0m \u001b[0m_method_wrapper\u001b[0m\u001b[0;34m(\u001b[0m\u001b[0mself\u001b[0m\u001b[0;34m,\u001b[0m \u001b[0;34m*\u001b[0m\u001b[0margs\u001b[0m\u001b[0;34m,\u001b[0m \u001b[0;34m**\u001b[0m\u001b[0mkwargs\u001b[0m\u001b[0;34m)\u001b[0m\u001b[0;34m:\u001b[0m\u001b[0;34m\u001b[0m\u001b[0;34m\u001b[0m\u001b[0m\n\u001b[1;32m     65\u001b[0m     \u001b[0;32mif\u001b[0m \u001b[0;32mnot\u001b[0m \u001b[0mself\u001b[0m\u001b[0;34m.\u001b[0m\u001b[0m_in_multi_worker_mode\u001b[0m\u001b[0;34m(\u001b[0m\u001b[0;34m)\u001b[0m\u001b[0;34m:\u001b[0m  \u001b[0;31m# pylint: disable=protected-access\u001b[0m\u001b[0;34m\u001b[0m\u001b[0;34m\u001b[0m\u001b[0m\n\u001b[0;32m---> 66\u001b[0;31m       \u001b[0;32mreturn\u001b[0m \u001b[0mmethod\u001b[0m\u001b[0;34m(\u001b[0m\u001b[0mself\u001b[0m\u001b[0;34m,\u001b[0m \u001b[0;34m*\u001b[0m\u001b[0margs\u001b[0m\u001b[0;34m,\u001b[0m \u001b[0;34m**\u001b[0m\u001b[0mkwargs\u001b[0m\u001b[0;34m)\u001b[0m\u001b[0;34m\u001b[0m\u001b[0;34m\u001b[0m\u001b[0m\n\u001b[0m\u001b[1;32m     67\u001b[0m \u001b[0;34m\u001b[0m\u001b[0m\n\u001b[1;32m     68\u001b[0m     \u001b[0;31m# Running inside `run_distribute_coordinator` already.\u001b[0m\u001b[0;34m\u001b[0m\u001b[0;34m\u001b[0m\u001b[0;34m\u001b[0m\u001b[0m\n",
            "\u001b[0;32m/usr/local/lib/python3.6/dist-packages/tensorflow/python/keras/engine/training.py\u001b[0m in \u001b[0;36mfit\u001b[0;34m(self, x, y, batch_size, epochs, verbose, callbacks, validation_split, validation_data, shuffle, class_weight, sample_weight, initial_epoch, steps_per_epoch, validation_steps, validation_batch_size, validation_freq, max_queue_size, workers, use_multiprocessing)\u001b[0m\n\u001b[1;32m    813\u001b[0m           \u001b[0mworkers\u001b[0m\u001b[0;34m=\u001b[0m\u001b[0mworkers\u001b[0m\u001b[0;34m,\u001b[0m\u001b[0;34m\u001b[0m\u001b[0;34m\u001b[0m\u001b[0m\n\u001b[1;32m    814\u001b[0m           \u001b[0muse_multiprocessing\u001b[0m\u001b[0;34m=\u001b[0m\u001b[0muse_multiprocessing\u001b[0m\u001b[0;34m,\u001b[0m\u001b[0;34m\u001b[0m\u001b[0;34m\u001b[0m\u001b[0m\n\u001b[0;32m--> 815\u001b[0;31m           model=self)\n\u001b[0m\u001b[1;32m    816\u001b[0m \u001b[0;34m\u001b[0m\u001b[0m\n\u001b[1;32m    817\u001b[0m       \u001b[0;31m# Container that configures and calls `tf.keras.Callback`s.\u001b[0m\u001b[0;34m\u001b[0m\u001b[0;34m\u001b[0m\u001b[0;34m\u001b[0m\u001b[0m\n",
            "\u001b[0;32m/usr/local/lib/python3.6/dist-packages/tensorflow/python/keras/engine/data_adapter.py\u001b[0m in \u001b[0;36m__init__\u001b[0;34m(self, x, y, sample_weight, batch_size, steps_per_epoch, initial_epoch, epochs, shuffle, class_weight, max_queue_size, workers, use_multiprocessing, model)\u001b[0m\n\u001b[1;32m   1110\u001b[0m         \u001b[0muse_multiprocessing\u001b[0m\u001b[0;34m=\u001b[0m\u001b[0muse_multiprocessing\u001b[0m\u001b[0;34m,\u001b[0m\u001b[0;34m\u001b[0m\u001b[0;34m\u001b[0m\u001b[0m\n\u001b[1;32m   1111\u001b[0m         \u001b[0mdistribution_strategy\u001b[0m\u001b[0;34m=\u001b[0m\u001b[0mds_context\u001b[0m\u001b[0;34m.\u001b[0m\u001b[0mget_strategy\u001b[0m\u001b[0;34m(\u001b[0m\u001b[0;34m)\u001b[0m\u001b[0;34m,\u001b[0m\u001b[0;34m\u001b[0m\u001b[0;34m\u001b[0m\u001b[0m\n\u001b[0;32m-> 1112\u001b[0;31m         model=model)\n\u001b[0m\u001b[1;32m   1113\u001b[0m \u001b[0;34m\u001b[0m\u001b[0m\n\u001b[1;32m   1114\u001b[0m     \u001b[0mstrategy\u001b[0m \u001b[0;34m=\u001b[0m \u001b[0mds_context\u001b[0m\u001b[0;34m.\u001b[0m\u001b[0mget_strategy\u001b[0m\u001b[0;34m(\u001b[0m\u001b[0;34m)\u001b[0m\u001b[0;34m\u001b[0m\u001b[0;34m\u001b[0m\u001b[0m\n",
            "\u001b[0;32m/usr/local/lib/python3.6/dist-packages/tensorflow/python/keras/engine/data_adapter.py\u001b[0m in \u001b[0;36m__init__\u001b[0;34m(self, x, y, sample_weights, sample_weight_modes, batch_size, epochs, steps, shuffle, **kwargs)\u001b[0m\n\u001b[1;32m    362\u001b[0m     \u001b[0mindices_dataset\u001b[0m \u001b[0;34m=\u001b[0m \u001b[0mindices_dataset\u001b[0m\u001b[0;34m.\u001b[0m\u001b[0mflat_map\u001b[0m\u001b[0;34m(\u001b[0m\u001b[0mslice_batch_indices\u001b[0m\u001b[0;34m)\u001b[0m\u001b[0;34m\u001b[0m\u001b[0;34m\u001b[0m\u001b[0m\n\u001b[1;32m    363\u001b[0m \u001b[0;34m\u001b[0m\u001b[0m\n\u001b[0;32m--> 364\u001b[0;31m     \u001b[0mdataset\u001b[0m \u001b[0;34m=\u001b[0m \u001b[0mself\u001b[0m\u001b[0;34m.\u001b[0m\u001b[0mslice_inputs\u001b[0m\u001b[0;34m(\u001b[0m\u001b[0mindices_dataset\u001b[0m\u001b[0;34m,\u001b[0m \u001b[0minputs\u001b[0m\u001b[0;34m)\u001b[0m\u001b[0;34m\u001b[0m\u001b[0;34m\u001b[0m\u001b[0m\n\u001b[0m\u001b[1;32m    365\u001b[0m \u001b[0;34m\u001b[0m\u001b[0m\n\u001b[1;32m    366\u001b[0m     \u001b[0;32mif\u001b[0m \u001b[0mshuffle\u001b[0m \u001b[0;34m==\u001b[0m \u001b[0;34m\"batch\"\u001b[0m\u001b[0;34m:\u001b[0m\u001b[0;34m\u001b[0m\u001b[0;34m\u001b[0m\u001b[0m\n",
            "\u001b[0;32m/usr/local/lib/python3.6/dist-packages/tensorflow/python/keras/engine/data_adapter.py\u001b[0m in \u001b[0;36mslice_inputs\u001b[0;34m(self, indices_dataset, inputs)\u001b[0m\n\u001b[1;32m    388\u001b[0m     dataset = dataset_ops.DatasetV2.zip((\n\u001b[1;32m    389\u001b[0m         \u001b[0mindices_dataset\u001b[0m\u001b[0;34m,\u001b[0m\u001b[0;34m\u001b[0m\u001b[0;34m\u001b[0m\u001b[0m\n\u001b[0;32m--> 390\u001b[0;31m         \u001b[0mdataset_ops\u001b[0m\u001b[0;34m.\u001b[0m\u001b[0mDatasetV2\u001b[0m\u001b[0;34m.\u001b[0m\u001b[0mfrom_tensors\u001b[0m\u001b[0;34m(\u001b[0m\u001b[0minputs\u001b[0m\u001b[0;34m)\u001b[0m\u001b[0;34m.\u001b[0m\u001b[0mrepeat\u001b[0m\u001b[0;34m(\u001b[0m\u001b[0;34m)\u001b[0m\u001b[0;34m\u001b[0m\u001b[0;34m\u001b[0m\u001b[0m\n\u001b[0m\u001b[1;32m    391\u001b[0m     ))\n\u001b[1;32m    392\u001b[0m \u001b[0;34m\u001b[0m\u001b[0m\n",
            "\u001b[0;32m/usr/local/lib/python3.6/dist-packages/tensorflow/python/data/ops/dataset_ops.py\u001b[0m in \u001b[0;36mfrom_tensors\u001b[0;34m(tensors)\u001b[0m\n\u001b[1;32m    560\u001b[0m       \u001b[0mDataset\u001b[0m\u001b[0;34m:\u001b[0m \u001b[0mA\u001b[0m\u001b[0;31m \u001b[0m\u001b[0;31m`\u001b[0m\u001b[0mDataset\u001b[0m\u001b[0;31m`\u001b[0m\u001b[0;34m.\u001b[0m\u001b[0;34m\u001b[0m\u001b[0;34m\u001b[0m\u001b[0m\n\u001b[1;32m    561\u001b[0m     \"\"\"\n\u001b[0;32m--> 562\u001b[0;31m     \u001b[0;32mreturn\u001b[0m \u001b[0mTensorDataset\u001b[0m\u001b[0;34m(\u001b[0m\u001b[0mtensors\u001b[0m\u001b[0;34m)\u001b[0m\u001b[0;34m\u001b[0m\u001b[0;34m\u001b[0m\u001b[0m\n\u001b[0m\u001b[1;32m    563\u001b[0m \u001b[0;34m\u001b[0m\u001b[0m\n\u001b[1;32m    564\u001b[0m   \u001b[0;34m@\u001b[0m\u001b[0mstaticmethod\u001b[0m\u001b[0;34m\u001b[0m\u001b[0;34m\u001b[0m\u001b[0m\n",
            "\u001b[0;32m/usr/local/lib/python3.6/dist-packages/tensorflow/python/data/ops/dataset_ops.py\u001b[0m in \u001b[0;36m__init__\u001b[0;34m(self, element)\u001b[0m\n\u001b[1;32m   2837\u001b[0m   \u001b[0;32mdef\u001b[0m \u001b[0m__init__\u001b[0m\u001b[0;34m(\u001b[0m\u001b[0mself\u001b[0m\u001b[0;34m,\u001b[0m \u001b[0melement\u001b[0m\u001b[0;34m)\u001b[0m\u001b[0;34m:\u001b[0m\u001b[0;34m\u001b[0m\u001b[0;34m\u001b[0m\u001b[0m\n\u001b[1;32m   2838\u001b[0m     \u001b[0;34m\"\"\"See `Dataset.from_tensors()` for details.\"\"\"\u001b[0m\u001b[0;34m\u001b[0m\u001b[0;34m\u001b[0m\u001b[0m\n\u001b[0;32m-> 2839\u001b[0;31m     \u001b[0melement\u001b[0m \u001b[0;34m=\u001b[0m \u001b[0mstructure\u001b[0m\u001b[0;34m.\u001b[0m\u001b[0mnormalize_element\u001b[0m\u001b[0;34m(\u001b[0m\u001b[0melement\u001b[0m\u001b[0;34m)\u001b[0m\u001b[0;34m\u001b[0m\u001b[0;34m\u001b[0m\u001b[0m\n\u001b[0m\u001b[1;32m   2840\u001b[0m     \u001b[0mself\u001b[0m\u001b[0;34m.\u001b[0m\u001b[0m_structure\u001b[0m \u001b[0;34m=\u001b[0m \u001b[0mstructure\u001b[0m\u001b[0;34m.\u001b[0m\u001b[0mtype_spec_from_value\u001b[0m\u001b[0;34m(\u001b[0m\u001b[0melement\u001b[0m\u001b[0;34m)\u001b[0m\u001b[0;34m\u001b[0m\u001b[0;34m\u001b[0m\u001b[0m\n\u001b[1;32m   2841\u001b[0m     \u001b[0mself\u001b[0m\u001b[0;34m.\u001b[0m\u001b[0m_tensors\u001b[0m \u001b[0;34m=\u001b[0m \u001b[0mstructure\u001b[0m\u001b[0;34m.\u001b[0m\u001b[0mto_tensor_list\u001b[0m\u001b[0;34m(\u001b[0m\u001b[0mself\u001b[0m\u001b[0;34m.\u001b[0m\u001b[0m_structure\u001b[0m\u001b[0;34m,\u001b[0m \u001b[0melement\u001b[0m\u001b[0;34m)\u001b[0m\u001b[0;34m\u001b[0m\u001b[0;34m\u001b[0m\u001b[0m\n",
            "\u001b[0;32m/usr/local/lib/python3.6/dist-packages/tensorflow/python/data/util/structure.py\u001b[0m in \u001b[0;36mnormalize_element\u001b[0;34m(element)\u001b[0m\n\u001b[1;32m     96\u001b[0m         \u001b[0;31m# the value. As a fallback try converting the value to a tensor.\u001b[0m\u001b[0;34m\u001b[0m\u001b[0;34m\u001b[0m\u001b[0;34m\u001b[0m\u001b[0m\n\u001b[1;32m     97\u001b[0m         normalized_components.append(\n\u001b[0;32m---> 98\u001b[0;31m             ops.convert_to_tensor(t, name=\"component_%d\" % i))\n\u001b[0m\u001b[1;32m     99\u001b[0m       \u001b[0;32melse\u001b[0m\u001b[0;34m:\u001b[0m\u001b[0;34m\u001b[0m\u001b[0;34m\u001b[0m\u001b[0m\n\u001b[1;32m    100\u001b[0m         \u001b[0;32mif\u001b[0m \u001b[0misinstance\u001b[0m\u001b[0;34m(\u001b[0m\u001b[0mspec\u001b[0m\u001b[0;34m,\u001b[0m \u001b[0msparse_tensor\u001b[0m\u001b[0;34m.\u001b[0m\u001b[0mSparseTensorSpec\u001b[0m\u001b[0;34m)\u001b[0m\u001b[0;34m:\u001b[0m\u001b[0;34m\u001b[0m\u001b[0;34m\u001b[0m\u001b[0m\n",
            "\u001b[0;32m/usr/local/lib/python3.6/dist-packages/tensorflow/python/framework/ops.py\u001b[0m in \u001b[0;36mconvert_to_tensor\u001b[0;34m(value, dtype, name, as_ref, preferred_dtype, dtype_hint, ctx, accepted_result_types)\u001b[0m\n\u001b[1;32m   1339\u001b[0m \u001b[0;34m\u001b[0m\u001b[0m\n\u001b[1;32m   1340\u001b[0m     \u001b[0;32mif\u001b[0m \u001b[0mret\u001b[0m \u001b[0;32mis\u001b[0m \u001b[0;32mNone\u001b[0m\u001b[0;34m:\u001b[0m\u001b[0;34m\u001b[0m\u001b[0;34m\u001b[0m\u001b[0m\n\u001b[0;32m-> 1341\u001b[0;31m       \u001b[0mret\u001b[0m \u001b[0;34m=\u001b[0m \u001b[0mconversion_func\u001b[0m\u001b[0;34m(\u001b[0m\u001b[0mvalue\u001b[0m\u001b[0;34m,\u001b[0m \u001b[0mdtype\u001b[0m\u001b[0;34m=\u001b[0m\u001b[0mdtype\u001b[0m\u001b[0;34m,\u001b[0m \u001b[0mname\u001b[0m\u001b[0;34m=\u001b[0m\u001b[0mname\u001b[0m\u001b[0;34m,\u001b[0m \u001b[0mas_ref\u001b[0m\u001b[0;34m=\u001b[0m\u001b[0mas_ref\u001b[0m\u001b[0;34m)\u001b[0m\u001b[0;34m\u001b[0m\u001b[0;34m\u001b[0m\u001b[0m\n\u001b[0m\u001b[1;32m   1342\u001b[0m \u001b[0;34m\u001b[0m\u001b[0m\n\u001b[1;32m   1343\u001b[0m     \u001b[0;32mif\u001b[0m \u001b[0mret\u001b[0m \u001b[0;32mis\u001b[0m \u001b[0mNotImplemented\u001b[0m\u001b[0;34m:\u001b[0m\u001b[0;34m\u001b[0m\u001b[0;34m\u001b[0m\u001b[0m\n",
            "\u001b[0;32m/usr/local/lib/python3.6/dist-packages/tensorflow/python/framework/constant_op.py\u001b[0m in \u001b[0;36m_constant_tensor_conversion_function\u001b[0;34m(v, dtype, name, as_ref)\u001b[0m\n\u001b[1;32m    319\u001b[0m                                          as_ref=False):\n\u001b[1;32m    320\u001b[0m   \u001b[0m_\u001b[0m \u001b[0;34m=\u001b[0m \u001b[0mas_ref\u001b[0m\u001b[0;34m\u001b[0m\u001b[0;34m\u001b[0m\u001b[0m\n\u001b[0;32m--> 321\u001b[0;31m   \u001b[0;32mreturn\u001b[0m \u001b[0mconstant\u001b[0m\u001b[0;34m(\u001b[0m\u001b[0mv\u001b[0m\u001b[0;34m,\u001b[0m \u001b[0mdtype\u001b[0m\u001b[0;34m=\u001b[0m\u001b[0mdtype\u001b[0m\u001b[0;34m,\u001b[0m \u001b[0mname\u001b[0m\u001b[0;34m=\u001b[0m\u001b[0mname\u001b[0m\u001b[0;34m)\u001b[0m\u001b[0;34m\u001b[0m\u001b[0;34m\u001b[0m\u001b[0m\n\u001b[0m\u001b[1;32m    322\u001b[0m \u001b[0;34m\u001b[0m\u001b[0m\n\u001b[1;32m    323\u001b[0m \u001b[0;34m\u001b[0m\u001b[0m\n",
            "\u001b[0;32m/usr/local/lib/python3.6/dist-packages/tensorflow/python/framework/constant_op.py\u001b[0m in \u001b[0;36mconstant\u001b[0;34m(value, dtype, shape, name)\u001b[0m\n\u001b[1;32m    260\u001b[0m   \"\"\"\n\u001b[1;32m    261\u001b[0m   return _constant_impl(value, dtype, shape, name, verify_shape=False,\n\u001b[0;32m--> 262\u001b[0;31m                         allow_broadcast=True)\n\u001b[0m\u001b[1;32m    263\u001b[0m \u001b[0;34m\u001b[0m\u001b[0m\n\u001b[1;32m    264\u001b[0m \u001b[0;34m\u001b[0m\u001b[0m\n",
            "\u001b[0;32m/usr/local/lib/python3.6/dist-packages/tensorflow/python/framework/constant_op.py\u001b[0m in \u001b[0;36m_constant_impl\u001b[0;34m(value, dtype, shape, name, verify_shape, allow_broadcast)\u001b[0m\n\u001b[1;32m    268\u001b[0m   \u001b[0mctx\u001b[0m \u001b[0;34m=\u001b[0m \u001b[0mcontext\u001b[0m\u001b[0;34m.\u001b[0m\u001b[0mcontext\u001b[0m\u001b[0;34m(\u001b[0m\u001b[0;34m)\u001b[0m\u001b[0;34m\u001b[0m\u001b[0;34m\u001b[0m\u001b[0m\n\u001b[1;32m    269\u001b[0m   \u001b[0;32mif\u001b[0m \u001b[0mctx\u001b[0m\u001b[0;34m.\u001b[0m\u001b[0mexecuting_eagerly\u001b[0m\u001b[0;34m(\u001b[0m\u001b[0;34m)\u001b[0m\u001b[0;34m:\u001b[0m\u001b[0;34m\u001b[0m\u001b[0;34m\u001b[0m\u001b[0m\n\u001b[0;32m--> 270\u001b[0;31m     \u001b[0mt\u001b[0m \u001b[0;34m=\u001b[0m \u001b[0mconvert_to_eager_tensor\u001b[0m\u001b[0;34m(\u001b[0m\u001b[0mvalue\u001b[0m\u001b[0;34m,\u001b[0m \u001b[0mctx\u001b[0m\u001b[0;34m,\u001b[0m \u001b[0mdtype\u001b[0m\u001b[0;34m)\u001b[0m\u001b[0;34m\u001b[0m\u001b[0;34m\u001b[0m\u001b[0m\n\u001b[0m\u001b[1;32m    271\u001b[0m     \u001b[0;32mif\u001b[0m \u001b[0mshape\u001b[0m \u001b[0;32mis\u001b[0m \u001b[0;32mNone\u001b[0m\u001b[0;34m:\u001b[0m\u001b[0;34m\u001b[0m\u001b[0;34m\u001b[0m\u001b[0m\n\u001b[1;32m    272\u001b[0m       \u001b[0;32mreturn\u001b[0m \u001b[0mt\u001b[0m\u001b[0;34m\u001b[0m\u001b[0;34m\u001b[0m\u001b[0m\n",
            "\u001b[0;32m/usr/local/lib/python3.6/dist-packages/tensorflow/python/framework/constant_op.py\u001b[0m in \u001b[0;36mconvert_to_eager_tensor\u001b[0;34m(value, ctx, dtype)\u001b[0m\n\u001b[1;32m     94\u001b[0m       \u001b[0mdtype\u001b[0m \u001b[0;34m=\u001b[0m \u001b[0mdtypes\u001b[0m\u001b[0;34m.\u001b[0m\u001b[0mas_dtype\u001b[0m\u001b[0;34m(\u001b[0m\u001b[0mdtype\u001b[0m\u001b[0;34m)\u001b[0m\u001b[0;34m.\u001b[0m\u001b[0mas_datatype_enum\u001b[0m\u001b[0;34m\u001b[0m\u001b[0;34m\u001b[0m\u001b[0m\n\u001b[1;32m     95\u001b[0m   \u001b[0mctx\u001b[0m\u001b[0;34m.\u001b[0m\u001b[0mensure_initialized\u001b[0m\u001b[0;34m(\u001b[0m\u001b[0;34m)\u001b[0m\u001b[0;34m\u001b[0m\u001b[0;34m\u001b[0m\u001b[0m\n\u001b[0;32m---> 96\u001b[0;31m   \u001b[0;32mreturn\u001b[0m \u001b[0mops\u001b[0m\u001b[0;34m.\u001b[0m\u001b[0mEagerTensor\u001b[0m\u001b[0;34m(\u001b[0m\u001b[0mvalue\u001b[0m\u001b[0;34m,\u001b[0m \u001b[0mctx\u001b[0m\u001b[0;34m.\u001b[0m\u001b[0mdevice_name\u001b[0m\u001b[0;34m,\u001b[0m \u001b[0mdtype\u001b[0m\u001b[0;34m)\u001b[0m\u001b[0;34m\u001b[0m\u001b[0;34m\u001b[0m\u001b[0m\n\u001b[0m\u001b[1;32m     97\u001b[0m \u001b[0;34m\u001b[0m\u001b[0m\n\u001b[1;32m     98\u001b[0m \u001b[0;34m\u001b[0m\u001b[0m\n",
            "\u001b[0;31mValueError\u001b[0m: Failed to convert a NumPy array to a Tensor (Unsupported object type int)."
          ]
        }
      ]
    }
  ]
}